{
 "cells": [
  {
   "cell_type": "code",
   "execution_count": 2,
   "id": "07be6623-542e-40db-8f79-e529e96af2c7",
   "metadata": {},
   "outputs": [
    {
     "name": "stdout",
     "output_type": "stream",
     "text": [
      "happy\n"
     ]
    }
   ],
   "source": [
    "print('happy')"
   ]
  },
  {
   "cell_type": "code",
   "execution_count": null,
   "id": "4f92c7ef-55ad-4453-9f98-d20bd16c237c",
   "metadata": {},
   "outputs": [],
   "source": [
    "# Basic string operations\n",
    "# Writing your first program\n",
    "# Best practices for code formatting (PEP 8)"
   ]
  },
  {
   "cell_type": "code",
   "execution_count": 6,
   "id": "50933b9b-8b62-4cde-96d5-cc540a7eaa2f",
   "metadata": {},
   "outputs": [
    {
     "name": "stdout",
     "output_type": "stream",
     "text": [
      "u\n",
      "u\n"
     ]
    }
   ],
   "source": [
    "# INDEXING\n",
    "x = \"jisu.das\"\n",
    "y = \"mohit.chouhan\"\n",
    "\n",
    "# access character \n",
    "print(x[3])\n",
    "print(y[9])"
   ]
  },
  {
   "cell_type": "code",
   "execution_count": 24,
   "id": "0da4051c-abdd-4fd0-9e4a-e971ec0a0cbe",
   "metadata": {},
   "outputs": [
    {
     "name": "stdout",
     "output_type": "stream",
     "text": [
      "mohit\n",
      "<class 'str'>\n"
     ]
    }
   ],
   "source": [
    "# slicing\n",
    "# we get a substring or smaller part of complete string\n",
    "x = \"jisu.das\"\n",
    "y = \"mohit.chouhan\"\n",
    "\n",
    "# access character\n",
    "# print(y[start_index: end_index+1])\n",
    "\n",
    "print(y[0:5])\n",
    "print(type(y[0:5]))"
   ]
  },
  {
   "cell_type": "code",
   "execution_count": 9,
   "id": "a42e1f06-0bf4-4613-97df-b1f5b4c2c934",
   "metadata": {},
   "outputs": [
    {
     "name": "stdout",
     "output_type": "stream",
     "text": [
      "a\n"
     ]
    }
   ],
   "source": [
    "x = \"jisu.das\"\n",
    "y = \"mohit.chouhan\"\n",
    "\n",
    "# access character\n",
    "\n",
    "print(y[-2])"
   ]
  },
  {
   "cell_type": "code",
   "execution_count": 10,
   "id": "e8b0750b-96d3-45cc-a79a-16bad7109d2e",
   "metadata": {},
   "outputs": [
    {
     "name": "stdout",
     "output_type": "stream",
     "text": [
      "prerna kulkarni\n"
     ]
    }
   ],
   "source": [
    "# concatenation\n",
    "\n",
    "first_name = \"prerna\"\n",
    "last_name = \"kulkarni\"\n",
    "\n",
    "full_name = first_name + \" \" + last_name\n",
    "\n",
    "print(full_name)"
   ]
  },
  {
   "cell_type": "code",
   "execution_count": 11,
   "id": "6c9c8f0c-177a-494f-9462-1e69fff9c31a",
   "metadata": {},
   "outputs": [
    {
     "name": "stdout",
     "output_type": "stream",
     "text": [
      "PRERNA\n"
     ]
    }
   ],
   "source": [
    "# other usefull methods\n",
    "first_name = \"prerna\"\n",
    "last_name = \"kulkarni\"\n",
    "\n",
    "print(first_name.upper())"
   ]
  },
  {
   "cell_type": "code",
   "execution_count": 12,
   "id": "28433cd1-457a-4a1c-a319-8c6e17fdb62c",
   "metadata": {},
   "outputs": [
    {
     "name": "stdout",
     "output_type": "stream",
     "text": [
      "Prerna\n"
     ]
    }
   ],
   "source": [
    "# other usefull methods\n",
    "first_name = \"prerna\"\n",
    "last_name = \"kulkarni\"\n",
    "\n",
    "print(first_name.title())"
   ]
  },
  {
   "cell_type": "code",
   "execution_count": 13,
   "id": "ff373e46-76bd-4e19-abf6-a8f3c90c1fb2",
   "metadata": {},
   "outputs": [
    {
     "data": {
      "text/plain": [
       "'prerna kulkarni'"
      ]
     },
     "execution_count": 13,
     "metadata": {},
     "output_type": "execute_result"
    }
   ],
   "source": [
    "full_name"
   ]
  },
  {
   "cell_type": "code",
   "execution_count": 14,
   "id": "8385344c-adc0-419f-b054-4ad76cb63f8f",
   "metadata": {},
   "outputs": [
    {
     "data": {
      "text/plain": [
       "['prerna', 'kulkarni']"
      ]
     },
     "execution_count": 14,
     "metadata": {},
     "output_type": "execute_result"
    }
   ],
   "source": [
    "full_name.split(\" \")"
   ]
  },
  {
   "cell_type": "code",
   "execution_count": 17,
   "id": "54ac0ab1-2133-4ca0-be04-165258a257a3",
   "metadata": {},
   "outputs": [
    {
     "name": "stdout",
     "output_type": "stream",
     "text": [
      "['The', 'quick', 'brown', 'fox', 'jumps', 'over', 'a', 'lazy', 'dog']\n"
     ]
    }
   ],
   "source": [
    "sentence = \"The quick brown fox jumps over a lazy dog\"\n",
    "list_of_words = sentence.split(\" \")\n",
    "print(list_of_words)"
   ]
  },
  {
   "cell_type": "code",
   "execution_count": 18,
   "id": "979bd4c3-f68a-4749-b140-73ef7bbd2dac",
   "metadata": {},
   "outputs": [
    {
     "name": "stdout",
     "output_type": "stream",
     "text": [
      "<class 'list'>\n"
     ]
    }
   ],
   "source": [
    "print(type(list_of_words))"
   ]
  },
  {
   "cell_type": "code",
   "execution_count": 19,
   "id": "bc995b14-19ef-4fea-9482-a5e6ce64f823",
   "metadata": {},
   "outputs": [
    {
     "name": "stdout",
     "output_type": "stream",
     "text": [
      "The\n"
     ]
    }
   ],
   "source": [
    "# Indexing on List\n",
    "print(list_of_words[0])"
   ]
  },
  {
   "cell_type": "code",
   "execution_count": 20,
   "id": "423e89ed-be27-4450-8e28-90659650fc07",
   "metadata": {},
   "outputs": [
    {
     "name": "stdout",
     "output_type": "stream",
     "text": [
      "dog\n"
     ]
    }
   ],
   "source": [
    "print(list_of_words[-1])"
   ]
  },
  {
   "cell_type": "code",
   "execution_count": 21,
   "id": "f03bd92a-29bd-4798-b48e-536b1c3d490d",
   "metadata": {},
   "outputs": [
    {
     "name": "stdout",
     "output_type": "stream",
     "text": [
      "lazy\n"
     ]
    }
   ],
   "source": [
    "print(list_of_words[-2])"
   ]
  },
  {
   "cell_type": "code",
   "execution_count": 22,
   "id": "2d94103e-c119-4a54-87cb-0b6616ea810f",
   "metadata": {},
   "outputs": [
    {
     "data": {
      "text/plain": [
       "['The', 'quick', 'brown', 'fox']"
      ]
     },
     "execution_count": 22,
     "metadata": {},
     "output_type": "execute_result"
    }
   ],
   "source": [
    "# slicing on list\n",
    "# gives me a sublist or smaller list\n",
    "# list_of_words[start_index: end_index+1]\n",
    "list_of_words[0: 4]"
   ]
  },
  {
   "cell_type": "code",
   "execution_count": 26,
   "id": "29670868-ee5f-4ffd-a386-2ccb2a8eab49",
   "metadata": {},
   "outputs": [],
   "source": [
    "# PEP8 GUIDELINES\n",
    "# Python's Style Guide\n",
    "\n",
    "# bigSnake -> camelCase\n",
    "# big_snake -> snake_case\n",
    "\n",
    "# 1. Use 4 spaces for indentation\n",
    "# 2. Limit lines to 79 chars. Go to the next line when this happens\n",
    "# 3. use snake_case for variable and function names\n",
    "# 4. use UPPER_CASE for constants.\n",
    "# 5. add spaces around operators.\n",
    "# 6. keep functions and classes separated by 2 blank lines"
   ]
  },
  {
   "cell_type": "code",
   "execution_count": 27,
   "id": "4c851f80-eed3-4278-b042-2c88b3a5cbca",
   "metadata": {},
   "outputs": [
    {
     "data": {
      "text/plain": [
       "'sv'"
      ]
     },
     "execution_count": 27,
     "metadata": {},
     "output_type": "execute_result"
    }
   ],
   "source": [
    "x = \"svdhole\"\n",
    "# x[start_index:end_index+1]\n",
    "x[0: 1+1]"
   ]
  },
  {
   "cell_type": "code",
   "execution_count": 28,
   "id": "18192b35-b6be-44d3-826d-d6e3e1bbb9a3",
   "metadata": {},
   "outputs": [
    {
     "data": {
      "text/plain": [
       "'dhole'"
      ]
     },
     "execution_count": 28,
     "metadata": {},
     "output_type": "execute_result"
    }
   ],
   "source": [
    "x[2: 7]"
   ]
  },
  {
   "cell_type": "code",
   "execution_count": 29,
   "id": "6d7196db-9481-47cb-a4dc-ec73b22b99b8",
   "metadata": {},
   "outputs": [
    {
     "data": {
      "text/plain": [
       "'svdhole'"
      ]
     },
     "execution_count": 29,
     "metadata": {},
     "output_type": "execute_result"
    }
   ],
   "source": [
    "x"
   ]
  },
  {
   "cell_type": "code",
   "execution_count": 32,
   "id": "0f3190d5-db81-427a-bb3c-a760ed1857f9",
   "metadata": {},
   "outputs": [],
   "source": [
    "# help(str)"
   ]
  },
  {
   "cell_type": "code",
   "execution_count": 41,
   "id": "08b5aa15-4d42-452e-b804-0ac314a78cdd",
   "metadata": {},
   "outputs": [
    {
     "name": "stdin",
     "output_type": "stream",
     "text": [
      "Type a number 5\n"
     ]
    },
    {
     "name": "stdout",
     "output_type": "stream",
     "text": [
      "nooooo!!\n"
     ]
    }
   ],
   "source": [
    "# Conditional Statements\n",
    "# used for decision making\n",
    "# input always gives me string, to convert it into integer\n",
    "# i have to type cast it like int()\n",
    "\n",
    "x = int(input('Type a number'))\n",
    "\n",
    "if x > 20:\n",
    "    print('Wohooo!!')\n",
    "    y = x + 100\n",
    "    print(y)\n",
    "else:\n",
    "    print('nooooo!!')\n",
    "    y = x + 10"
   ]
  },
  {
   "cell_type": "code",
   "execution_count": 39,
   "id": "c0e4f615-f311-4ea3-8a33-84ac60f06705",
   "metadata": {},
   "outputs": [
    {
     "name": "stdin",
     "output_type": "stream",
     "text": [
      "Type a number 5\n"
     ]
    },
    {
     "name": "stdout",
     "output_type": "stream",
     "text": [
      "nooooo!!\n",
      "15\n"
     ]
    }
   ],
   "source": [
    "# Conditional Statements\n",
    "# used for decision making\n",
    "# input always gives me string, to convert it into integer\n",
    "# i have to type cast it like int()\n",
    "\n",
    "x = int(input('Type a number'))\n",
    "\n",
    "if x > 20:\n",
    "    print('Wohooo!!')\n",
    "    y = x + 100\n",
    "else:\n",
    "    print('nooooo!!')\n",
    "    y = x + 10\n",
    "\n",
    "print(y)"
   ]
  },
  {
   "cell_type": "code",
   "execution_count": 42,
   "id": "44ae36be-b8e4-40de-9a0e-2a2c7d79c21c",
   "metadata": {},
   "outputs": [
    {
     "name": "stdin",
     "output_type": "stream",
     "text": [
      "Type a number 15\n"
     ]
    },
    {
     "name": "stdout",
     "output_type": "stream",
     "text": [
      "I am in between 10 and 20\n",
      "Magic\n"
     ]
    }
   ],
   "source": [
    "# if elif\n",
    "\n",
    "x = int(input('Type a number'))\n",
    "\n",
    "if x > 20:\n",
    "    print('Wohooo!!')\n",
    "    y = x + 100\n",
    "elif x > 10:\n",
    "    print('I am in between 10 and 20')\n",
    "    y = \"Magic\"\n",
    "else:\n",
    "    print('nooooo!!')\n",
    "    y = x + 10\n",
    "\n",
    "print(y)"
   ]
  },
  {
   "cell_type": "code",
   "execution_count": 46,
   "id": "080cccd5-e90e-45de-bf08-f6c931314fbd",
   "metadata": {},
   "outputs": [
    {
     "name": "stdout",
     "output_type": "stream",
     "text": [
      "apple\n",
      "mango\n",
      "banana\n"
     ]
    }
   ],
   "source": [
    "# Loops\n",
    "# for loop\n",
    "\n",
    "list_of_fruits = ['apple', 'mango', 'banana', 'kiwi']\n",
    "print(list_of_fruits[0])\n",
    "print(list_of_fruits[1])\n",
    "print(list_of_fruits[2])"
   ]
  },
  {
   "cell_type": "code",
   "execution_count": 49,
   "id": "7cce49c7-f5e1-4a46-abbe-2907ac55d58e",
   "metadata": {},
   "outputs": [
    {
     "name": "stdout",
     "output_type": "stream",
     "text": [
      "apple\n",
      "mango\n",
      "banana\n",
      "kiwi\n",
      "dragon_fruit\n"
     ]
    }
   ],
   "source": [
    "list_of_fruits = ['apple', 'mango', 'banana', 'kiwi', 'dragon_fruit']\n",
    "for fruit in list_of_fruits:\n",
    "    print(fruit)"
   ]
  },
  {
   "cell_type": "code",
   "execution_count": 50,
   "id": "4424494f-eba6-4952-98da-aeae02255ac3",
   "metadata": {},
   "outputs": [
    {
     "name": "stdout",
     "output_type": "stream",
     "text": [
      "odd 45\n",
      "even 200\n",
      "even 12\n",
      "even 46\n",
      "even 78\n",
      "odd 3\n",
      "odd 17\n"
     ]
    }
   ],
   "source": [
    "list_of_numbers = [45, 200, 12, 46, 78, 3, 17]\n",
    "\n",
    "for num in list_of_numbers:\n",
    "    if num%2==0:\n",
    "        print('even', num)\n",
    "    else:\n",
    "        print('odd', num)"
   ]
  },
  {
   "cell_type": "code",
   "execution_count": 51,
   "id": "fd812d11-4049-481f-a144-85b66c9169b0",
   "metadata": {},
   "outputs": [
    {
     "data": {
      "text/plain": [
       "1"
      ]
     },
     "execution_count": 51,
     "metadata": {},
     "output_type": "execute_result"
    }
   ],
   "source": [
    "num = 45\n",
    "num%2"
   ]
  },
  {
   "cell_type": "code",
   "execution_count": 52,
   "id": "45da7f11-6244-475e-8d61-14f4ae710b2f",
   "metadata": {},
   "outputs": [
    {
     "data": {
      "text/plain": [
       "0"
      ]
     },
     "execution_count": 52,
     "metadata": {},
     "output_type": "execute_result"
    }
   ],
   "source": [
    "num = 46\n",
    "num%2"
   ]
  },
  {
   "cell_type": "code",
   "execution_count": 56,
   "id": "e6e096d5-00e2-4cb3-964e-89067656d547",
   "metadata": {},
   "outputs": [
    {
     "name": "stdout",
     "output_type": "stream",
     "text": [
      "x 0\n",
      "I am happy that the loop is still running\n",
      "x 1\n",
      "I am happy that the loop is still running\n",
      "x 2\n",
      "I am happy that the loop is still running\n",
      "x 3\n",
      "I am happy that the loop is still running\n",
      "Happy to come out of while loop\n"
     ]
    }
   ],
   "source": [
    "# while loops\n",
    "# they run on conditions. you have to give an end condition to break the\n",
    "# while loop, otherwise it runs forever.\n",
    "x = 0\n",
    "while x <= 3:\n",
    "    print('x',x)\n",
    "    print('I am happy that the loop is still running')\n",
    "    x = x + 1\n",
    "\n",
    "print('Happy to come out of while loop')"
   ]
  },
  {
   "cell_type": "code",
   "execution_count": 58,
   "id": "c64bec6e-7bf6-4564-b89b-77955a448067",
   "metadata": {},
   "outputs": [
    {
     "name": "stdout",
     "output_type": "stream",
     "text": [
      "apple\n",
      "mango\n",
      "banana\n",
      "kiwi\n",
      "dragon_fruit\n",
      "300\n",
      "400\n",
      "500.2\n",
      "['madan', 'tiwari']\n"
     ]
    }
   ],
   "source": [
    "list_of_fruits = ['apple', 'mango', 'banana', 'kiwi', 'dragon_fruit', 300, 400, 500.200, ['madan', 'tiwari']]\n",
    "for fruit in list_of_fruits:\n",
    "    print(fruit)"
   ]
  },
  {
   "cell_type": "code",
   "execution_count": 59,
   "id": "b27795de-2f2f-445d-8ab0-38be3a7f1217",
   "metadata": {},
   "outputs": [
    {
     "name": "stdout",
     "output_type": "stream",
     "text": [
      "apple\n",
      "mango\n",
      "odd 45\n",
      "even 200\n",
      "even 12\n",
      "even 46\n",
      "even 78\n",
      "odd 3\n",
      "odd 17\n"
     ]
    }
   ],
   "source": [
    "list_of_numbers = [\"apple\", \"mango\", 45, 200, 12, 46, 78, 3, 17]\n",
    "\n",
    "for num in list_of_numbers:\n",
    "    if type(num) != int:\n",
    "        print(num)\n",
    "    else:\n",
    "        if num%2==0:\n",
    "            print('even', num)\n",
    "        else:\n",
    "            print('odd', num)"
   ]
  },
  {
   "cell_type": "code",
   "execution_count": null,
   "id": "7f701c25-bf4f-4391-a8c3-ee9b7f3a91d6",
   "metadata": {},
   "outputs": [],
   "source": [
    "# which keywords actually brings in the charactersticks of the loop?\n",
    "\n",
    "# for\n",
    "# while"
   ]
  },
  {
   "cell_type": "code",
   "execution_count": null,
   "id": "7ec368ae-8712-45d2-801d-61c38da4ab77",
   "metadata": {},
   "outputs": [],
   "source": [
    "# you can loop over collections\n",
    "# list, dict, tuple, str, set"
   ]
  },
  {
   "cell_type": "code",
   "execution_count": null,
   "id": "f09a2c47-2714-43f3-bd95-39ec14e16b7f",
   "metadata": {},
   "outputs": [],
   "source": [
    "# for variable_name in name_of_collection:\n",
    "#     do things"
   ]
  },
  {
   "cell_type": "code",
   "execution_count": null,
   "id": "a541d879-6d90-4b85-9c0d-62f33ba66667",
   "metadata": {},
   "outputs": [],
   "source": [
    "# while condition:\n",
    "#     do things"
   ]
  },
  {
   "cell_type": "code",
   "execution_count": 65,
   "id": "4b375fbb-04ce-4443-9adc-921b1c5a6bbe",
   "metadata": {},
   "outputs": [
    {
     "name": "stdout",
     "output_type": "stream",
     "text": [
      "2\n",
      "nested while 0 2\n",
      "nested while 1 2\n",
      "nested while 2 2\n",
      "3\n",
      "nested while 0 3\n",
      "nested while 1 3\n",
      "nested while 2 3\n",
      "nested while 3 3\n",
      "1\n",
      "nested while 0 1\n",
      "nested while 1 1\n"
     ]
    }
   ],
   "source": [
    "# NESTED LOOPS\n",
    "\n",
    "list_of_numbers = [2, 3, 1]\n",
    "\n",
    "for num in list_of_numbers:\n",
    "    print(num)\n",
    "    new_num = 0\n",
    "    while new_num <= num:\n",
    "        print('nested while', new_num, num)\n",
    "        new_num = new_num + 1"
   ]
  },
  {
   "cell_type": "code",
   "execution_count": 73,
   "id": "3372cab6-ed55-4cbb-a6ed-19b03bf29661",
   "metadata": {},
   "outputs": [
    {
     "name": "stdout",
     "output_type": "stream",
     "text": [
      "mango ankur x 400\n"
     ]
    }
   ],
   "source": [
    "ankur = {'python':3}\n",
    "print('mango', 'ankur', 'x', x)"
   ]
  },
  {
   "cell_type": "code",
   "execution_count": 74,
   "id": "fc44bc17-f478-4e24-ba59-13fae918c31d",
   "metadata": {},
   "outputs": [
    {
     "name": "stdout",
     "output_type": "stream",
     "text": [
      "ankur {'python': 3}\n"
     ]
    }
   ],
   "source": [
    "print('ankur', ankur)"
   ]
  },
  {
   "cell_type": "code",
   "execution_count": 79,
   "id": "3b84311a-a5ac-403d-becd-fe89536edcf8",
   "metadata": {},
   "outputs": [
    {
     "name": "stdin",
     "output_type": "stream",
     "text": [
      "Enter a no 45\n"
     ]
    }
   ],
   "source": [
    "x = input('Enter a no')"
   ]
  },
  {
   "cell_type": "code",
   "execution_count": 82,
   "id": "967ab51d-7a6c-4463-b3ff-1cc5f39de7d7",
   "metadata": {},
   "outputs": [],
   "source": [
    "y = x + \"5\""
   ]
  },
  {
   "cell_type": "code",
   "execution_count": 83,
   "id": "b85deae5-f74b-476d-9e14-52bb636c8727",
   "metadata": {},
   "outputs": [
    {
     "data": {
      "text/plain": [
       "'455'"
      ]
     },
     "execution_count": 83,
     "metadata": {},
     "output_type": "execute_result"
    }
   ],
   "source": [
    "y"
   ]
  },
  {
   "cell_type": "code",
   "execution_count": 85,
   "id": "1afcb729-7240-4bee-ad43-0e9d063e8c3e",
   "metadata": {},
   "outputs": [
    {
     "name": "stdout",
     "output_type": "stream",
     "text": [
      "50\n"
     ]
    }
   ],
   "source": [
    "y = int(x) + 5\n",
    "print(y)"
   ]
  },
  {
   "cell_type": "code",
   "execution_count": null,
   "id": "ff02fee4-798b-420b-b2da-36b676579f4b",
   "metadata": {},
   "outputs": [],
   "source": []
  }
 ],
 "metadata": {
  "kernelspec": {
   "display_name": "Python 3 (ipykernel)",
   "language": "python",
   "name": "python3"
  },
  "language_info": {
   "codemirror_mode": {
    "name": "ipython",
    "version": 3
   },
   "file_extension": ".py",
   "mimetype": "text/x-python",
   "name": "python",
   "nbconvert_exporter": "python",
   "pygments_lexer": "ipython3",
   "version": "3.9.7"
  }
 },
 "nbformat": 4,
 "nbformat_minor": 5
}
