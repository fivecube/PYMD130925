{
 "cells": [
  {
   "cell_type": "code",
   "execution_count": 2,
   "id": "1fba12ad-71c1-4a3b-9772-63921b7437a6",
   "metadata": {},
   "outputs": [
    {
     "name": "stdout",
     "output_type": "stream",
     "text": [
      "The fruit is apple\n",
      "The fruit is banana\n",
      "The fruit is mango\n",
      "The fruit is kiwi\n"
     ]
    }
   ],
   "source": [
    "# You won't be able to understand this code.\n",
    "# But this is written to give you and idea or show you how python code looks like\n",
    "\n",
    "fruits = ['apple', 'banana', 'mango', 'kiwi']\n",
    "\n",
    "for fruit in fruits:\n",
    "    print('The fruit is', fruit)"
   ]
  },
  {
   "cell_type": "code",
   "execution_count": 3,
   "id": "87866ee2-2fa1-4ff0-8b3a-5a5ffd6d7974",
   "metadata": {},
   "outputs": [],
   "source": [
    "# Syntax in Programming Languages - Python\n",
    "# Syntax means the grammar of the programming language that we have to\n",
    "# strictly follow otherwise the code will not work.\n",
    "# The reason we need to strictly follow is because computer understands instructions\n",
    "# and that too in a specific format.\n",
    "\n",
    "# Rules\n",
    "# Grammar\n",
    "\n",
    "# You can not remember every rule in 1 go, you learn them 1 by 1 by looking and practicing them"
   ]
  },
  {
   "cell_type": "code",
   "execution_count": 4,
   "id": "10d70437-4f28-457a-810d-c65c7a30981e",
   "metadata": {},
   "outputs": [
    {
     "name": "stdout",
     "output_type": "stream",
     "text": [
      "I am happy while learning python!\n"
     ]
    }
   ],
   "source": [
    "print('I am happy while learning python!')"
   ]
  },
  {
   "cell_type": "code",
   "execution_count": null,
   "id": "3bca75a5-effc-4b11-9cc8-94fba2638edf",
   "metadata": {},
   "outputs": [],
   "source": [
    "# Indentation\n",
    "if True:\n",
    "    print('I am inside indented block')\n",
    "    print('I am still inside indented block')\n",
    "    print('I am still here, time to go...')\n",
    "\n",
    "print('I am out of the indented block')"
   ]
  },
  {
   "cell_type": "code",
   "execution_count": null,
   "id": "531990dc-96d1-4858-9d0f-c20a97e88dbe",
   "metadata": {},
   "outputs": [],
   "source": [
    "# Comments:-\n",
    "\n",
    "# statements in english, hindi, marathi, bengalli, kannada, etc that don't have to follow python syntax\n",
    "# These statements are only for helping your friends while they are reading your python code\n",
    "\n",
    "# Python will ignore everything starting from #"
   ]
  },
  {
   "cell_type": "code",
   "execution_count": 5,
   "id": "b8efda6e-c55d-4dac-afa2-eaea96c0cab3",
   "metadata": {},
   "outputs": [
    {
     "name": "stdout",
     "output_type": "stream",
     "text": [
      "i am happy\n"
     ]
    }
   ],
   "source": [
    "print('i am happy')"
   ]
  },
  {
   "cell_type": "code",
   "execution_count": null,
   "id": "ae295b82-a17f-46d6-96f1-7809f0c55f2f",
   "metadata": {},
   "outputs": [],
   "source": [
    "# data types\n",
    "# data types are basically how you store your data\n",
    "\n",
    "\n",
    "1. Store names of students\n",
    "\n",
    "data_type = list\n",
    "['srinivasan', 'ravish.verma', 'bhaskar', 'rohan.sahi']\n",
    "\n",
    "2. Store names along with roll number\n",
    "\n",
    "data_type = dictionary\n",
    "{'srinivasan': 23, 'ravish.verma': 19, 'bhaskar': 3, 'rohan.sahi': 20}\n",
    "\n",
    "3. Store unique roll numbers\n",
    "\n",
    "data_type = set\n",
    "{23, 23, 43, 56}\n",
    "set will auto delete duplicates like 23"
   ]
  },
  {
   "cell_type": "code",
   "execution_count": 7,
   "id": "f95f7cd9-308b-4106-b695-9b557bba46fd",
   "metadata": {},
   "outputs": [
    {
     "name": "stdout",
     "output_type": "stream",
     "text": [
      "{56, 43, 23}\n"
     ]
    }
   ],
   "source": [
    "x = {23, 23, 43, 56}\n",
    "print(x)"
   ]
  },
  {
   "cell_type": "code",
   "execution_count": null,
   "id": "b871003d-3024-46c2-9bfe-d261cfa611fd",
   "metadata": {},
   "outputs": [],
   "source": [
    "# Python Defined/Primitive Data Types\n",
    "1. integer\n",
    "1, 34, -45, 50, etc\n",
    "\n",
    "2. float\n",
    "3.4, 5.6, 1200.400, etc\n",
    "\n",
    "3. strings\n",
    "\"hello\", \"srinivasan\", \"bhaskar\", \"I am happy\"\n",
    "'ravish.verma', 'jishu.das'\n",
    "\"\"\"mango\"\"\"\n",
    "\n",
    "4. Booleans\n",
    "True, False\n",
    "\n",
    "5. list\n",
    "collection of the above elements\n",
    "editable, mutable\n",
    "x = [True, \"mango\", 45, 3.45]\n",
    "\n",
    "6. tuple\n",
    "collection of the above elements\n",
    "uneditable, immutable\n",
    "x = (True, \"mango\", 45, 3.45)\n",
    "\n",
    "7. dictionary\n",
    "collection of key, value pairs\n",
    "{\"mango\": 23, \"apple\": 4, \"pineapple\": 1}\n",
    "\n",
    "8. set\n",
    "unique collection of elements\n",
    "{\"mango\", \"apple\", \"apple\", 50, 34}\n",
    "here 1 of the \"apple\" will be auto deleted by python"
   ]
  },
  {
   "cell_type": "code",
   "execution_count": 8,
   "id": "c3421203-30d2-4f03-9a3a-5276270eb225",
   "metadata": {},
   "outputs": [
    {
     "name": "stdout",
     "output_type": "stream",
     "text": [
      "<class 'int'>\n"
     ]
    }
   ],
   "source": [
    "# type function\n",
    "\n",
    "x = 45\n",
    "\n",
    "print(type(x))"
   ]
  },
  {
   "cell_type": "code",
   "execution_count": 9,
   "id": "81584b8e-4f1f-467a-a945-5efaa177bad8",
   "metadata": {},
   "outputs": [
    {
     "name": "stdout",
     "output_type": "stream",
     "text": [
      "<class 'str'>\n"
     ]
    }
   ],
   "source": [
    "x = \"jishu.das\"\n",
    "\n",
    "print(type(x))"
   ]
  },
  {
   "cell_type": "code",
   "execution_count": null,
   "id": "58ce57cb-ae81-4dbe-99a9-d65bd57869fe",
   "metadata": {},
   "outputs": [],
   "source": [
    "# Variable\n",
    "\n",
    "# It is just a name pointing to different things."
   ]
  },
  {
   "cell_type": "code",
   "execution_count": 10,
   "id": "9945c3d4-84b9-420b-80c3-5fca08bbb795",
   "metadata": {},
   "outputs": [
    {
     "name": "stdout",
     "output_type": "stream",
     "text": [
      "9\n"
     ]
    }
   ],
   "source": [
    "# Operators\n",
    "# 1. Arithmetic +, -, *, /, //, %, **\n",
    "\n",
    "x = 4 + 5\n",
    "print(x)"
   ]
  },
  {
   "cell_type": "code",
   "execution_count": 11,
   "id": "7a4e7f72-ff26-4f32-be42-679a0af753bf",
   "metadata": {},
   "outputs": [
    {
     "name": "stdout",
     "output_type": "stream",
     "text": [
      "-1\n"
     ]
    }
   ],
   "source": [
    "x = 4 - 5\n",
    "print(x)"
   ]
  },
  {
   "cell_type": "code",
   "execution_count": 12,
   "id": "5955cfbd-e149-45fc-b8ab-e12c3a0d787d",
   "metadata": {},
   "outputs": [
    {
     "name": "stdout",
     "output_type": "stream",
     "text": [
      "20\n"
     ]
    }
   ],
   "source": [
    "x = 4 * 5\n",
    "print(x)"
   ]
  },
  {
   "cell_type": "code",
   "execution_count": 14,
   "id": "4ed9a28a-1787-4564-9693-c967e5f21a6a",
   "metadata": {},
   "outputs": [
    {
     "name": "stdout",
     "output_type": "stream",
     "text": [
      "2.8\n"
     ]
    }
   ],
   "source": [
    "x = 14 / 5\n",
    "print(x)"
   ]
  },
  {
   "cell_type": "code",
   "execution_count": 15,
   "id": "ea077faf-2f06-4eaa-9ae1-ba163d48b80d",
   "metadata": {},
   "outputs": [
    {
     "name": "stdout",
     "output_type": "stream",
     "text": [
      "2\n"
     ]
    }
   ],
   "source": [
    "x = 14 // 5\n",
    "print(x)"
   ]
  },
  {
   "cell_type": "code",
   "execution_count": 17,
   "id": "80a91cf8-a7bc-4840-9620-13328dec8056",
   "metadata": {},
   "outputs": [
    {
     "name": "stdout",
     "output_type": "stream",
     "text": [
      "2\n"
     ]
    }
   ],
   "source": [
    "x = 11 // 5\n",
    "print(x)"
   ]
  },
  {
   "cell_type": "code",
   "execution_count": 18,
   "id": "64d5de56-8bd1-4983-ad93-6c7789ca209e",
   "metadata": {},
   "outputs": [
    {
     "name": "stdout",
     "output_type": "stream",
     "text": [
      "2\n"
     ]
    }
   ],
   "source": [
    "x = 12 // 5\n",
    "print(x)"
   ]
  },
  {
   "cell_type": "code",
   "execution_count": 19,
   "id": "e8c491e5-b375-4720-a59f-327946afb58a",
   "metadata": {},
   "outputs": [
    {
     "name": "stdout",
     "output_type": "stream",
     "text": [
      "1\n"
     ]
    }
   ],
   "source": [
    "# % = Modulus Operator (to find the remainder)\n",
    "\n",
    "x = 5%2\n",
    "print(x)"
   ]
  },
  {
   "cell_type": "code",
   "execution_count": 21,
   "id": "4f8a7e95-e7e6-4446-bd79-5338a5d36c3d",
   "metadata": {},
   "outputs": [
    {
     "name": "stdout",
     "output_type": "stream",
     "text": [
      "16\n"
     ]
    }
   ],
   "source": [
    "y = 2**4\n",
    "print(y)"
   ]
  },
  {
   "cell_type": "code",
   "execution_count": 22,
   "id": "38e7ffc7-55b6-45e9-a908-da0bff6d0764",
   "metadata": {},
   "outputs": [
    {
     "name": "stdout",
     "output_type": "stream",
     "text": [
      "jishu.das\n"
     ]
    }
   ],
   "source": [
    "first_name = \"jishu\"\n",
    "last_name = \"das\"\n",
    "\n",
    "complete_name = first_name + \".\" + last_name\n",
    "print(complete_name)"
   ]
  },
  {
   "cell_type": "code",
   "execution_count": 23,
   "id": "0f8f289c-42a3-49b5-8c01-bb650d51e154",
   "metadata": {},
   "outputs": [
    {
     "name": "stdout",
     "output_type": "stream",
     "text": [
      "False\n"
     ]
    }
   ],
   "source": [
    "# 2. Comparison Operators basically tell True/False when you compare things.\n",
    "\n",
    "x = 45\n",
    "y = 56\n",
    "\n",
    "print(x == y)"
   ]
  },
  {
   "cell_type": "code",
   "execution_count": 24,
   "id": "0daf5e00-0aac-4c71-b279-0405638f80df",
   "metadata": {},
   "outputs": [
    {
     "name": "stdout",
     "output_type": "stream",
     "text": [
      "True\n"
     ]
    }
   ],
   "source": [
    "# equals to\n",
    "x = 56\n",
    "y = 56\n",
    "\n",
    "print(x == y)"
   ]
  },
  {
   "cell_type": "code",
   "execution_count": 25,
   "id": "401becd4-afcf-45b4-9540-5fff3f83839b",
   "metadata": {},
   "outputs": [
    {
     "name": "stdout",
     "output_type": "stream",
     "text": [
      "False\n"
     ]
    }
   ],
   "source": [
    "# not equals to\n",
    "x = 56\n",
    "y = 56\n",
    "\n",
    "print(x != y)"
   ]
  },
  {
   "cell_type": "code",
   "execution_count": 26,
   "id": "428f70e9-1df7-410c-af2d-659409311b67",
   "metadata": {},
   "outputs": [
    {
     "name": "stdout",
     "output_type": "stream",
     "text": [
      "True\n"
     ]
    }
   ],
   "source": [
    "# greather than\n",
    "x = 500\n",
    "y = 56\n",
    "\n",
    "print(x > y)"
   ]
  },
  {
   "cell_type": "code",
   "execution_count": 27,
   "id": "f3f8288e-48ca-42e1-8e2e-a4dac05b51bc",
   "metadata": {},
   "outputs": [
    {
     "name": "stdout",
     "output_type": "stream",
     "text": [
      "False\n"
     ]
    }
   ],
   "source": [
    "# less than\n",
    "x = 500\n",
    "y = 56\n",
    "\n",
    "print(x < y)"
   ]
  },
  {
   "cell_type": "code",
   "execution_count": 28,
   "id": "eeae400d-1816-4035-9465-95b80e25b0a7",
   "metadata": {},
   "outputs": [],
   "source": [
    "# 3. Logical\n",
    "# 3.1 and\n",
    "# 3.2 or\n",
    "# 3.3 not"
   ]
  },
  {
   "cell_type": "code",
   "execution_count": 29,
   "id": "bf8f1438-f29e-4385-a378-946e1d13e47d",
   "metadata": {},
   "outputs": [
    {
     "name": "stdout",
     "output_type": "stream",
     "text": [
      "False\n"
     ]
    }
   ],
   "source": [
    "x = True\n",
    "y = False\n",
    "print(x and y)"
   ]
  },
  {
   "cell_type": "code",
   "execution_count": 30,
   "id": "39f51d55-62a3-48a8-9b9c-6d737e0e51f3",
   "metadata": {},
   "outputs": [
    {
     "name": "stdout",
     "output_type": "stream",
     "text": [
      "False\n"
     ]
    }
   ],
   "source": [
    "x = False\n",
    "y = True\n",
    "print(x and y)"
   ]
  },
  {
   "cell_type": "code",
   "execution_count": 31,
   "id": "8b8c05d2-3983-4e42-8cd3-655cb0b154e7",
   "metadata": {},
   "outputs": [
    {
     "name": "stdout",
     "output_type": "stream",
     "text": [
      "False\n"
     ]
    }
   ],
   "source": [
    "x = False\n",
    "y = False\n",
    "print(x and y)"
   ]
  },
  {
   "cell_type": "code",
   "execution_count": 32,
   "id": "55d02e6e-3a1e-4b25-b457-b34ed73c3862",
   "metadata": {},
   "outputs": [
    {
     "name": "stdout",
     "output_type": "stream",
     "text": [
      "True\n"
     ]
    }
   ],
   "source": [
    "x = True\n",
    "y = True\n",
    "print(x and y)"
   ]
  },
  {
   "cell_type": "code",
   "execution_count": 33,
   "id": "1063199b-656c-4d23-9a12-b4f04214fce6",
   "metadata": {},
   "outputs": [
    {
     "name": "stdout",
     "output_type": "stream",
     "text": [
      "True\n"
     ]
    }
   ],
   "source": [
    "x = True\n",
    "y = True\n",
    "print(x or y)"
   ]
  },
  {
   "cell_type": "code",
   "execution_count": 34,
   "id": "13d5d3fe-ede4-4d39-8c23-f2d558287f40",
   "metadata": {},
   "outputs": [
    {
     "name": "stdout",
     "output_type": "stream",
     "text": [
      "True\n"
     ]
    }
   ],
   "source": [
    "x = True\n",
    "y = False\n",
    "print(x or y)"
   ]
  },
  {
   "cell_type": "code",
   "execution_count": 35,
   "id": "1f1c05b5-5588-4ec8-a373-2cf879ed54ea",
   "metadata": {},
   "outputs": [
    {
     "name": "stdout",
     "output_type": "stream",
     "text": [
      "True\n"
     ]
    }
   ],
   "source": [
    "x = False\n",
    "y = True\n",
    "print(x or y)"
   ]
  },
  {
   "cell_type": "code",
   "execution_count": 37,
   "id": "6decf44f-be21-4f34-8caf-d5e18f93e53e",
   "metadata": {},
   "outputs": [
    {
     "name": "stdout",
     "output_type": "stream",
     "text": [
      "False\n"
     ]
    }
   ],
   "source": [
    "x = False\n",
    "y = False\n",
    "print(x or y)"
   ]
  },
  {
   "cell_type": "code",
   "execution_count": 39,
   "id": "989ac945-e2b6-4b7d-b69c-ea7c0580bc82",
   "metadata": {},
   "outputs": [
    {
     "name": "stdout",
     "output_type": "stream",
     "text": [
      "False\n"
     ]
    }
   ],
   "source": [
    "x = True\n",
    "print(not x)"
   ]
  },
  {
   "cell_type": "code",
   "execution_count": 40,
   "id": "b1e8466e-84ad-4bd1-bbff-68e11ded07fa",
   "metadata": {},
   "outputs": [
    {
     "name": "stdout",
     "output_type": "stream",
     "text": [
      "True\n"
     ]
    }
   ],
   "source": [
    "x = False\n",
    "print(not x)"
   ]
  },
  {
   "cell_type": "code",
   "execution_count": 41,
   "id": "b9765ab2-10d9-4dd7-8cf5-c868310ea63c",
   "metadata": {},
   "outputs": [
    {
     "name": "stdin",
     "output_type": "stream",
     "text": [
      "Enter your name Mohit\n"
     ]
    }
   ],
   "source": [
    "# Input\n",
    "\n",
    "name = input('Enter your name')"
   ]
  },
  {
   "cell_type": "code",
   "execution_count": 42,
   "id": "0fc867e0-b108-4124-8422-0e5ee5928867",
   "metadata": {},
   "outputs": [
    {
     "name": "stdout",
     "output_type": "stream",
     "text": [
      "Mohit\n"
     ]
    }
   ],
   "source": [
    "print(name)"
   ]
  },
  {
   "cell_type": "code",
   "execution_count": 43,
   "id": "d93e7e0b-d40f-472c-856d-d9ab4a124940",
   "metadata": {},
   "outputs": [
    {
     "name": "stdin",
     "output_type": "stream",
     "text": [
      "Enter your name Srinivas\n"
     ]
    }
   ],
   "source": [
    "name = input('Enter your name')"
   ]
  },
  {
   "cell_type": "code",
   "execution_count": 44,
   "id": "8e84ded5-281b-457e-9807-4e1b3f8ec90f",
   "metadata": {},
   "outputs": [
    {
     "data": {
      "text/plain": [
       "'Srinivas'"
      ]
     },
     "execution_count": 44,
     "metadata": {},
     "output_type": "execute_result"
    }
   ],
   "source": [
    "name"
   ]
  },
  {
   "cell_type": "code",
   "execution_count": null,
   "id": "c5269d62-f80e-4398-a075-44eb2f98733a",
   "metadata": {},
   "outputs": [],
   "source": [
    "and:- If both the statements are True, than the result will be True otherwise False\n",
    "\n",
    "or:- If both the statements are False, than the result will be False otherwise True"
   ]
  },
  {
   "cell_type": "code",
   "execution_count": null,
   "id": "1103fda9-ae6b-4aa2-b86c-b154efaf29c3",
   "metadata": {},
   "outputs": [],
   "source": []
  }
 ],
 "metadata": {
  "kernelspec": {
   "display_name": "Python 3 (ipykernel)",
   "language": "python",
   "name": "python3"
  },
  "language_info": {
   "codemirror_mode": {
    "name": "ipython",
    "version": 3
   },
   "file_extension": ".py",
   "mimetype": "text/x-python",
   "name": "python",
   "nbconvert_exporter": "python",
   "pygments_lexer": "ipython3",
   "version": "3.9.7"
  }
 },
 "nbformat": 4,
 "nbformat_minor": 5
}
