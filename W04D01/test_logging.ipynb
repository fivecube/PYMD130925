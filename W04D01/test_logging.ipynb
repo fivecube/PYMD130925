{
 "cells": [
  {
   "cell_type": "code",
   "execution_count": 1,
   "id": "673d8a54-a7d6-4251-b73e-7117e2d7b4d2",
   "metadata": {},
   "outputs": [],
   "source": [
    "import logging\n",
    "\n",
    "logging.basicConfig(level=logging.DEBUG, \n",
    "                    format=\"%(asctime)s - %(levelname)s - %(message)s\")"
   ]
  },
  {
   "cell_type": "code",
   "execution_count": 2,
   "id": "5d6a6a16-7b95-49df-a9c6-9e793a863570",
   "metadata": {},
   "outputs": [
    {
     "name": "stderr",
     "output_type": "stream",
     "text": [
      "2025-10-04 10:13:07,253 - INFO - I am testing logging\n"
     ]
    }
   ],
   "source": [
    "logging.info(\"I am testing logging\")"
   ]
  },
  {
   "cell_type": "code",
   "execution_count": 3,
   "id": "1f222ad8-3d5d-4a75-8839-0f892f5e7d82",
   "metadata": {},
   "outputs": [],
   "source": [
    "logging.basicConfig(filename=\"amazing_app.log\",\n",
    "                    filemode=\"w\",\n",
    "                    level=logging.DEBUG, \n",
    "                    format=\"%(asctime)s - %(levelname)s - %(message)s\")"
   ]
  },
  {
   "cell_type": "code",
   "execution_count": 4,
   "id": "803b311f-29e1-4fb1-89da-40a6b2d7c65d",
   "metadata": {},
   "outputs": [
    {
     "name": "stderr",
     "output_type": "stream",
     "text": [
      "2025-10-04 10:14:12,061 - INFO - I am testing logging\n"
     ]
    }
   ],
   "source": [
    "logging.info(\"I am testing logging\")"
   ]
  },
  {
   "cell_type": "code",
   "execution_count": null,
   "id": "7aae9c41-1f13-44db-a4d9-2839ce129cb1",
   "metadata": {},
   "outputs": [],
   "source": []
  }
 ],
 "metadata": {
  "kernelspec": {
   "display_name": "Python 3 (ipykernel)",
   "language": "python",
   "name": "python3"
  },
  "language_info": {
   "codemirror_mode": {
    "name": "ipython",
    "version": 3
   },
   "file_extension": ".py",
   "mimetype": "text/x-python",
   "name": "python",
   "nbconvert_exporter": "python",
   "pygments_lexer": "ipython3",
   "version": "3.9.23"
  }
 },
 "nbformat": 4,
 "nbformat_minor": 5
}
