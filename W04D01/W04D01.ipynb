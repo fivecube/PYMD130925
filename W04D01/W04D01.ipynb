{
 "cells": [
  {
   "cell_type": "code",
   "execution_count": null,
   "id": "5fa3ca8b-a23d-45fa-b13f-7587cf532384",
   "metadata": {},
   "outputs": [],
   "source": [
    "# Generators and iterators\n",
    "# Decorators\n",
    "# Logging\n",
    "# APIs"
   ]
  },
  {
   "cell_type": "markdown",
   "id": "e93e0508-ecb9-428f-85e1-264fc0a8449b",
   "metadata": {},
   "source": [
    "# Iterator"
   ]
  },
  {
   "cell_type": "code",
   "execution_count": 1,
   "id": "5473f6a8-9c74-413e-b8ae-9fbeb356c459",
   "metadata": {},
   "outputs": [],
   "source": [
    "list_of_numbers = [1, 2, 3, 4]\n",
    "\n",
    "iterator1 = iter(list_of_numbers)"
   ]
  },
  {
   "cell_type": "code",
   "execution_count": 3,
   "id": "dd414e8a-80f3-4f8f-82b8-8652879ac13c",
   "metadata": {},
   "outputs": [
    {
     "data": {
      "text/plain": [
       "list_iterator"
      ]
     },
     "execution_count": 3,
     "metadata": {},
     "output_type": "execute_result"
    }
   ],
   "source": [
    "type(iterator1)"
   ]
  },
  {
   "cell_type": "code",
   "execution_count": 2,
   "id": "778c0b7c-f91c-4a93-9c83-8012960dc763",
   "metadata": {},
   "outputs": [
    {
     "data": {
      "text/plain": [
       "1"
      ]
     },
     "execution_count": 2,
     "metadata": {},
     "output_type": "execute_result"
    }
   ],
   "source": [
    "next(iterator1)"
   ]
  },
  {
   "cell_type": "code",
   "execution_count": 4,
   "id": "ba6e9468-7552-4469-8e4d-09c92a6a9c8e",
   "metadata": {},
   "outputs": [
    {
     "data": {
      "text/plain": [
       "2"
      ]
     },
     "execution_count": 4,
     "metadata": {},
     "output_type": "execute_result"
    }
   ],
   "source": [
    "next(iterator1)"
   ]
  },
  {
   "cell_type": "code",
   "execution_count": 5,
   "id": "39f4905f-92f4-4b29-b217-0553754092b6",
   "metadata": {},
   "outputs": [
    {
     "data": {
      "text/plain": [
       "3"
      ]
     },
     "execution_count": 5,
     "metadata": {},
     "output_type": "execute_result"
    }
   ],
   "source": [
    "next(iterator1)"
   ]
  },
  {
   "cell_type": "code",
   "execution_count": 6,
   "id": "4daf5763-6a2d-4c42-bc9e-9eedc12b5f0a",
   "metadata": {},
   "outputs": [
    {
     "data": {
      "text/plain": [
       "4"
      ]
     },
     "execution_count": 6,
     "metadata": {},
     "output_type": "execute_result"
    }
   ],
   "source": [
    "next(iterator1)"
   ]
  },
  {
   "cell_type": "code",
   "execution_count": 7,
   "id": "9e38cdda-e8e3-4533-94e6-f5d571669b9c",
   "metadata": {},
   "outputs": [
    {
     "ename": "StopIteration",
     "evalue": "",
     "output_type": "error",
     "traceback": [
      "\u001b[0;31m---------------------------------------------------------------------------\u001b[0m",
      "\u001b[0;31mStopIteration\u001b[0m                             Traceback (most recent call last)",
      "Cell \u001b[0;32mIn[7], line 1\u001b[0m\n\u001b[0;32m----> 1\u001b[0m \u001b[38;5;28;43mnext\u001b[39;49m\u001b[43m(\u001b[49m\u001b[43miterator1\u001b[49m\u001b[43m)\u001b[49m\n",
      "\u001b[0;31mStopIteration\u001b[0m: "
     ]
    }
   ],
   "source": [
    "next(iterator1)"
   ]
  },
  {
   "cell_type": "markdown",
   "id": "658f61eb-2faf-417f-abb9-6e53268944f1",
   "metadata": {},
   "source": [
    "# GENERATOR"
   ]
  },
  {
   "cell_type": "code",
   "execution_count": 8,
   "id": "56b755a3-f4b4-4ec3-8eab-5fa48c7c0001",
   "metadata": {},
   "outputs": [],
   "source": [
    "def countdown(n):\n",
    "    while n > 0:\n",
    "        yield n\n",
    "        n -= 1"
   ]
  },
  {
   "cell_type": "code",
   "execution_count": 9,
   "id": "5c36e955-bc6e-4c2d-8215-4e08fa5b9788",
   "metadata": {},
   "outputs": [],
   "source": [
    "x = countdown(5)"
   ]
  },
  {
   "cell_type": "code",
   "execution_count": 10,
   "id": "37f696dc-86dc-412e-a98a-a468a1e927cc",
   "metadata": {},
   "outputs": [
    {
     "name": "stdout",
     "output_type": "stream",
     "text": [
      "<class 'generator'>\n"
     ]
    }
   ],
   "source": [
    "print(type(x))"
   ]
  },
  {
   "cell_type": "code",
   "execution_count": 11,
   "id": "92f4410a-edf2-4eee-bde7-9398c4dd40f1",
   "metadata": {},
   "outputs": [
    {
     "data": {
      "text/plain": [
       "5"
      ]
     },
     "execution_count": 11,
     "metadata": {},
     "output_type": "execute_result"
    }
   ],
   "source": [
    "next(x)"
   ]
  },
  {
   "cell_type": "code",
   "execution_count": 12,
   "id": "fda928da-c42b-4f83-a3fe-6be7d90a43c3",
   "metadata": {},
   "outputs": [
    {
     "data": {
      "text/plain": [
       "4"
      ]
     },
     "execution_count": 12,
     "metadata": {},
     "output_type": "execute_result"
    }
   ],
   "source": [
    "next(x)"
   ]
  },
  {
   "cell_type": "code",
   "execution_count": 13,
   "id": "6e0a44c2-4b8c-4ad2-967f-9826a86936d8",
   "metadata": {},
   "outputs": [
    {
     "data": {
      "text/plain": [
       "3"
      ]
     },
     "execution_count": 13,
     "metadata": {},
     "output_type": "execute_result"
    }
   ],
   "source": [
    "next(x)"
   ]
  },
  {
   "cell_type": "code",
   "execution_count": 14,
   "id": "1b2c0ab5-465c-43d6-abe7-08e82797476b",
   "metadata": {},
   "outputs": [
    {
     "data": {
      "text/plain": [
       "2"
      ]
     },
     "execution_count": 14,
     "metadata": {},
     "output_type": "execute_result"
    }
   ],
   "source": [
    "next(x)"
   ]
  },
  {
   "cell_type": "code",
   "execution_count": 15,
   "id": "8b979516-a1b7-44cd-ad8e-82a950e78514",
   "metadata": {},
   "outputs": [
    {
     "data": {
      "text/plain": [
       "1"
      ]
     },
     "execution_count": 15,
     "metadata": {},
     "output_type": "execute_result"
    }
   ],
   "source": [
    "next(x)"
   ]
  },
  {
   "cell_type": "code",
   "execution_count": 16,
   "id": "a4f2067f-851d-45c5-bcf2-71f5105d6167",
   "metadata": {},
   "outputs": [
    {
     "ename": "StopIteration",
     "evalue": "",
     "output_type": "error",
     "traceback": [
      "\u001b[0;31m---------------------------------------------------------------------------\u001b[0m",
      "\u001b[0;31mStopIteration\u001b[0m                             Traceback (most recent call last)",
      "Cell \u001b[0;32mIn[16], line 1\u001b[0m\n\u001b[0;32m----> 1\u001b[0m \u001b[38;5;28;43mnext\u001b[39;49m\u001b[43m(\u001b[49m\u001b[43mx\u001b[49m\u001b[43m)\u001b[49m\n",
      "\u001b[0;31mStopIteration\u001b[0m: "
     ]
    }
   ],
   "source": [
    "next(x)"
   ]
  },
  {
   "cell_type": "code",
   "execution_count": 17,
   "id": "bee813e7-6705-4046-ad18-ee994e52bb17",
   "metadata": {},
   "outputs": [
    {
     "name": "stdout",
     "output_type": "stream",
     "text": [
      "apple\n",
      "mango\n",
      "banana\n"
     ]
    }
   ],
   "source": [
    "fruits = ['apple', 'mango', 'banana']\n",
    "\n",
    "for fruit in fruits:\n",
    "    print(fruit)"
   ]
  },
  {
   "cell_type": "code",
   "execution_count": 18,
   "id": "40c03017-9ba1-4846-8e01-3b5c5c738237",
   "metadata": {},
   "outputs": [
    {
     "data": {
      "text/plain": [
       "list"
      ]
     },
     "execution_count": 18,
     "metadata": {},
     "output_type": "execute_result"
    }
   ],
   "source": [
    "type(fruits)"
   ]
  },
  {
   "cell_type": "code",
   "execution_count": 19,
   "id": "c1053244-be86-4e05-b55e-39822d944aca",
   "metadata": {},
   "outputs": [
    {
     "data": {
      "text/plain": [
       "list_iterator"
      ]
     },
     "execution_count": 19,
     "metadata": {},
     "output_type": "execute_result"
    }
   ],
   "source": [
    "it = iter(fruits)\n",
    "type(it)"
   ]
  },
  {
   "cell_type": "code",
   "execution_count": 20,
   "id": "84b67bef-a5df-457d-b1ea-4ee2632e56e6",
   "metadata": {},
   "outputs": [
    {
     "name": "stdout",
     "output_type": "stream",
     "text": [
      "apple\n",
      "mango\n",
      "banana\n"
     ]
    }
   ],
   "source": [
    "it = iter(fruits)\n",
    "while True:\n",
    "    try:\n",
    "        print(next(it))\n",
    "    except Exception as exc:\n",
    "        break"
   ]
  },
  {
   "cell_type": "code",
   "execution_count": 21,
   "id": "7cbee68e-8199-4787-96d3-a5c98f0a9b84",
   "metadata": {},
   "outputs": [
    {
     "data": {
      "text/plain": [
       "3"
      ]
     },
     "execution_count": 21,
     "metadata": {},
     "output_type": "execute_result"
    }
   ],
   "source": [
    "fruits = ['apple', 'mango', 'banana']\n",
    "\n",
    "len(fruits)"
   ]
  },
  {
   "cell_type": "code",
   "execution_count": 23,
   "id": "3065b420-3a8a-4ab7-a1af-b27d3aea4cc5",
   "metadata": {},
   "outputs": [
    {
     "name": "stdout",
     "output_type": "stream",
     "text": [
      "apple\n",
      "mango\n",
      "banana\n"
     ]
    }
   ],
   "source": [
    "i = 0\n",
    "while i <= len(fruits)-1:\n",
    "    print(fruits[i])\n",
    "    i+=1"
   ]
  },
  {
   "cell_type": "code",
   "execution_count": null,
   "id": "45bded19-ad67-45c7-af82-e86539a5c15d",
   "metadata": {},
   "outputs": [],
   "source": [
    "Assume that you have 10**15 elements,\n",
    "if you want to do something on them 1 by 1\n",
    "it will be bad to load all of them in memory.\n",
    "We can use generators to yield them 1 by 1 and save the\n",
    "state in such a way that it is \n",
    "able to yield the next element."
   ]
  },
  {
   "cell_type": "code",
   "execution_count": 24,
   "id": "b08c46e1-8393-4524-a95e-3f3699f5aa7e",
   "metadata": {},
   "outputs": [
    {
     "data": {
      "text/plain": [
       "3"
      ]
     },
     "execution_count": 24,
     "metadata": {},
     "output_type": "execute_result"
    }
   ],
   "source": [
    "list_of_numbers[2]"
   ]
  },
  {
   "cell_type": "markdown",
   "id": "3e3f6ea7-2207-4955-84dd-aed07e54ad6d",
   "metadata": {},
   "source": [
    "# decorator"
   ]
  },
  {
   "cell_type": "code",
   "execution_count": 25,
   "id": "a26b7a42-8c68-4101-b9e3-4361c29d998d",
   "metadata": {},
   "outputs": [],
   "source": [
    "def log_function(func):\n",
    "    def wrapper(*args, **kwargs):\n",
    "        print(f\"Calling {func.__name__}\")\n",
    "        result = func(*args, **kwargs)\n",
    "        print(f\"Finished {func.__name__}\")\n",
    "        return result\n",
    "    return wrapper"
   ]
  },
  {
   "cell_type": "code",
   "execution_count": 26,
   "id": "4acd6948-2870-429b-b15c-56aa571a144e",
   "metadata": {},
   "outputs": [],
   "source": [
    "def greet(name):\n",
    "    print(f\"Hello {name}\")"
   ]
  },
  {
   "cell_type": "code",
   "execution_count": 27,
   "id": "812b6b79-fe69-4567-81d4-70ce83e42377",
   "metadata": {},
   "outputs": [
    {
     "name": "stdout",
     "output_type": "stream",
     "text": [
      "Hello Velavan\n"
     ]
    }
   ],
   "source": [
    "greet('Velavan')"
   ]
  },
  {
   "cell_type": "code",
   "execution_count": 28,
   "id": "c00aa270-2428-4eb6-99d0-a62542c1e216",
   "metadata": {},
   "outputs": [],
   "source": [
    "@log_function\n",
    "def greet(name):\n",
    "    print(f\"Hello {name}\")"
   ]
  },
  {
   "cell_type": "code",
   "execution_count": 29,
   "id": "a00b9cea-6baf-4ec5-b1f9-0024043061d4",
   "metadata": {},
   "outputs": [
    {
     "name": "stdout",
     "output_type": "stream",
     "text": [
      "Calling greet\n",
      "Hello Velavan\n",
      "Finished greet\n"
     ]
    }
   ],
   "source": [
    "greet('Velavan')"
   ]
  },
  {
   "cell_type": "code",
   "execution_count": 30,
   "id": "8baef30e-1193-4850-89c1-9c744b3405b7",
   "metadata": {},
   "outputs": [],
   "source": [
    "@log_function\n",
    "def give_me_a_number(n):\n",
    "    return n+1"
   ]
  },
  {
   "cell_type": "code",
   "execution_count": 31,
   "id": "ec90abe1-9334-43cf-ab0c-d12745865810",
   "metadata": {},
   "outputs": [
    {
     "name": "stdout",
     "output_type": "stream",
     "text": [
      "Calling give_me_a_number\n",
      "Finished give_me_a_number\n"
     ]
    }
   ],
   "source": [
    "result = give_me_a_number(5)"
   ]
  },
  {
   "cell_type": "code",
   "execution_count": 32,
   "id": "403183d3-148a-487f-965f-9219bdac33ca",
   "metadata": {},
   "outputs": [
    {
     "data": {
      "text/plain": [
       "6"
      ]
     },
     "execution_count": 32,
     "metadata": {},
     "output_type": "execute_result"
    }
   ],
   "source": [
    "result"
   ]
  },
  {
   "cell_type": "code",
   "execution_count": 33,
   "id": "dca41c41-e0f1-4e13-a341-a5788a95e4a6",
   "metadata": {},
   "outputs": [],
   "source": [
    "@log_function\n",
    "def add_two_numbers(a, b):\n",
    "    return a+b"
   ]
  },
  {
   "cell_type": "code",
   "execution_count": 36,
   "id": "d407d7c5-7af0-40e0-8b6b-5096776b8044",
   "metadata": {},
   "outputs": [
    {
     "name": "stdout",
     "output_type": "stream",
     "text": [
      "Calling add_two_numbers\n",
      "Finished add_two_numbers\n"
     ]
    }
   ],
   "source": [
    "result = add_two_numbers(a=3, b=4)"
   ]
  },
  {
   "cell_type": "code",
   "execution_count": 37,
   "id": "22334b0c-7d5d-4501-a6f6-640dadc95bbc",
   "metadata": {},
   "outputs": [
    {
     "data": {
      "text/plain": [
       "7"
      ]
     },
     "execution_count": 37,
     "metadata": {},
     "output_type": "execute_result"
    }
   ],
   "source": [
    "result"
   ]
  },
  {
   "cell_type": "code",
   "execution_count": 40,
   "id": "92bf3790-e9b1-42cc-aa05-3ea8433fefcc",
   "metadata": {},
   "outputs": [],
   "source": [
    "import time\n",
    "def log_function(func):\n",
    "    def wrapper(*args, **kwargs):\n",
    "        start_time = time.time()\n",
    "        print(f\"Calling {func.__name__}\")\n",
    "        result = func(*args, **kwargs)\n",
    "        end_time = time.time()\n",
    "        print(f\"Finished {func.__name__}\", end_time-start_time)\n",
    "        \n",
    "        return result\n",
    "    return wrapper"
   ]
  },
  {
   "cell_type": "code",
   "execution_count": 39,
   "id": "4c2c5bec-9fb0-4dc9-bc6c-cc8a77859aad",
   "metadata": {},
   "outputs": [
    {
     "data": {
      "text/plain": [
       "1759550626.8372722"
      ]
     },
     "execution_count": 39,
     "metadata": {},
     "output_type": "execute_result"
    }
   ],
   "source": [
    "import time\n",
    "time.time()"
   ]
  },
  {
   "cell_type": "code",
   "execution_count": 41,
   "id": "05ba77e5-2264-408e-8360-fb135b5899a9",
   "metadata": {},
   "outputs": [],
   "source": [
    "@log_function\n",
    "def greet(name):\n",
    "    print('Inside greet')\n",
    "    time.sleep(5)\n",
    "    print(\"Good Morning\", name)"
   ]
  },
  {
   "cell_type": "code",
   "execution_count": 42,
   "id": "512f59d7-213b-47af-acfe-e53ac9f980d2",
   "metadata": {},
   "outputs": [
    {
     "name": "stdout",
     "output_type": "stream",
     "text": [
      "Calling greet\n",
      "Inside greet\n",
      "Good Morning Ankur Pandey\n",
      "Finished greet 5.005375146865845\n"
     ]
    }
   ],
   "source": [
    "greet(\"Ankur Pandey\")"
   ]
  },
  {
   "cell_type": "code",
   "execution_count": 43,
   "id": "2784442b-0489-4b7b-9bf3-d75131bc3486",
   "metadata": {},
   "outputs": [],
   "source": [
    "import logging"
   ]
  },
  {
   "cell_type": "code",
   "execution_count": 44,
   "id": "0d365b02-55ba-4bb0-90a2-3ffbbfc0a220",
   "metadata": {},
   "outputs": [],
   "source": [
    "logging.basicConfig(level=logging.DEBUG, \n",
    "                    format=\"%(asctime)s - %(levelname)s - %(message)s\")"
   ]
  },
  {
   "cell_type": "code",
   "execution_count": null,
   "id": "fef07383-cfe6-4697-9a37-37f6325b8efa",
   "metadata": {},
   "outputs": [],
   "source": [
    "logging.debug(\"This is a DEBUG message\")\n",
    "logging.info(\"This is a info message\")\n",
    "logging.warning(\"This is a warning\")\n",
    "logging.error(\"This is an error msg\")\n",
    "logging.critical(\"This is CRITICAL, PLEASE CHECK ASAP\")"
   ]
  },
  {
   "cell_type": "code",
   "execution_count": 46,
   "id": "03742999-0204-46d1-a21f-cfded64fd015",
   "metadata": {},
   "outputs": [],
   "source": [
    "def happy_fun(a, b):\n",
    "    logging.info(f\"Dividing numbers {a} by {b}\")\n",
    "    try:\n",
    "        result = a/b\n",
    "        logging.debug(f\"Result is {result}\")\n",
    "        return result\n",
    "    except ZeroDivisionError:\n",
    "        logging.error(\"Division by zero!\")"
   ]
  },
  {
   "cell_type": "code",
   "execution_count": null,
   "id": "c0e5bfc9-ec5b-4aea-b5bc-de1082ca354c",
   "metadata": {},
   "outputs": [],
   "source": [
    "# logging.basicConfig(level=logging.DEBUG, \n",
    "#                     format=\"%(asctime)s - %(levelname)s - %(message)s\")"
   ]
  },
  {
   "cell_type": "code",
   "execution_count": 47,
   "id": "620703dc-52ef-4ba5-b70c-a4bee512febe",
   "metadata": {},
   "outputs": [
    {
     "name": "stderr",
     "output_type": "stream",
     "text": [
      "2025-10-04 09:46:59,340 - INFO - Dividing numbers 4 by 5\n",
      "2025-10-04 09:46:59,341 - DEBUG - Result is 0.8\n"
     ]
    },
    {
     "data": {
      "text/plain": [
       "0.8"
      ]
     },
     "execution_count": 47,
     "metadata": {},
     "output_type": "execute_result"
    }
   ],
   "source": [
    "happy_fun(4, 5)"
   ]
  },
  {
   "cell_type": "code",
   "execution_count": 48,
   "id": "89f3aa31-e852-46ed-9533-2489a45d8077",
   "metadata": {},
   "outputs": [
    {
     "name": "stderr",
     "output_type": "stream",
     "text": [
      "2025-10-04 09:48:09,348 - INFO - Dividing numbers 4 by 0\n",
      "2025-10-04 09:48:09,350 - ERROR - Division by zero!\n"
     ]
    }
   ],
   "source": [
    "happy_fun(4, 0)"
   ]
  },
  {
   "cell_type": "code",
   "execution_count": 2,
   "id": "b71d43c3-5598-4d78-bcba-3dfe4a5ebea6",
   "metadata": {},
   "outputs": [],
   "source": [
    "import logging\n",
    "\n",
    "logging.basicConfig(filename=\"app.log\",\n",
    "                    filemode=\"w\",\n",
    "                    level=logging.DEBUG, \n",
    "                    format=\"%(asctime)s - %(levelname)s - %(message)s\")"
   ]
  },
  {
   "cell_type": "code",
   "execution_count": 3,
   "id": "03217a0a-7d78-4b4d-85ae-8c1d45bb3431",
   "metadata": {},
   "outputs": [],
   "source": [
    "logging.info('I am first log')"
   ]
  },
  {
   "cell_type": "code",
   "execution_count": 4,
   "id": "6a02faa2-6015-4a89-8379-5850271e334b",
   "metadata": {},
   "outputs": [],
   "source": [
    "logging.info('I am second log')"
   ]
  },
  {
   "cell_type": "code",
   "execution_count": 11,
   "id": "e103c812-7ed8-4016-8d4d-32b93370ebe9",
   "metadata": {},
   "outputs": [],
   "source": [
    "import time\n",
    "def func1(x):\n",
    "    logging.info(f'func1 {x}')\n",
    "    x += 1\n",
    "    return x\n",
    "\n",
    "def func2(x):\n",
    "    logging.info(f'func2 {x}')\n",
    "    time.sleep(5)\n",
    "    x += 2\n",
    "    return func1(x)\n",
    "\n",
    "def func3(x):\n",
    "    logging.info(f'func3 {x}')\n",
    "    x += 3\n",
    "    return func2(x)"
   ]
  },
  {
   "cell_type": "code",
   "execution_count": 12,
   "id": "3c29994b-7843-49f1-87d0-704c8bf7a797",
   "metadata": {},
   "outputs": [],
   "source": [
    "result = func3(5)"
   ]
  },
  {
   "cell_type": "code",
   "execution_count": 13,
   "id": "86b028bd-c15a-4f45-9dae-6f35fe3761ae",
   "metadata": {},
   "outputs": [
    {
     "data": {
      "text/plain": [
       "11"
      ]
     },
     "execution_count": 13,
     "metadata": {},
     "output_type": "execute_result"
    }
   ],
   "source": [
    "result"
   ]
  },
  {
   "cell_type": "code",
   "execution_count": 15,
   "id": "672efa44-c865-44fb-a0fd-f0af4e9a038a",
   "metadata": {},
   "outputs": [],
   "source": [
    "import time\n",
    "def func1(x):\n",
    "    logging.info(f'func1 {x}')\n",
    "    x += 1\n",
    "    return x\n",
    "\n",
    "def func2(x):\n",
    "    logging.info(f'func2 {x}')\n",
    "    x += 2\n",
    "    return func1(x)\n",
    "\n",
    "def func3(x):\n",
    "    logging.info(f'func3 {x}')\n",
    "    x += 3\n",
    "    return func2(x)"
   ]
  },
  {
   "cell_type": "code",
   "execution_count": 16,
   "id": "45bdf08d-6856-464a-b6ec-574550867346",
   "metadata": {},
   "outputs": [],
   "source": [
    "result = func3(5)"
   ]
  },
  {
   "cell_type": "code",
   "execution_count": 17,
   "id": "02babb81-6d67-4a13-9261-ea0ff5f3299d",
   "metadata": {},
   "outputs": [
    {
     "data": {
      "text/plain": [
       "11"
      ]
     },
     "execution_count": 17,
     "metadata": {},
     "output_type": "execute_result"
    }
   ],
   "source": [
    "result"
   ]
  },
  {
   "cell_type": "code",
   "execution_count": null,
   "id": "bf464f21-301d-48b2-a829-179712755b1e",
   "metadata": {},
   "outputs": [],
   "source": []
  }
 ],
 "metadata": {
  "kernelspec": {
   "display_name": "Python 3 (ipykernel)",
   "language": "python",
   "name": "python3"
  },
  "language_info": {
   "codemirror_mode": {
    "name": "ipython",
    "version": 3
   },
   "file_extension": ".py",
   "mimetype": "text/x-python",
   "name": "python",
   "nbconvert_exporter": "python",
   "pygments_lexer": "ipython3",
   "version": "3.9.23"
  }
 },
 "nbformat": 4,
 "nbformat_minor": 5
}
