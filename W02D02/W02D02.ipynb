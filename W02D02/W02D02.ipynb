{
 "cells": [
  {
   "cell_type": "code",
   "execution_count": null,
   "id": "fa9f50c2-e167-4c8c-842f-c870a50ac3bf",
   "metadata": {},
   "outputs": [],
   "source": [
    "# Classes and objects\n",
    "# Inheritance and polymorphism\n",
    "# Encapsulation\n",
    "# Class methods and static methods"
   ]
  },
  {
   "cell_type": "code",
   "execution_count": 3,
   "id": "146383ae-c236-4f42-9044-605a7ab100ed",
   "metadata": {},
   "outputs": [
    {
     "name": "stderr",
     "output_type": "stream",
     "text": [
      "\u001b[38;5;247mic\u001b[39m\u001b[38;5;245m|\u001b[39m\u001b[38;5;245m \u001b[39m\u001b[38;5;247moutput1\u001b[39m\u001b[38;5;245m:\u001b[39m\u001b[38;5;245m \u001b[39m\u001b[38;5;36m7\u001b[39m\u001b[38;5;245m,\u001b[39m\u001b[38;5;245m \u001b[39m\u001b[38;5;247moutput2\u001b[39m\u001b[38;5;245m:\u001b[39m\u001b[38;5;245m \u001b[39m\u001b[38;5;36m30\u001b[39m\u001b[38;5;245m,\u001b[39m\u001b[38;5;245m \u001b[39m\u001b[38;5;247moutput3\u001b[39m\u001b[38;5;245m:\u001b[39m\u001b[38;5;245m \u001b[39m\u001b[38;5;36m70\u001b[39m\n"
     ]
    },
    {
     "data": {
      "text/plain": [
       "(7, 30, 70)"
      ]
     },
     "execution_count": 3,
     "metadata": {},
     "output_type": "execute_result"
    }
   ],
   "source": [
    "# Function definition and calling\n",
    "# Function is a way to write code in such a way so that you can reuse it.\n",
    "# It makes the maintenance of software easy\n",
    "# It reduces the errors\n",
    "# It can be seprately easily tested (unit test)\n",
    "\n",
    "\n",
    "from icecream import ic\n",
    "def add_numbers(x, y):\n",
    "    return x + y\n",
    "\n",
    "output1 = add_numbers(3, 4)\n",
    "\n",
    "output2 = add_numbers(10, 20)\n",
    "\n",
    "output3 = add_numbers(40, 30)\n",
    "\n",
    "ic(output1, output2, output3)"
   ]
  },
  {
   "cell_type": "code",
   "execution_count": 4,
   "id": "10d9876c-6c12-488b-b39d-e48aa9e3d9c5",
   "metadata": {},
   "outputs": [
    {
     "name": "stderr",
     "output_type": "stream",
     "text": [
      "\u001b[38;5;247mic\u001b[39m\u001b[38;5;245m|\u001b[39m\u001b[38;5;245m \u001b[39m\u001b[38;5;247mmohit_total_marks\u001b[39m\u001b[38;5;245m:\u001b[39m\u001b[38;5;245m \u001b[39m\u001b[38;5;36m235\u001b[39m\n",
      "\u001b[38;5;245m    \u001b[39m\u001b[38;5;247mrohit_total_marks\u001b[39m\u001b[38;5;245m:\u001b[39m\u001b[38;5;245m \u001b[39m\u001b[38;5;36m325\u001b[39m\n",
      "\u001b[38;5;245m    \u001b[39m\u001b[38;5;247mshubham_total_marks\u001b[39m\u001b[38;5;245m:\u001b[39m\u001b[38;5;245m \u001b[39m\u001b[38;5;36m354\u001b[39m\n",
      "\u001b[38;5;245m    \u001b[39m\u001b[38;5;247mravi_total_marks\u001b[39m\u001b[38;5;245m:\u001b[39m\u001b[38;5;245m \u001b[39m\u001b[38;5;36m0\u001b[39m\n"
     ]
    },
    {
     "data": {
      "text/plain": [
       "(235, 325, 354, 0)"
      ]
     },
     "execution_count": 4,
     "metadata": {},
     "output_type": "execute_result"
    }
   ],
   "source": [
    "def find_total_marks(name_of_student):\n",
    "    data = {\"mohit\": [50, 70, 60, 55], \"rohit\": [60, 80, 90, 95],\n",
    "            \"shubham\": [98, 89, 88, 79]}\n",
    "    all_marks = data.get(name_of_student, [])\n",
    "    return sum(all_marks)\n",
    "\n",
    "mohit_total_marks = find_total_marks(\"mohit\")\n",
    "\n",
    "rohit_total_marks = find_total_marks(\"rohit\")\n",
    "\n",
    "shubham_total_marks = find_total_marks(\"shubham\")\n",
    "\n",
    "ravi_total_marks = find_total_marks(\"ravi\")\n",
    "\n",
    "ic(mohit_total_marks, rohit_total_marks, shubham_total_marks, ravi_total_marks)"
   ]
  },
  {
   "cell_type": "code",
   "execution_count": null,
   "id": "7aa1503e-0a4b-4dbc-bdd2-e4e1d11d2149",
   "metadata": {},
   "outputs": [],
   "source": [
    "Class\n",
    "Empty Blue Print\n",
    "\n",
    "Object\n",
    "One of the filled forms"
   ]
  },
  {
   "cell_type": "code",
   "execution_count": null,
   "id": "f7936f35-8972-4d03-b466-ecdd475d843a",
   "metadata": {},
   "outputs": [],
   "source": [
    "RC of Vehicle\n",
    "\n",
    "Vehicle:-\n",
    "    Number Plate\n",
    "    Color\n",
    "    Engine No\n",
    "    "
   ]
  },
  {
   "cell_type": "code",
   "execution_count": 6,
   "id": "135230c5-492f-488d-8ce6-b03daffd1b18",
   "metadata": {},
   "outputs": [],
   "source": [
    "class Car:\n",
    "    def __init__(self, brand, model):\n",
    "        self.brand = brand\n",
    "        self.model = model\n",
    "\n",
    "    def start(self):\n",
    "        print(f\"{self.brand} {self.model} started\")"
   ]
  },
  {
   "cell_type": "code",
   "execution_count": 7,
   "id": "79b29c56-14b1-4f2f-bc0e-1e0100a5c078",
   "metadata": {},
   "outputs": [
    {
     "name": "stdout",
     "output_type": "stream",
     "text": [
      "Tata Nexon started\n"
     ]
    }
   ],
   "source": [
    "tata_nexon1 = Car(\"Tata\", \"Nexon\")\n",
    "\n",
    "tata_nexon1.start()"
   ]
  },
  {
   "cell_type": "code",
   "execution_count": 19,
   "id": "bec5b1ab-7059-4651-a19b-ab65a9bbe56d",
   "metadata": {},
   "outputs": [],
   "source": [
    "class Animal:\n",
    "    def __init__(self, name, sir_name):\n",
    "        self.name = name\n",
    "        self.sir_name = sir_name\n",
    "\n",
    "    def call(self):\n",
    "        output1 = f\"{self.name}\"\n",
    "        if self.sir_name:\n",
    "            output1 += f\" {self.sir_name}\"\n",
    "        print(f\"{output1} said Hi\")"
   ]
  },
  {
   "cell_type": "code",
   "execution_count": 21,
   "id": "c1c6b79d-7681-48ae-bfb1-0294ff562b78",
   "metadata": {},
   "outputs": [
    {
     "name": "stdout",
     "output_type": "stream",
     "text": [
      "YUKI Chouhan said Hi\n"
     ]
    }
   ],
   "source": [
    "yuki_dog = Animal('YUKI', \"Chouhan\")\n",
    "\n",
    "yuki_dog.call()"
   ]
  },
  {
   "cell_type": "code",
   "execution_count": 22,
   "id": "c922865e-aa7e-4ba1-913a-8d9b4a7894f7",
   "metadata": {},
   "outputs": [],
   "source": [
    "def find_total_marks_v2(name_of_student):\n",
    "    data = {\"mohit\": [50, 70, 60, 55], \"rohit\": [60, 80, 90, 95],\n",
    "            \"shubham\": [98, 89, 88, 79]}\n",
    "    all_marks = data.get(name_of_student, [])\n",
    "    print(sum(all_marks))"
   ]
  },
  {
   "cell_type": "code",
   "execution_count": 23,
   "id": "8614acca-06d9-4b05-8fa1-0bdf3d674a44",
   "metadata": {},
   "outputs": [
    {
     "name": "stdout",
     "output_type": "stream",
     "text": [
      "325\n"
     ]
    },
    {
     "name": "stderr",
     "output_type": "stream",
     "text": [
      "\u001b[38;5;247mic\u001b[39m\u001b[38;5;245m|\u001b[39m\u001b[38;5;245m \u001b[39m\u001b[38;5;247moutput_of_this_fun\u001b[39m\u001b[38;5;245m:\u001b[39m\u001b[38;5;245m \u001b[39m\u001b[38;5;100mNone\u001b[39m\n"
     ]
    }
   ],
   "source": [
    "output_of_this_fun = find_total_marks_v2(\"rohit\")\n",
    "ic(output_of_this_fun)"
   ]
  },
  {
   "cell_type": "code",
   "execution_count": 24,
   "id": "d65aac7b-361b-4bba-97cc-082965eb380e",
   "metadata": {},
   "outputs": [
    {
     "name": "stderr",
     "output_type": "stream",
     "text": [
      "\u001b[38;5;247mic\u001b[39m\u001b[38;5;245m|\u001b[39m\u001b[38;5;245m \u001b[39m\u001b[38;5;247moutput_of_this_fun\u001b[39m\u001b[38;5;245m:\u001b[39m\u001b[38;5;245m \u001b[39m\u001b[38;5;36m325\u001b[39m\n"
     ]
    },
    {
     "data": {
      "text/plain": [
       "325"
      ]
     },
     "execution_count": 24,
     "metadata": {},
     "output_type": "execute_result"
    }
   ],
   "source": [
    "output_of_this_fun = find_total_marks(\"rohit\")\n",
    "ic(output_of_this_fun)"
   ]
  },
  {
   "cell_type": "code",
   "execution_count": 25,
   "id": "23467183-fdea-474e-8f08-6323d6c93231",
   "metadata": {},
   "outputs": [
    {
     "name": "stdout",
     "output_type": "stream",
     "text": [
      "0\n"
     ]
    }
   ],
   "source": [
    "find_total_marks_v2(\"gowri\")"
   ]
  },
  {
   "cell_type": "code",
   "execution_count": null,
   "id": "99e7f3a0-362e-4bd0-b3e9-87868fea6794",
   "metadata": {},
   "outputs": [],
   "source": [
    "implicit :- auto (hidden)\n",
    "explicit :- that you have to show and do."
   ]
  },
  {
   "cell_type": "code",
   "execution_count": 26,
   "id": "a4f4c558-ece9-457e-81d3-f6b4b87b3fa6",
   "metadata": {},
   "outputs": [
    {
     "name": "stderr",
     "output_type": "stream",
     "text": [
      "\u001b[38;5;247mic\u001b[39m\u001b[38;5;245m|\u001b[39m\u001b[38;5;245m \u001b[39m\u001b[38;5;247moutput1\u001b[39m\u001b[38;5;245m:\u001b[39m\u001b[38;5;245m \u001b[39m\u001b[38;5;36m'\u001b[39m\u001b[38;5;36mMango is 20 Rs Kg\u001b[39m\u001b[38;5;36m'\u001b[39m\u001b[38;5;245m,\u001b[39m\u001b[38;5;245m \u001b[39m\u001b[38;5;247moutput2\u001b[39m\u001b[38;5;245m:\u001b[39m\u001b[38;5;245m \u001b[39m\u001b[38;5;36m'\u001b[39m\u001b[38;5;36mOrange is 30 Rs Kg\u001b[39m\u001b[38;5;36m'\u001b[39m\n"
     ]
    },
    {
     "data": {
      "text/plain": [
       "('Mango is 20 Rs Kg', 'Orange is 30 Rs Kg')"
      ]
     },
     "execution_count": 26,
     "metadata": {},
     "output_type": "execute_result"
    }
   ],
   "source": [
    "x = 20\n",
    "y = 30\n",
    "\n",
    "m = \"Mango\"\n",
    "o = \"Orange\"\n",
    "\n",
    "\n",
    "output1 = f\"{m} is {x} Rs Kg\"\n",
    "output2 = f\"{o} is {y} Rs Kg\"\n",
    "\n",
    "ic(output1, output2)"
   ]
  },
  {
   "cell_type": "code",
   "execution_count": 27,
   "id": "9369a490-003f-4b6b-b7c1-c6a423dede50",
   "metadata": {},
   "outputs": [
    {
     "name": "stderr",
     "output_type": "stream",
     "text": [
      "\u001b[38;5;247mic\u001b[39m\u001b[38;5;245m|\u001b[39m\u001b[38;5;245m \u001b[39m\u001b[38;5;247moutput1\u001b[39m\u001b[38;5;245m:\u001b[39m\u001b[38;5;245m \u001b[39m\u001b[38;5;36m'\u001b[39m\u001b[38;5;166m{m}\u001b[39m\u001b[38;5;36m is \u001b[39m\u001b[38;5;166m{x}\u001b[39m\u001b[38;5;36m Rs Kg\u001b[39m\u001b[38;5;36m'\u001b[39m\u001b[38;5;245m,\u001b[39m\u001b[38;5;245m \u001b[39m\u001b[38;5;247moutput2\u001b[39m\u001b[38;5;245m:\u001b[39m\u001b[38;5;245m \u001b[39m\u001b[38;5;36m'\u001b[39m\u001b[38;5;166m{o}\u001b[39m\u001b[38;5;36m is \u001b[39m\u001b[38;5;166m{y}\u001b[39m\u001b[38;5;36m Rs Kg\u001b[39m\u001b[38;5;36m'\u001b[39m\n"
     ]
    },
    {
     "data": {
      "text/plain": [
       "('{m} is {x} Rs Kg', '{o} is {y} Rs Kg')"
      ]
     },
     "execution_count": 27,
     "metadata": {},
     "output_type": "execute_result"
    }
   ],
   "source": [
    "x = 20\n",
    "y = 30\n",
    "\n",
    "m = \"Mango\"\n",
    "o = \"Orange\"\n",
    "\n",
    "\n",
    "output1 = \"{m} is {x} Rs Kg\"\n",
    "output2 = \"{o} is {y} Rs Kg\"\n",
    "\n",
    "ic(output1, output2)"
   ]
  },
  {
   "cell_type": "code",
   "execution_count": 28,
   "id": "d308915e-2ea3-4a74-8be3-e6357c5d43c7",
   "metadata": {},
   "outputs": [],
   "source": [
    "# Inheritance and polymorphism"
   ]
  },
  {
   "cell_type": "code",
   "execution_count": 33,
   "id": "cb31dea6-cfaa-449e-b346-ca314e44c515",
   "metadata": {},
   "outputs": [],
   "source": [
    "class Animal:\n",
    "    def __init__(self, name, sir_name):\n",
    "        self.name = name\n",
    "        self.sir_name = sir_name\n",
    "\n",
    "    def sound(self):\n",
    "        output1 = f\"{self.name}\"\n",
    "        if self.sir_name:\n",
    "            output1 += f\" {self.sir_name}\"\n",
    "        print(f\"{output1} said Hi\")\n",
    "\n",
    "class Dog(Animal):\n",
    "    def sound(self):\n",
    "        output1 = f\"{self.name}\"\n",
    "        if self.sir_name:\n",
    "            output1 += f\" {self.sir_name}\"\n",
    "        print(f\"{output1} bark\")\n",
    "\n",
    "class Cat(Animal):\n",
    "    def sound(self):\n",
    "        output1 = f\"{self.name}\"\n",
    "        if self.sir_name:\n",
    "            output1 += f\" {self.sir_name}\"\n",
    "        print(f\"{output1} meow\")"
   ]
  },
  {
   "cell_type": "code",
   "execution_count": 34,
   "id": "3b46d916-3c36-44f4-9c39-3390fd9bec9b",
   "metadata": {},
   "outputs": [
    {
     "name": "stdout",
     "output_type": "stream",
     "text": [
      "yuki chouhan bark\n"
     ]
    }
   ],
   "source": [
    "yuki_dog = Dog(name='yuki', sir_name='chouhan')\n",
    "\n",
    "yuki_dog.sound()"
   ]
  },
  {
   "cell_type": "code",
   "execution_count": 35,
   "id": "44b8ac83-d640-478f-8361-dc4c05a8fc0c",
   "metadata": {},
   "outputs": [
    {
     "name": "stdout",
     "output_type": "stream",
     "text": [
      "yuki chouhan meow\n"
     ]
    }
   ],
   "source": [
    "yuki_cat = Cat(name='yuki', sir_name='chouhan')\n",
    "\n",
    "yuki_cat.sound()"
   ]
  },
  {
   "cell_type": "code",
   "execution_count": 37,
   "id": "33b88588-024a-4a52-a751-01e9341001c3",
   "metadata": {},
   "outputs": [
    {
     "data": {
      "text/plain": [
       "'chouhan'"
      ]
     },
     "execution_count": 37,
     "metadata": {},
     "output_type": "execute_result"
    }
   ],
   "source": [
    "yuki_dog.sir_name"
   ]
  },
  {
   "cell_type": "code",
   "execution_count": 38,
   "id": "bf4d1287-87cc-4548-bdd2-e452966e4f7d",
   "metadata": {},
   "outputs": [
    {
     "data": {
      "text/plain": [
       "'yuki'"
      ]
     },
     "execution_count": 38,
     "metadata": {},
     "output_type": "execute_result"
    }
   ],
   "source": [
    "yuki_cat.name"
   ]
  },
  {
   "cell_type": "code",
   "execution_count": null,
   "id": "3b5a5ac3-02c4-4611-ba8c-507b19cf124e",
   "metadata": {},
   "outputs": [],
   "source": [
    "# Over riding\n",
    "# Overwrite the sound function/method in the child classes.\n",
    "# Child classes sound function will be called instead of parent sound function."
   ]
  },
  {
   "cell_type": "code",
   "execution_count": 44,
   "id": "f4270b16-67d4-4e6f-9dbd-1eef7ec61d6c",
   "metadata": {},
   "outputs": [],
   "source": [
    "# Encapsulation\n",
    "\n",
    "class BankAccount:\n",
    "    def __init__(self, balance):\n",
    "        self.__balance = balance  # __balance is a private variable\n",
    "\n",
    "    def deposit(self, amount):\n",
    "        self.__balance += amount\n",
    "\n",
    "    def withdraw(self, amount):\n",
    "        self.__balance -= amount\n",
    "\n",
    "    def get_balance(self):\n",
    "        return self.__balance\n",
    "\n",
    "\n",
    "acc = BankAccount(10000)\n",
    "acc.deposit(500)"
   ]
  },
  {
   "cell_type": "code",
   "execution_count": 45,
   "id": "41b734fe-35d8-4084-b447-e1ed248d3cbd",
   "metadata": {},
   "outputs": [
    {
     "data": {
      "text/plain": [
       "10500"
      ]
     },
     "execution_count": 45,
     "metadata": {},
     "output_type": "execute_result"
    }
   ],
   "source": [
    "acc.get_balance()"
   ]
  },
  {
   "cell_type": "code",
   "execution_count": 46,
   "id": "65bba699-c34a-4bf5-b49e-021d9d8200b4",
   "metadata": {},
   "outputs": [],
   "source": [
    "acc.withdraw(700)"
   ]
  },
  {
   "cell_type": "code",
   "execution_count": 47,
   "id": "3d56945e-90a5-4daa-b841-7daaec6ed33c",
   "metadata": {},
   "outputs": [
    {
     "data": {
      "text/plain": [
       "9800"
      ]
     },
     "execution_count": 47,
     "metadata": {},
     "output_type": "execute_result"
    }
   ],
   "source": [
    "acc.get_balance()"
   ]
  },
  {
   "cell_type": "code",
   "execution_count": 48,
   "id": "2bc4d888-3e5d-4b4e-9638-cb4a0f91da79",
   "metadata": {},
   "outputs": [],
   "source": [
    "# Object methods:- Where object is accessing its data via self parameter, argument\n",
    "\n",
    "# Class methods and static methods\n",
    "\n",
    "class Student:\n",
    "    school_name = \"ABC School\"\n",
    "\n",
    "    def __init__(self, name):\n",
    "        self.name = name\n",
    "\n",
    "    @classmethod\n",
    "    def change_school_name(cls, new_school):\n",
    "        cls.school_name = new_school"
   ]
  },
  {
   "cell_type": "code",
   "execution_count": 49,
   "id": "7282b202-17be-42d9-9aac-32248ccff88e",
   "metadata": {},
   "outputs": [
    {
     "name": "stderr",
     "output_type": "stream",
     "text": [
      "\u001b[38;5;247mic\u001b[39m\u001b[38;5;245m|\u001b[39m\u001b[38;5;245m \u001b[39m\u001b[38;5;247mshubham\u001b[39m\u001b[38;5;245m.\u001b[39m\u001b[38;5;247mschool_name\u001b[39m\u001b[38;5;245m:\u001b[39m\u001b[38;5;245m \u001b[39m\u001b[38;5;36m'\u001b[39m\u001b[38;5;36mABC School\u001b[39m\u001b[38;5;36m'\u001b[39m\u001b[38;5;245m,\u001b[39m\u001b[38;5;245m \u001b[39m\u001b[38;5;247mgowri\u001b[39m\u001b[38;5;245m.\u001b[39m\u001b[38;5;247mschool_name\u001b[39m\u001b[38;5;245m:\u001b[39m\u001b[38;5;245m \u001b[39m\u001b[38;5;36m'\u001b[39m\u001b[38;5;36mABC School\u001b[39m\u001b[38;5;36m'\u001b[39m\n"
     ]
    },
    {
     "data": {
      "text/plain": [
       "('ABC School', 'ABC School')"
      ]
     },
     "execution_count": 49,
     "metadata": {},
     "output_type": "execute_result"
    }
   ],
   "source": [
    "# Class Methods or Class attributes are shared among all the objects.\n",
    "\n",
    "shubham = Student('Shubham')\n",
    "\n",
    "gowri = Student('gowri')\n",
    "\n",
    "ic(shubham.school_name, gowri.school_name)"
   ]
  },
  {
   "cell_type": "code",
   "execution_count": 50,
   "id": "badab3b3-511d-4532-9a63-0d2d23ff778e",
   "metadata": {},
   "outputs": [],
   "source": [
    "Student.change_school_name('XYZ School')"
   ]
  },
  {
   "cell_type": "code",
   "execution_count": 51,
   "id": "e33a04de-5464-4378-bb38-293d156234ab",
   "metadata": {},
   "outputs": [
    {
     "name": "stderr",
     "output_type": "stream",
     "text": [
      "\u001b[38;5;247mic\u001b[39m\u001b[38;5;245m|\u001b[39m\u001b[38;5;245m \u001b[39m\u001b[38;5;247mshubham\u001b[39m\u001b[38;5;245m.\u001b[39m\u001b[38;5;247mschool_name\u001b[39m\u001b[38;5;245m:\u001b[39m\u001b[38;5;245m \u001b[39m\u001b[38;5;36m'\u001b[39m\u001b[38;5;36mXYZ School\u001b[39m\u001b[38;5;36m'\u001b[39m\u001b[38;5;245m,\u001b[39m\u001b[38;5;245m \u001b[39m\u001b[38;5;247mgowri\u001b[39m\u001b[38;5;245m.\u001b[39m\u001b[38;5;247mschool_name\u001b[39m\u001b[38;5;245m:\u001b[39m\u001b[38;5;245m \u001b[39m\u001b[38;5;36m'\u001b[39m\u001b[38;5;36mXYZ School\u001b[39m\u001b[38;5;36m'\u001b[39m\n"
     ]
    },
    {
     "data": {
      "text/plain": [
       "('XYZ School', 'XYZ School')"
      ]
     },
     "execution_count": 51,
     "metadata": {},
     "output_type": "execute_result"
    }
   ],
   "source": [
    "ic(shubham.school_name, gowri.school_name)"
   ]
  },
  {
   "cell_type": "code",
   "execution_count": 52,
   "id": "6c2c9c52-48b2-40a1-9a0c-4da30a9bd65f",
   "metadata": {},
   "outputs": [],
   "source": [
    "class Student:\n",
    "    school_name = \"ABC School\"\n",
    "\n",
    "    def __init__(self, name):\n",
    "        self.name = name\n",
    "\n",
    "    @classmethod\n",
    "    def change_school_name(cls, new_school):\n",
    "        cls.school_name = new_school\n",
    "\n",
    "    @staticmethod\n",
    "    def greet():\n",
    "        print('Hello!!')"
   ]
  },
  {
   "cell_type": "code",
   "execution_count": 53,
   "id": "fee933ba-4185-48e1-9c3b-374aca625597",
   "metadata": {},
   "outputs": [
    {
     "name": "stdout",
     "output_type": "stream",
     "text": [
      "Hello!!\n"
     ]
    }
   ],
   "source": [
    "gowri = Student('gowri')\n",
    "\n",
    "gowri.greet()"
   ]
  },
  {
   "cell_type": "code",
   "execution_count": 57,
   "id": "a397c278-42e6-489b-b7f8-8da90d3a7dec",
   "metadata": {},
   "outputs": [],
   "source": [
    "class Student:\n",
    "    school_name = \"ABC School\"\n",
    "\n",
    "    def __init__(self, name, physics, maths):\n",
    "        self.name = name\n",
    "        self.physics = physics\n",
    "        self.maths = maths\n",
    "\n",
    "    @staticmethod\n",
    "    def __find_percentage_of_student(marks):\n",
    "        marks_acquired = sum(marks)\n",
    "        total_marks = len(marks)*100\n",
    "        percentage = (marks_acquired/total_marks)*100\n",
    "        return percentage\n",
    "\n",
    "    def find_percentage(self):\n",
    "        marks = [self.physics, self.maths]\n",
    "        ouput = Student.find_percentage_of_student(marks)\n",
    "        return ouput"
   ]
  },
  {
   "cell_type": "code",
   "execution_count": 58,
   "id": "8d2a9a9a-49cb-46b5-8f15-8eaafc1efaa1",
   "metadata": {},
   "outputs": [],
   "source": [
    "gowri = Student('gowri', 80, 90)"
   ]
  },
  {
   "cell_type": "code",
   "execution_count": 59,
   "id": "9827c62c-ba01-48ad-91a1-cfb47a7efc64",
   "metadata": {},
   "outputs": [
    {
     "data": {
      "text/plain": [
       "85.0"
      ]
     },
     "execution_count": 59,
     "metadata": {},
     "output_type": "execute_result"
    }
   ],
   "source": [
    "gowri.find_percentage()"
   ]
  },
  {
   "cell_type": "code",
   "execution_count": 60,
   "id": "cbd4d38c-8bf3-46db-9418-15b4a6ae71b3",
   "metadata": {},
   "outputs": [],
   "source": [
    "# Properties and decorators\n",
    "\n",
    "class Person:\n",
    "    def __init__(self, name, age):\n",
    "        self._age = age\n",
    "        self.name = name\n",
    "\n",
    "    @property\n",
    "    def age(self):\n",
    "        return self._age"
   ]
  },
  {
   "cell_type": "code",
   "execution_count": 61,
   "id": "683525b6-66fe-45d9-8ba4-4bf46c28aa55",
   "metadata": {},
   "outputs": [
    {
     "data": {
      "text/plain": [
       "30"
      ]
     },
     "execution_count": 61,
     "metadata": {},
     "output_type": "execute_result"
    }
   ],
   "source": [
    "p = Person(\"Shubham\", 30)\n",
    "p.age"
   ]
  },
  {
   "cell_type": "code",
   "execution_count": 97,
   "id": "9e8642e6-ef5c-4f87-831c-42e755932a26",
   "metadata": {},
   "outputs": [],
   "source": [
    "class Student:\n",
    "    school_name = \"ABC School\"\n",
    "\n",
    "    def __init__(self, name=None, physics=None, maths=None):\n",
    "        self.name = name\n",
    "        self.physics = physics\n",
    "        self.maths = maths\n",
    "\n",
    "    def get_details(self):\n",
    "        return f\"{self.name}-{self.physics}-{self.maths}\"\n",
    "\n",
    "    def set_star(self):\n",
    "        self.star = True\n",
    "\n",
    "    def get_star(self):\n",
    "        if getattr(self, 'star'):\n",
    "            return self.star\n",
    "        return False"
   ]
  },
  {
   "cell_type": "code",
   "execution_count": 98,
   "id": "5e201c59-4f81-4f14-a522-3201e2a9daca",
   "metadata": {},
   "outputs": [],
   "source": [
    "s1 = Student()\n",
    "s2 = Student()"
   ]
  },
  {
   "cell_type": "code",
   "execution_count": 99,
   "id": "0707a6c4-4252-4fea-8974-a229615b86f8",
   "metadata": {},
   "outputs": [
    {
     "data": {
      "text/plain": [
       "__main__.Student"
      ]
     },
     "execution_count": 99,
     "metadata": {},
     "output_type": "execute_result"
    }
   ],
   "source": [
    "type(s1)"
   ]
  },
  {
   "cell_type": "code",
   "execution_count": 100,
   "id": "b6445eb4-034a-4394-8f41-535c65809b34",
   "metadata": {},
   "outputs": [
    {
     "data": {
      "text/plain": [
       "__main__.Student"
      ]
     },
     "execution_count": 100,
     "metadata": {},
     "output_type": "execute_result"
    }
   ],
   "source": [
    "type(s2)"
   ]
  },
  {
   "cell_type": "code",
   "execution_count": 101,
   "id": "564cbd68-6030-4d6d-8749-e4e4fa979a8d",
   "metadata": {},
   "outputs": [],
   "source": [
    "s1.name = \"Mohit\""
   ]
  },
  {
   "cell_type": "code",
   "execution_count": 102,
   "id": "f7b678f9-4586-434b-9b16-012aa9afc766",
   "metadata": {},
   "outputs": [
    {
     "data": {
      "text/plain": [
       "'Mohit-None-None'"
      ]
     },
     "execution_count": 102,
     "metadata": {},
     "output_type": "execute_result"
    }
   ],
   "source": [
    "s1.get_details()"
   ]
  },
  {
   "cell_type": "code",
   "execution_count": 103,
   "id": "e7ae0dbf-39a1-4ff8-838b-7a5dc9015b1e",
   "metadata": {},
   "outputs": [],
   "source": [
    "s1.set_star()"
   ]
  },
  {
   "cell_type": "code",
   "execution_count": 106,
   "id": "fe7096fe-b915-4b7d-aada-587aa6f28786",
   "metadata": {},
   "outputs": [
    {
     "data": {
      "text/plain": [
       "True"
      ]
     },
     "execution_count": 106,
     "metadata": {},
     "output_type": "execute_result"
    }
   ],
   "source": [
    "s1.get_star()"
   ]
  },
  {
   "cell_type": "code",
   "execution_count": 107,
   "id": "605a1a05-8877-4aca-bb75-9d0bf943724a",
   "metadata": {},
   "outputs": [
    {
     "ename": "AttributeError",
     "evalue": "'Student' object has no attribute 'star'",
     "output_type": "error",
     "traceback": [
      "\u001b[0;31m---------------------------------------------------------------------------\u001b[0m",
      "\u001b[0;31mAttributeError\u001b[0m                            Traceback (most recent call last)",
      "Cell \u001b[0;32mIn[107], line 1\u001b[0m\n\u001b[0;32m----> 1\u001b[0m \u001b[43ms2\u001b[49m\u001b[38;5;241;43m.\u001b[39;49m\u001b[43mget_star\u001b[49m\u001b[43m(\u001b[49m\u001b[43m)\u001b[49m\n",
      "Cell \u001b[0;32mIn[97], line 16\u001b[0m, in \u001b[0;36mStudent.get_star\u001b[0;34m(self)\u001b[0m\n\u001b[1;32m     15\u001b[0m \u001b[38;5;28;01mdef\u001b[39;00m\u001b[38;5;250m \u001b[39m\u001b[38;5;21mget_star\u001b[39m(\u001b[38;5;28mself\u001b[39m):\n\u001b[0;32m---> 16\u001b[0m     \u001b[38;5;28;01mif\u001b[39;00m \u001b[38;5;28;43mgetattr\u001b[39;49m\u001b[43m(\u001b[49m\u001b[38;5;28;43mself\u001b[39;49m\u001b[43m,\u001b[49m\u001b[43m \u001b[49m\u001b[38;5;124;43m'\u001b[39;49m\u001b[38;5;124;43mstar\u001b[39;49m\u001b[38;5;124;43m'\u001b[39;49m\u001b[43m)\u001b[49m:\n\u001b[1;32m     17\u001b[0m         \u001b[38;5;28;01mreturn\u001b[39;00m \u001b[38;5;28mself\u001b[39m\u001b[38;5;241m.\u001b[39mstar\n\u001b[1;32m     18\u001b[0m     \u001b[38;5;28;01mreturn\u001b[39;00m \u001b[38;5;28;01mFalse\u001b[39;00m\n",
      "\u001b[0;31mAttributeError\u001b[0m: 'Student' object has no attribute 'star'"
     ]
    }
   ],
   "source": [
    "s2.get_star()"
   ]
  },
  {
   "cell_type": "code",
   "execution_count": null,
   "id": "5c421417-c440-4c0b-a029-33bd18fb3336",
   "metadata": {},
   "outputs": [],
   "source": [
    "# Pending Things\n",
    "\n",
    "# Properties and decorators\n",
    "# Magic methods\n",
    "# Abstract classes and interfaces\n",
    "# Break and continue statements\n",
    "# Parameters and return values\n",
    "# Lambda functions\n",
    "# Scope and namespaces"
   ]
  }
 ],
 "metadata": {
  "kernelspec": {
   "display_name": "Python 3 (ipykernel)",
   "language": "python",
   "name": "python3"
  },
  "language_info": {
   "codemirror_mode": {
    "name": "ipython",
    "version": 3
   },
   "file_extension": ".py",
   "mimetype": "text/x-python",
   "name": "python",
   "nbconvert_exporter": "python",
   "pygments_lexer": "ipython3",
   "version": "3.9.23"
  }
 },
 "nbformat": 4,
 "nbformat_minor": 5
}
