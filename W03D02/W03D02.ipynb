{
 "cells": [
  {
   "cell_type": "code",
   "execution_count": null,
   "id": "01b47166-5d36-43bc-93bb-08f8686a9126",
   "metadata": {},
   "outputs": [],
   "source": [
    "# Pending things\n",
    "\n",
    "# json files\n",
    "# Exception handling\n",
    "# Creating custom exceptions\n",
    "# Context managers\n",
    "# Logging"
   ]
  },
  {
   "cell_type": "code",
   "execution_count": null,
   "id": "726c2a00-f007-4492-994c-96aba71399f3",
   "metadata": {},
   "outputs": [],
   "source": [
    "# with open(path with file name, mode of opening file) as file_pointer:\n",
    "#     do things with that file based on the mode of opening."
   ]
  },
  {
   "cell_type": "code",
   "execution_count": null,
   "id": "2410ed9f-9641-4db1-92cb-3bf4a18248c3",
   "metadata": {},
   "outputs": [],
   "source": [
    "# json files"
   ]
  },
  {
   "cell_type": "code",
   "execution_count": null,
   "id": "bd3a726e-e544-4f5f-8c14-0d444e1f21c3",
   "metadata": {},
   "outputs": [],
   "source": [
    "# python dict are easily convertible into json.\n",
    "\n",
    "1. in json there is double quotes instead of single/double/triple etc in dict.\n",
    "2. Bool values like True/False are written as true/false in json.\n",
    "3. None is written as null in json"
   ]
  },
  {
   "cell_type": "code",
   "execution_count": 2,
   "id": "3f131989-2580-4d64-b788-1c5a2facb156",
   "metadata": {},
   "outputs": [],
   "source": [
    "import json"
   ]
  },
  {
   "cell_type": "code",
   "execution_count": 3,
   "id": "3515bc35-a242-4c13-b98f-26e255828ec1",
   "metadata": {},
   "outputs": [],
   "source": [
    "data = {\"name\": \"Disha\", \"age\": 32, \"city\": \"Delhi\", \"is_failed\": False, \"derrogatory_remarks\": None}\n",
    "\n",
    "with open(\"data.json\", \"w\") as fp:\n",
    "    json.dump(data, fp)"
   ]
  },
  {
   "cell_type": "code",
   "execution_count": 5,
   "id": "7c974ff8-9a7d-403e-acad-23e3403b00ac",
   "metadata": {},
   "outputs": [
    {
     "name": "stderr",
     "output_type": "stream",
     "text": [
      "\u001b[38;5;247mic\u001b[39m\u001b[38;5;245m|\u001b[39m\u001b[38;5;245m \u001b[39m\u001b[38;5;247mloaded_data\u001b[39m\u001b[38;5;245m:\u001b[39m\u001b[38;5;245m \u001b[39m\u001b[38;5;245m{\u001b[39m\u001b[38;5;36m'\u001b[39m\u001b[38;5;36mage\u001b[39m\u001b[38;5;36m'\u001b[39m\u001b[38;5;245m:\u001b[39m\u001b[38;5;245m \u001b[39m\u001b[38;5;36m32\u001b[39m\u001b[38;5;245m,\u001b[39m\n",
      "\u001b[38;5;245m                  \u001b[39m\u001b[38;5;36m'\u001b[39m\u001b[38;5;36mcity\u001b[39m\u001b[38;5;36m'\u001b[39m\u001b[38;5;245m:\u001b[39m\u001b[38;5;245m \u001b[39m\u001b[38;5;36m'\u001b[39m\u001b[38;5;36mDelhi\u001b[39m\u001b[38;5;36m'\u001b[39m\u001b[38;5;245m,\u001b[39m\n",
      "\u001b[38;5;245m                  \u001b[39m\u001b[38;5;36m'\u001b[39m\u001b[38;5;36mderrogatory_remarks\u001b[39m\u001b[38;5;36m'\u001b[39m\u001b[38;5;245m:\u001b[39m\u001b[38;5;245m \u001b[39m\u001b[38;5;100mNone\u001b[39m\u001b[38;5;245m,\u001b[39m\n",
      "\u001b[38;5;245m                  \u001b[39m\u001b[38;5;36m'\u001b[39m\u001b[38;5;36mis_failed\u001b[39m\u001b[38;5;36m'\u001b[39m\u001b[38;5;245m:\u001b[39m\u001b[38;5;245m \u001b[39m\u001b[38;5;100mFalse\u001b[39m\u001b[38;5;245m,\u001b[39m\n",
      "\u001b[38;5;245m                  \u001b[39m\u001b[38;5;36m'\u001b[39m\u001b[38;5;36mname\u001b[39m\u001b[38;5;36m'\u001b[39m\u001b[38;5;245m:\u001b[39m\u001b[38;5;245m \u001b[39m\u001b[38;5;36m'\u001b[39m\u001b[38;5;36mMohit\u001b[39m\u001b[38;5;36m'\u001b[39m\u001b[38;5;245m}\u001b[39m\n"
     ]
    },
    {
     "data": {
      "text/plain": [
       "{'name': 'Mohit',\n",
       " 'age': 32,\n",
       " 'city': 'Delhi',\n",
       " 'is_failed': False,\n",
       " 'derrogatory_remarks': None}"
      ]
     },
     "execution_count": 5,
     "metadata": {},
     "output_type": "execute_result"
    }
   ],
   "source": [
    "from icecream import ic\n",
    "with open(\"data.json\", \"r\") as fp:\n",
    "    loaded_data = json.load(fp)\n",
    "\n",
    "ic(loaded_data)"
   ]
  },
  {
   "cell_type": "code",
   "execution_count": 6,
   "id": "3302e5b4-7fe4-428a-9896-b8da2e3f6a8a",
   "metadata": {},
   "outputs": [
    {
     "data": {
      "text/plain": [
       "dict"
      ]
     },
     "execution_count": 6,
     "metadata": {},
     "output_type": "execute_result"
    }
   ],
   "source": [
    "type(loaded_data)"
   ]
  },
  {
   "cell_type": "code",
   "execution_count": null,
   "id": "cfa52a87-ae20-4d10-9f5d-8f9fd51d2759",
   "metadata": {},
   "outputs": [],
   "source": [
    "{\n",
    "    \"students\": [\n",
    "    {\n",
    "        \"name\": \"shubham\",\n",
    "        \"subject_marks\": [{\"subject\": \"DE\", \"marks\": 99}, \n",
    "                          {\"subject\": \"AI/ML\", \"marks\": 89]\n",
    "    },\n",
    "          \n",
    "    {\n",
    "        \"name\": \"venkat\",\n",
    "         \"subject_marks\": [{\"subject\": \"DE\", \"marks\": 95}, \n",
    "                           {\"subject\": \"AI/ML\", \"marks\": 96]\n",
    "    }\n",
    "    ]\n",
    "\n",
    "}"
   ]
  },
  {
   "cell_type": "code",
   "execution_count": 9,
   "id": "e6490981-0cc5-4551-a26b-f578449d5d3b",
   "metadata": {},
   "outputs": [
    {
     "name": "stdout",
     "output_type": "stream",
     "text": [
      "invalid literal for int() with base 10: 'Hello'\n",
      "I am here right now\n"
     ]
    }
   ],
   "source": [
    "# Exception handling\n",
    "\n",
    "try:\n",
    "    x = int('Hello')\n",
    "except Exception as exc:\n",
    "    print(exc)\n",
    "\n",
    "print('I am here right now')"
   ]
  },
  {
   "cell_type": "code",
   "execution_count": 10,
   "id": "2455475b-1d42-4b2d-8892-07eb668d4f0e",
   "metadata": {},
   "outputs": [
    {
     "ename": "ValueError",
     "evalue": "invalid literal for int() with base 10: 'Hello'",
     "output_type": "error",
     "traceback": [
      "\u001b[0;31m---------------------------------------------------------------------------\u001b[0m",
      "\u001b[0;31mValueError\u001b[0m                                Traceback (most recent call last)",
      "Cell \u001b[0;32mIn[10], line 1\u001b[0m\n\u001b[0;32m----> 1\u001b[0m x \u001b[38;5;241m=\u001b[39m \u001b[38;5;28;43mint\u001b[39;49m\u001b[43m(\u001b[49m\u001b[38;5;124;43m'\u001b[39;49m\u001b[38;5;124;43mHello\u001b[39;49m\u001b[38;5;124;43m'\u001b[39;49m\u001b[43m)\u001b[49m\n\u001b[1;32m      3\u001b[0m \u001b[38;5;28mprint\u001b[39m(\u001b[38;5;124m'\u001b[39m\u001b[38;5;124mI am here right now\u001b[39m\u001b[38;5;124m'\u001b[39m)\n",
      "\u001b[0;31mValueError\u001b[0m: invalid literal for int() with base 10: 'Hello'"
     ]
    }
   ],
   "source": [
    "x = int('Hello')\n",
    "\n",
    "print('I am here right now')"
   ]
  },
  {
   "cell_type": "code",
   "execution_count": 11,
   "id": "7a8abc6b-8b3d-4020-bd61-11a18c3104ab",
   "metadata": {},
   "outputs": [
    {
     "ename": "ZeroDivisionError",
     "evalue": "division by zero",
     "output_type": "error",
     "traceback": [
      "\u001b[0;31m---------------------------------------------------------------------------\u001b[0m",
      "\u001b[0;31mZeroDivisionError\u001b[0m                         Traceback (most recent call last)",
      "Cell \u001b[0;32mIn[11], line 1\u001b[0m\n\u001b[0;32m----> 1\u001b[0m \u001b[38;5;241;43m5\u001b[39;49m\u001b[38;5;241;43m/\u001b[39;49m\u001b[38;5;241;43m0\u001b[39;49m\n",
      "\u001b[0;31mZeroDivisionError\u001b[0m: division by zero"
     ]
    }
   ],
   "source": [
    "5/0"
   ]
  },
  {
   "cell_type": "code",
   "execution_count": 21,
   "id": "c8d400fa-fb79-4473-a83a-8886671d755b",
   "metadata": {},
   "outputs": [
    {
     "name": "stdin",
     "output_type": "stream",
     "text": [
      "Give me a number which will be used to divide 5 5\n"
     ]
    },
    {
     "name": "stdout",
     "output_type": "stream",
     "text": [
      "1.0\n",
      "list index out of range\n"
     ]
    }
   ],
   "source": [
    "try:\n",
    "    no = int(input('Give me a number which will be used to divide 5'))\n",
    "    x = 5/no\n",
    "    print(x)\n",
    "    fruits = ['apple', 'mango']\n",
    "    print(fruits[2])\n",
    "except ZeroDivisionError as exc:\n",
    "    print('You can not divide a number by 0')\n",
    "except ValueError as exc:\n",
    "    print('You have to type numbers only')\n",
    "except Exception as exc:\n",
    "    print(exc)"
   ]
  },
  {
   "cell_type": "code",
   "execution_count": 22,
   "id": "181e7cf1-4ce1-4d99-aca8-3405d55e6d65",
   "metadata": {},
   "outputs": [
    {
     "ename": "IndexError",
     "evalue": "list index out of range",
     "output_type": "error",
     "traceback": [
      "\u001b[0;31m---------------------------------------------------------------------------\u001b[0m",
      "\u001b[0;31mIndexError\u001b[0m                                Traceback (most recent call last)",
      "Cell \u001b[0;32mIn[22], line 2\u001b[0m\n\u001b[1;32m      1\u001b[0m fruits \u001b[38;5;241m=\u001b[39m [\u001b[38;5;124m'\u001b[39m\u001b[38;5;124mapple\u001b[39m\u001b[38;5;124m'\u001b[39m, \u001b[38;5;124m'\u001b[39m\u001b[38;5;124mmango\u001b[39m\u001b[38;5;124m'\u001b[39m]\n\u001b[0;32m----> 2\u001b[0m \u001b[38;5;28mprint\u001b[39m(\u001b[43mfruits\u001b[49m\u001b[43m[\u001b[49m\u001b[38;5;241;43m2\u001b[39;49m\u001b[43m]\u001b[49m)\n",
      "\u001b[0;31mIndexError\u001b[0m: list index out of range"
     ]
    }
   ],
   "source": [
    "fruits = ['apple', 'mango']\n",
    "print(fruits[2])"
   ]
  },
  {
   "cell_type": "code",
   "execution_count": null,
   "id": "e0950c82-02dd-40f1-b1d6-c396fe416244",
   "metadata": {},
   "outputs": [],
   "source": [
    "{\"date\": \"28-09-2025\",\n",
    " \"name\": \"Ankur\"}\n",
    "\n",
    "\n",
    "# \"09/28/2025\""
   ]
  },
  {
   "cell_type": "code",
   "execution_count": 23,
   "id": "da9cf18d-147c-4272-9c86-66bed62cbf71",
   "metadata": {},
   "outputs": [
    {
     "name": "stdout",
     "output_type": "stream",
     "text": [
      "[{'date': '28-09-2025', 'name': 'Ankur'}, {'date': '28-09-2024', 'name': 'Shubham'}, {'date': '28-09-2023', 'name': 'Venkat'}, {'date': '28-09-2022', 'name': 'Prerna'}]\n"
     ]
    }
   ],
   "source": [
    "with open('students_date.json', 'r') as fp:\n",
    "    loaded_data = json.load(fp)\n",
    "\n",
    "print(loaded_data)"
   ]
  },
  {
   "cell_type": "code",
   "execution_count": 25,
   "id": "90313c60-026d-4c8d-a32f-f96f69df74e0",
   "metadata": {},
   "outputs": [
    {
     "ename": "ValueError",
     "evalue": "Invalid isoformat string: '28-09-2025'",
     "output_type": "error",
     "traceback": [
      "\u001b[0;31m---------------------------------------------------------------------------\u001b[0m",
      "\u001b[0;31mValueError\u001b[0m                                Traceback (most recent call last)",
      "Cell \u001b[0;32mIn[25], line 3\u001b[0m\n\u001b[1;32m      1\u001b[0m \u001b[38;5;28;01mfrom\u001b[39;00m\u001b[38;5;250m \u001b[39m\u001b[38;5;21;01mdatetime\u001b[39;00m\u001b[38;5;250m \u001b[39m\u001b[38;5;28;01mimport\u001b[39;00m datetime\n\u001b[0;32m----> 3\u001b[0m \u001b[43mdatetime\u001b[49m\u001b[38;5;241;43m.\u001b[39;49m\u001b[43mfromisoformat\u001b[49m\u001b[43m(\u001b[49m\u001b[38;5;124;43m'\u001b[39;49m\u001b[38;5;124;43m28-09-2025\u001b[39;49m\u001b[38;5;124;43m'\u001b[39;49m\u001b[43m)\u001b[49m\n",
      "\u001b[0;31mValueError\u001b[0m: Invalid isoformat string: '28-09-2025'"
     ]
    }
   ],
   "source": [
    "from datetime import datetime\n",
    "\n",
    "datetime.fromisoformat('28-09-2025', )"
   ]
  },
  {
   "cell_type": "code",
   "execution_count": 31,
   "id": "762a6c53-5aeb-4ba0-bbcb-b5b9ed2ca685",
   "metadata": {},
   "outputs": [],
   "source": [
    "# help(datetime)"
   ]
  },
  {
   "cell_type": "code",
   "execution_count": 30,
   "id": "8a1283bf-1de1-48d4-8329-3f1005a8a752",
   "metadata": {},
   "outputs": [
    {
     "name": "stdout",
     "output_type": "stream",
     "text": [
      "Help on method_descriptor:\n",
      "\n",
      "strftime(...)\n",
      "    format -> strftime() style string.\n",
      "\n"
     ]
    }
   ],
   "source": [
    "help(datetime.strftime())"
   ]
  },
  {
   "cell_type": "code",
   "execution_count": 39,
   "id": "c9e41769-514b-4f3c-a8ad-3c83e6bfaad7",
   "metadata": {},
   "outputs": [],
   "source": [
    "import csv\n",
    "import json\n",
    "\n",
    "\n",
    "with open('students_date.json', 'r') as fp:\n",
    "    loaded_data = json.load(fp)\n",
    "\n",
    "print(loaded_data)\n",
    "\n",
    "with open('students_date.csv', 'w') as fp:\n",
    "    writer = csv.writer(fp)\n",
    "    writer.writerow([\"date\", \"name\"])\n",
    "    for row in loaded_data:\n",
    "        date_obj = datetime.strptime(row['date'], \"%d-%m-%Y\").date()\n",
    "        date_str = date_obj.strftime(\"%m/%d/%Y\")\n",
    "        writer.writerow([date_str, row['name']])"
   ]
  },
  {
   "cell_type": "code",
   "execution_count": 33,
   "id": "97c02bcd-92e1-459b-b2d9-1c45296905a5",
   "metadata": {},
   "outputs": [
    {
     "ename": "ValueError",
     "evalue": "Invalid isoformat string: '28-09-2025'",
     "output_type": "error",
     "traceback": [
      "\u001b[0;31m---------------------------------------------------------------------------\u001b[0m",
      "\u001b[0;31mValueError\u001b[0m                                Traceback (most recent call last)",
      "Cell \u001b[0;32mIn[33], line 3\u001b[0m\n\u001b[1;32m      1\u001b[0m dt \u001b[38;5;241m=\u001b[39m \u001b[38;5;124m'\u001b[39m\u001b[38;5;124m2025-09-28\u001b[39m\u001b[38;5;124m'\u001b[39m\n\u001b[0;32m----> 3\u001b[0m \u001b[43mdatetime\u001b[49m\u001b[38;5;241;43m.\u001b[39;49m\u001b[43mfromisoformat\u001b[49m\u001b[43m(\u001b[49m\u001b[38;5;124;43m\"\u001b[39;49m\u001b[38;5;124;43m28-09-2025\u001b[39;49m\u001b[38;5;124;43m\"\u001b[39;49m\u001b[43m)\u001b[49m\n",
      "\u001b[0;31mValueError\u001b[0m: Invalid isoformat string: '28-09-2025'"
     ]
    }
   ],
   "source": [
    "# Understanding datetime library\n",
    "\n",
    "dt = '2025-09-28'\n",
    "\n",
    "datetime.fromisoformat(\"28-09-2025\")"
   ]
  },
  {
   "cell_type": "code",
   "execution_count": 34,
   "id": "e38fb4d8-58a4-4b8e-b4bb-c0c6efb865e2",
   "metadata": {},
   "outputs": [],
   "source": [
    "# let's read date in \"28-09-2025\" from a string\n",
    "x = \"28-09-2025\"\n",
    "current_date = datetime.strptime(x, \"%d-%m-%Y\").date()"
   ]
  },
  {
   "cell_type": "code",
   "execution_count": 35,
   "id": "1ec837ce-98d3-4e94-9b1b-a62602becd29",
   "metadata": {},
   "outputs": [
    {
     "data": {
      "text/plain": [
       "datetime.date(2025, 9, 28)"
      ]
     },
     "execution_count": 35,
     "metadata": {},
     "output_type": "execute_result"
    }
   ],
   "source": [
    "current_date"
   ]
  },
  {
   "cell_type": "code",
   "execution_count": 36,
   "id": "66a989b8-3e10-4822-9e78-f32517e03f0a",
   "metadata": {},
   "outputs": [],
   "source": [
    "current_date = current_date.strftime(\"%m/%d/%Y\")"
   ]
  },
  {
   "cell_type": "code",
   "execution_count": 37,
   "id": "f3c5c1d9-334c-4bfd-a3c8-a8afe1b8f01f",
   "metadata": {},
   "outputs": [
    {
     "data": {
      "text/plain": [
       "'09/28/2025'"
      ]
     },
     "execution_count": 37,
     "metadata": {},
     "output_type": "execute_result"
    }
   ],
   "source": [
    "current_date"
   ]
  },
  {
   "cell_type": "code",
   "execution_count": 40,
   "id": "f1ac10d8-78d2-4499-99a1-ccf54af63446",
   "metadata": {},
   "outputs": [],
   "source": [
    "# Context managers\n",
    "\n",
    "with open('hello.txt', 'w') as fp:\n",
    "    fp.write('hello world')\n",
    "\n",
    "# here"
   ]
  },
  {
   "cell_type": "code",
   "execution_count": 43,
   "id": "405a9bb9-6ff6-4c05-9435-4724b5b6cf62",
   "metadata": {},
   "outputs": [],
   "source": [
    "fp = open('hello.txt', 'r')\n",
    "\n",
    "fp.read()\n",
    "\n",
    "fp.close()"
   ]
  },
  {
   "cell_type": "code",
   "execution_count": 42,
   "id": "7b81c926-5881-4637-a0a2-140a422cb33a",
   "metadata": {},
   "outputs": [],
   "source": [
    "# Why is it important to close the file after reading/writing it?\n",
    "# When you are reading or writing file you are doing it in memory/RAM and since systems\n",
    "# have limited ram/memory(given to our python program).\n",
    "# If our python program runs out of memory by storing multiple files, than our \n",
    "# program can crash."
   ]
  },
  {
   "cell_type": "code",
   "execution_count": 45,
   "id": "c965ce0f-14b5-433e-bcbf-b20be5e45d76",
   "metadata": {},
   "outputs": [
    {
     "name": "stdout",
     "output_type": "stream",
     "text": [
      "Entering Context\n",
      "Inside Context\n",
      "Exiting Context\n",
      "I am here\n"
     ]
    }
   ],
   "source": [
    "class MyContext:\n",
    "    def __enter__(self):\n",
    "        print('Entering Context')\n",
    "        return self\n",
    "\n",
    "    def __exit__(self, exc_type, exc_value, exc_tb):\n",
    "        print('Exiting Context')\n",
    "\n",
    "\n",
    "with MyContext():\n",
    "    print('Inside Context')\n",
    "print('I am here')"
   ]
  },
  {
   "cell_type": "code",
   "execution_count": 51,
   "id": "989bc2d9-7c5c-40cd-a222-fb925f81cb71",
   "metadata": {},
   "outputs": [
    {
     "name": "stdout",
     "output_type": "stream",
     "text": [
      "Entering Context\n",
      "hello world\n",
      "Exiting Context\n",
      "I am here\n"
     ]
    }
   ],
   "source": [
    "# fp = open('hello.txt', 'r')\n",
    "\n",
    "# fp.read()\n",
    "\n",
    "# fp.close()\n",
    "\n",
    "class MyOpen:\n",
    "    def __init__(self, file_name, mode):\n",
    "        self.file_name = file_name\n",
    "        self.mode = mode\n",
    "\n",
    "    def __enter__(self):\n",
    "        print('Entering Context')\n",
    "        self.fp = open(self.file_name, self.mode)\n",
    "        return self.fp\n",
    "\n",
    "    def __exit__(self, exc_type, exc_value, exc_tb):\n",
    "        self.fp.close()\n",
    "        print('Exiting Context')\n",
    "\n",
    "\n",
    "with MyOpen('hello.txt', 'r') as fp:\n",
    "    file_content = fp.read()\n",
    "    print(file_content)\n",
    "print('I am here')"
   ]
  },
  {
   "cell_type": "code",
   "execution_count": null,
   "id": "1cb7b689-08c1-46f7-b7b8-aa50c578f696",
   "metadata": {},
   "outputs": [],
   "source": []
  }
 ],
 "metadata": {
  "kernelspec": {
   "display_name": "Python 3 (ipykernel)",
   "language": "python",
   "name": "python3"
  },
  "language_info": {
   "codemirror_mode": {
    "name": "ipython",
    "version": 3
   },
   "file_extension": ".py",
   "mimetype": "text/x-python",
   "name": "python",
   "nbconvert_exporter": "python",
   "pygments_lexer": "ipython3",
   "version": "3.9.23"
  }
 },
 "nbformat": 4,
 "nbformat_minor": 5
}
