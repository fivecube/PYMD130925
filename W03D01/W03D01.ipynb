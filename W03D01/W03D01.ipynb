{
 "cells": [
  {
   "cell_type": "code",
   "execution_count": null,
   "id": "dffa89bf-8e50-4630-9542-e49ae3830203",
   "metadata": {},
   "outputs": [],
   "source": [
    "# Break and continue statements\n",
    "# Parameters and return values\n",
    "# Lambda functions\n",
    "# Scope and namespaces"
   ]
  },
  {
   "cell_type": "code",
   "execution_count": 1,
   "id": "4afbfacb-a3ca-4b3e-a325-fc3eef042d28",
   "metadata": {},
   "outputs": [
    {
     "name": "stderr",
     "output_type": "stream",
     "text": [
      "\u001b[38;5;247mic\u001b[39m\u001b[38;5;245m|\u001b[39m\u001b[38;5;245m \u001b[39m\u001b[38;5;247mperson\u001b[39m\u001b[38;5;245m:\u001b[39m\u001b[38;5;245m \u001b[39m\u001b[38;5;36m'\u001b[39m\u001b[38;5;36mram\u001b[39m\u001b[38;5;36m'\u001b[39m\n",
      "\u001b[38;5;247mic\u001b[39m\u001b[38;5;245m|\u001b[39m\u001b[38;5;245m \u001b[39m\u001b[38;5;247mperson\u001b[39m\u001b[38;5;245m:\u001b[39m\u001b[38;5;245m \u001b[39m\u001b[38;5;36m'\u001b[39m\u001b[38;5;36mmohan\u001b[39m\u001b[38;5;36m'\u001b[39m\n",
      "\u001b[38;5;247mic\u001b[39m\u001b[38;5;245m|\u001b[39m\u001b[38;5;245m \u001b[39m\u001b[38;5;247mperson\u001b[39m\u001b[38;5;245m:\u001b[39m\u001b[38;5;245m \u001b[39m\u001b[38;5;36m'\u001b[39m\u001b[38;5;36mshyam\u001b[39m\u001b[38;5;36m'\u001b[39m\n",
      "\u001b[38;5;247mic\u001b[39m\u001b[38;5;245m|\u001b[39m\u001b[38;5;245m \u001b[39m\u001b[38;5;247mperson\u001b[39m\u001b[38;5;245m:\u001b[39m\u001b[38;5;245m \u001b[39m\u001b[38;5;36m'\u001b[39m\u001b[38;5;36mmohit\u001b[39m\u001b[38;5;36m'\u001b[39m\n",
      "\u001b[38;5;247mic\u001b[39m\u001b[38;5;245m|\u001b[39m\u001b[38;5;245m \u001b[39m\u001b[38;5;36m'\u001b[39m\u001b[38;5;36mmohit found!\u001b[39m\u001b[38;5;36m'\u001b[39m\n"
     ]
    }
   ],
   "source": [
    "from icecream import ic\n",
    "persons = ['ram', 'mohan', 'shyam', 'mohit', 'rohit']\n",
    "\n",
    "# searching for mohit\n",
    "\n",
    "for person in persons:\n",
    "    ic(person)\n",
    "    if person == 'mohit':\n",
    "        ic('mohit found!')\n",
    "        break"
   ]
  },
  {
   "cell_type": "code",
   "execution_count": 3,
   "id": "698fe852-29ed-4bf9-9311-c07ddd0a17f0",
   "metadata": {},
   "outputs": [
    {
     "name": "stderr",
     "output_type": "stream",
     "text": [
      "\u001b[38;5;247mic\u001b[39m\u001b[38;5;245m|\u001b[39m\u001b[38;5;245m \u001b[39m\u001b[38;5;247mperson\u001b[39m\u001b[38;5;245m:\u001b[39m\u001b[38;5;245m \u001b[39m\u001b[38;5;36m'\u001b[39m\u001b[38;5;36mram\u001b[39m\u001b[38;5;36m'\u001b[39m\n",
      "\u001b[38;5;247mic\u001b[39m\u001b[38;5;245m|\u001b[39m\u001b[38;5;245m \u001b[39m\u001b[38;5;247mperson\u001b[39m\u001b[38;5;245m:\u001b[39m\u001b[38;5;245m \u001b[39m\u001b[38;5;36m'\u001b[39m\u001b[38;5;36mmohan\u001b[39m\u001b[38;5;36m'\u001b[39m\n",
      "\u001b[38;5;247mic\u001b[39m\u001b[38;5;245m|\u001b[39m\u001b[38;5;245m \u001b[39m\u001b[38;5;247mperson\u001b[39m\u001b[38;5;245m:\u001b[39m\u001b[38;5;245m \u001b[39m\u001b[38;5;36m'\u001b[39m\u001b[38;5;36mshyam\u001b[39m\u001b[38;5;36m'\u001b[39m\n",
      "\u001b[38;5;247mic\u001b[39m\u001b[38;5;245m|\u001b[39m\u001b[38;5;245m \u001b[39m\u001b[38;5;247mperson\u001b[39m\u001b[38;5;245m:\u001b[39m\u001b[38;5;245m \u001b[39m\u001b[38;5;36m'\u001b[39m\u001b[38;5;36mmohit\u001b[39m\u001b[38;5;36m'\u001b[39m\n",
      "\u001b[38;5;247mic\u001b[39m\u001b[38;5;245m|\u001b[39m\u001b[38;5;245m \u001b[39m\u001b[38;5;36m'\u001b[39m\u001b[38;5;36mmohit found!\u001b[39m\u001b[38;5;36m'\u001b[39m\n"
     ]
    }
   ],
   "source": [
    "persons = ['ram', 'mohan', 'shyam', 'mohit', 'rohit']\n",
    "\n",
    "index = 0\n",
    "\n",
    "while True:\n",
    "    person = persons[index]\n",
    "    ic(person)\n",
    "    if person == 'mohit':\n",
    "        ic('mohit found!')\n",
    "        break\n",
    "    index += 1"
   ]
  },
  {
   "cell_type": "code",
   "execution_count": 8,
   "id": "34dfe25c-6f19-4695-b343-5bccd1f7e7c2",
   "metadata": {},
   "outputs": [
    {
     "name": "stderr",
     "output_type": "stream",
     "text": [
      "\u001b[38;5;247mic\u001b[39m\u001b[38;5;245m|\u001b[39m\u001b[38;5;245m \u001b[39m\u001b[38;5;247mindex\u001b[39m\u001b[38;5;245m:\u001b[39m\u001b[38;5;245m \u001b[39m\u001b[38;5;36m0\u001b[39m\u001b[38;5;245m,\u001b[39m\u001b[38;5;245m \u001b[39m\u001b[38;5;247mperson\u001b[39m\u001b[38;5;245m:\u001b[39m\u001b[38;5;245m \u001b[39m\u001b[38;5;36m'\u001b[39m\u001b[38;5;36mram\u001b[39m\u001b[38;5;36m'\u001b[39m\n",
      "\u001b[38;5;247mic\u001b[39m\u001b[38;5;245m|\u001b[39m\u001b[38;5;245m \u001b[39m\u001b[38;5;36m'\u001b[39m\u001b[38;5;36mhappy happy\u001b[39m\u001b[38;5;36m'\u001b[39m\n",
      "\u001b[38;5;247mic\u001b[39m\u001b[38;5;245m|\u001b[39m\u001b[38;5;245m \u001b[39m\u001b[38;5;247mindex\u001b[39m\u001b[38;5;245m:\u001b[39m\u001b[38;5;245m \u001b[39m\u001b[38;5;36m1\u001b[39m\u001b[38;5;245m,\u001b[39m\u001b[38;5;245m \u001b[39m\u001b[38;5;247mperson\u001b[39m\u001b[38;5;245m:\u001b[39m\u001b[38;5;245m \u001b[39m\u001b[38;5;36m'\u001b[39m\u001b[38;5;36mmohan\u001b[39m\u001b[38;5;36m'\u001b[39m\n",
      "\u001b[38;5;247mic\u001b[39m\u001b[38;5;245m|\u001b[39m\u001b[38;5;245m \u001b[39m\u001b[38;5;36m'\u001b[39m\u001b[38;5;36mhappy happy\u001b[39m\u001b[38;5;36m'\u001b[39m\n",
      "\u001b[38;5;247mic\u001b[39m\u001b[38;5;245m|\u001b[39m\u001b[38;5;245m \u001b[39m\u001b[38;5;36m'\u001b[39m\u001b[38;5;36mshyam found! and lets skip printing shyam\u001b[39m\u001b[38;5;36m'\u001b[39m\n",
      "\u001b[38;5;247mic\u001b[39m\u001b[38;5;245m|\u001b[39m\u001b[38;5;245m \u001b[39m\u001b[38;5;247mindex\u001b[39m\u001b[38;5;245m:\u001b[39m\u001b[38;5;245m \u001b[39m\u001b[38;5;36m3\u001b[39m\u001b[38;5;245m,\u001b[39m\u001b[38;5;245m \u001b[39m\u001b[38;5;247mperson\u001b[39m\u001b[38;5;245m:\u001b[39m\u001b[38;5;245m \u001b[39m\u001b[38;5;36m'\u001b[39m\u001b[38;5;36mmohit\u001b[39m\u001b[38;5;36m'\u001b[39m\n",
      "\u001b[38;5;247mic\u001b[39m\u001b[38;5;245m|\u001b[39m\u001b[38;5;245m \u001b[39m\u001b[38;5;36m'\u001b[39m\u001b[38;5;36mhappy happy\u001b[39m\u001b[38;5;36m'\u001b[39m\n",
      "\u001b[38;5;247mic\u001b[39m\u001b[38;5;245m|\u001b[39m\u001b[38;5;245m \u001b[39m\u001b[38;5;247mindex\u001b[39m\u001b[38;5;245m:\u001b[39m\u001b[38;5;245m \u001b[39m\u001b[38;5;36m4\u001b[39m\u001b[38;5;245m,\u001b[39m\u001b[38;5;245m \u001b[39m\u001b[38;5;247mperson\u001b[39m\u001b[38;5;245m:\u001b[39m\u001b[38;5;245m \u001b[39m\u001b[38;5;36m'\u001b[39m\u001b[38;5;36mrohit\u001b[39m\u001b[38;5;36m'\u001b[39m\n",
      "\u001b[38;5;247mic\u001b[39m\u001b[38;5;245m|\u001b[39m\u001b[38;5;245m \u001b[39m\u001b[38;5;36m'\u001b[39m\u001b[38;5;36mhappy happy\u001b[39m\u001b[38;5;36m'\u001b[39m\n"
     ]
    }
   ],
   "source": [
    "# continue statement\n",
    "# continue with the next item.\n",
    "persons = ['ram', 'mohan', 'shyam', 'mohit', 'rohit']\n",
    "\n",
    "index = -1\n",
    "\n",
    "while index < len(persons)-1:\n",
    "    index += 1\n",
    "    person = persons[index]\n",
    "    if person == 'shyam':\n",
    "        ic('shyam found! and lets skip printing shyam')\n",
    "        continue\n",
    "    ic(index, person)\n",
    "    ic('happy happy')"
   ]
  },
  {
   "cell_type": "code",
   "execution_count": 9,
   "id": "3dfa6cae-ed55-4fef-8aa2-54edf59cb744",
   "metadata": {},
   "outputs": [],
   "source": [
    "# Parameters and return values\n",
    "\n",
    "# Paramters\n",
    "# Arguments which are passed in the function\n",
    "\n",
    "def greet(name, age=18):\n",
    "    return f\"Hello {name}, you are {age} years old\""
   ]
  },
  {
   "cell_type": "code",
   "execution_count": 10,
   "id": "0d2bc10b-1b32-4dd2-a0b1-42d46e365260",
   "metadata": {},
   "outputs": [
    {
     "data": {
      "text/plain": [
       "'Hello mohan, you are 34 years old'"
      ]
     },
     "execution_count": 10,
     "metadata": {},
     "output_type": "execute_result"
    }
   ],
   "source": [
    "greet('mohan', 34)"
   ]
  },
  {
   "cell_type": "code",
   "execution_count": 11,
   "id": "659eac37-2ddd-4e9b-bc39-3c932c50aba7",
   "metadata": {},
   "outputs": [
    {
     "data": {
      "text/plain": [
       "'Hello rohit, you are 37 years old'"
      ]
     },
     "execution_count": 11,
     "metadata": {},
     "output_type": "execute_result"
    }
   ],
   "source": [
    "greet('rohit', 37)"
   ]
  },
  {
   "cell_type": "code",
   "execution_count": 12,
   "id": "b9641ee1-6ebc-4071-9a05-5c7caa353a3a",
   "metadata": {},
   "outputs": [
    {
     "data": {
      "text/plain": [
       "'Hello rohan, you are 18 years old'"
      ]
     },
     "execution_count": 12,
     "metadata": {},
     "output_type": "execute_result"
    }
   ],
   "source": [
    "greet('rohan')"
   ]
  },
  {
   "cell_type": "code",
   "execution_count": 13,
   "id": "25244eec-eb55-4530-9f94-f1cd18553db6",
   "metadata": {},
   "outputs": [
    {
     "name": "stdout",
     "output_type": "stream",
     "text": [
      "Hello rohan, you are 18 years old\n"
     ]
    }
   ],
   "source": [
    "return_value = greet('rohan')\n",
    "\n",
    "print(return_value)"
   ]
  },
  {
   "cell_type": "code",
   "execution_count": null,
   "id": "e44e5ca5-404d-4c1d-b093-c1dbadb2fa89",
   "metadata": {},
   "outputs": [],
   "source": [
    "# Return Values\n",
    "# if you don't return anything, you automatically return None"
   ]
  },
  {
   "cell_type": "code",
   "execution_count": 15,
   "id": "ee2b5a87-2063-4a1f-a974-fee9a9c1818f",
   "metadata": {},
   "outputs": [],
   "source": [
    "def greet(name, age=36):\n",
    "    ic(name, f'Welcome!! happy to see your {age} years old')"
   ]
  },
  {
   "cell_type": "code",
   "execution_count": 17,
   "id": "ad0f23ce-c718-423b-a6ef-f9005ef14910",
   "metadata": {},
   "outputs": [
    {
     "name": "stderr",
     "output_type": "stream",
     "text": [
      "\u001b[38;5;247mic\u001b[39m\u001b[38;5;245m|\u001b[39m\u001b[38;5;245m \u001b[39m\u001b[38;5;247mname\u001b[39m\u001b[38;5;245m:\u001b[39m\u001b[38;5;245m \u001b[39m\u001b[38;5;36m'\u001b[39m\u001b[38;5;36mshyam\u001b[39m\u001b[38;5;36m'\u001b[39m\n",
      "\u001b[38;5;245m    \u001b[39m\u001b[38;5;36mf\u001b[39m\u001b[38;5;36m'\u001b[39m\u001b[38;5;36mWelcome!! happy to see your \u001b[39m\u001b[38;5;166m{\u001b[39m\u001b[38;5;247mage\u001b[39m\u001b[38;5;166m}\u001b[39m\u001b[38;5;36m years old\u001b[39m\u001b[38;5;36m'\u001b[39m\u001b[38;5;245m:\u001b[39m\u001b[38;5;245m \u001b[39m\u001b[38;5;36m'\u001b[39m\u001b[38;5;36mWelcome!! happy to see your 36 years old\u001b[39m\u001b[38;5;36m'\u001b[39m\n"
     ]
    }
   ],
   "source": [
    "return_value = greet('shyam')"
   ]
  },
  {
   "cell_type": "code",
   "execution_count": 18,
   "id": "ffbc56fa-61e8-458a-9349-b28dcb646db6",
   "metadata": {},
   "outputs": [
    {
     "name": "stdout",
     "output_type": "stream",
     "text": [
      "None\n"
     ]
    }
   ],
   "source": [
    "print(return_value)"
   ]
  },
  {
   "cell_type": "code",
   "execution_count": null,
   "id": "204c493d-4f94-451a-9352-5c064cb67d4c",
   "metadata": {},
   "outputs": [],
   "source": [
    "# Lambda functions\n",
    "# single line functions generally for small computation purpose.\n",
    "# they can be used nameless"
   ]
  },
  {
   "cell_type": "code",
   "execution_count": 19,
   "id": "77161e83-3d40-494c-bf8a-fc870a6c5d97",
   "metadata": {},
   "outputs": [],
   "source": [
    "def squares(x):\n",
    "    return x*x"
   ]
  },
  {
   "cell_type": "code",
   "execution_count": 21,
   "id": "8c69419d-b806-44a6-87e6-ad668720e222",
   "metadata": {},
   "outputs": [
    {
     "name": "stdout",
     "output_type": "stream",
     "text": [
      "1\n",
      "4\n",
      "9\n",
      "16\n",
      "25\n",
      "36\n",
      "49\n",
      "64\n",
      "81\n"
     ]
    }
   ],
   "source": [
    "for i in range(1, 10):\n",
    "    print(squares(i))"
   ]
  },
  {
   "cell_type": "code",
   "execution_count": 23,
   "id": "b32bd274-92ef-492f-8894-079569434ab3",
   "metadata": {},
   "outputs": [
    {
     "name": "stdout",
     "output_type": "stream",
     "text": [
      "1\n",
      "4\n",
      "9\n",
      "16\n",
      "25\n",
      "36\n",
      "49\n",
      "64\n",
      "81\n"
     ]
    }
   ],
   "source": [
    "squares_v2 = lambda x: x*x\n",
    "\n",
    "for i in range(1, 10):\n",
    "    print(squares_v2(i))"
   ]
  },
  {
   "cell_type": "code",
   "execution_count": 24,
   "id": "0300f8e1-bd1f-4ae6-8f2e-0088a4c489c3",
   "metadata": {},
   "outputs": [],
   "source": [
    "# lambda syntax\n",
    "\n",
    "# lambda input : output\n",
    "\n",
    "add = lambda x, y : x+y"
   ]
  },
  {
   "cell_type": "code",
   "execution_count": 25,
   "id": "1209329a-3cf6-4898-aeb2-db6d2ed5f259",
   "metadata": {},
   "outputs": [
    {
     "data": {
      "text/plain": [
       "79"
      ]
     },
     "execution_count": 25,
     "metadata": {},
     "output_type": "execute_result"
    }
   ],
   "source": [
    "add(45, 34)"
   ]
  },
  {
   "cell_type": "code",
   "execution_count": 26,
   "id": "43cf41ed-2096-4894-9e64-1fc21de5aad7",
   "metadata": {},
   "outputs": [
    {
     "data": {
      "text/plain": [
       "90"
      ]
     },
     "execution_count": 26,
     "metadata": {},
     "output_type": "execute_result"
    }
   ],
   "source": [
    "add(45, 45)"
   ]
  },
  {
   "cell_type": "code",
   "execution_count": 31,
   "id": "380ff295-386e-409e-a596-bb7c9dddb980",
   "metadata": {},
   "outputs": [],
   "source": [
    "# map with lambda nameless\n",
    "\n",
    "nums = [1, 2, 3, 4]\n",
    "\n",
    "output = map(lambda x: x*x, nums)"
   ]
  },
  {
   "cell_type": "code",
   "execution_count": 30,
   "id": "cc12b7b0-0909-4a41-9f10-03a755d47c6b",
   "metadata": {},
   "outputs": [
    {
     "name": "stdout",
     "output_type": "stream",
     "text": [
      "[1, 4, 9, 16]\n"
     ]
    }
   ],
   "source": [
    "print(list(output))"
   ]
  },
  {
   "cell_type": "code",
   "execution_count": 34,
   "id": "d338ca7b-0137-4397-984b-171237c7935f",
   "metadata": {},
   "outputs": [],
   "source": [
    "# map with lambda nameless\n",
    "\n",
    "nums = [(1, 5), (2, 5), (3,5), (4,5)]\n",
    "\n",
    "output = map(lambda x_y: x_y[0]+x_y[1], nums)"
   ]
  },
  {
   "cell_type": "code",
   "execution_count": 35,
   "id": "d0e5f5b7-498d-4ae0-adc0-7fc66ec41d7d",
   "metadata": {},
   "outputs": [
    {
     "name": "stdout",
     "output_type": "stream",
     "text": [
      "[6, 7, 8, 9]\n"
     ]
    }
   ],
   "source": [
    "print(list(output))"
   ]
  },
  {
   "cell_type": "code",
   "execution_count": null,
   "id": "21638217-5395-44b3-996a-3e23c4a1e05b",
   "metadata": {},
   "outputs": [],
   "source": [
    "# Scope and namespaces\n",
    "\n",
    "# Scope:- where  a variable is accessible in python code.\n",
    "# LEGB RULE\n",
    "\n",
    "1. Local\n",
    "2. Enclosing\n",
    "3. Global\n",
    "4. Built-in -> Python's own names like (len, print, lambda, etc)"
   ]
  },
  {
   "cell_type": "code",
   "execution_count": 36,
   "id": "e14838aa-4042-4c68-ac39-56b460bf6da4",
   "metadata": {},
   "outputs": [
    {
     "name": "stdout",
     "output_type": "stream",
     "text": [
      "Inside func 5\n",
      "Outside func 10\n"
     ]
    }
   ],
   "source": [
    "x = 10 # global\n",
    "\n",
    "def func():\n",
    "    x = 5  # local\n",
    "    print('Inside func', x)\n",
    "\n",
    "func()\n",
    "print('Outside func', x)"
   ]
  },
  {
   "cell_type": "code",
   "execution_count": 37,
   "id": "4b60aaa6-dfe9-43b2-91e8-daa3c111a9e3",
   "metadata": {},
   "outputs": [
    {
     "name": "stdout",
     "output_type": "stream",
     "text": [
      "Inside func 5\n",
      "Outside func 5\n"
     ]
    }
   ],
   "source": [
    "x = 10 # global\n",
    "\n",
    "def func():\n",
    "    global x\n",
    "    x = 5  # local\n",
    "    print('Inside func', x)\n",
    "\n",
    "func()\n",
    "print('Outside func', x)"
   ]
  },
  {
   "cell_type": "code",
   "execution_count": 38,
   "id": "3469437d-6791-4e71-ad24-969ac315d46d",
   "metadata": {},
   "outputs": [
    {
     "name": "stdout",
     "output_type": "stream",
     "text": [
      "Inside func 10\n",
      "Outside func 10\n"
     ]
    }
   ],
   "source": [
    "# LEGB\n",
    "\n",
    "x = 10 # global\n",
    "\n",
    "def func():\n",
    "    print('Inside func', x)\n",
    "\n",
    "func()\n",
    "print('Outside func', x)"
   ]
  },
  {
   "cell_type": "code",
   "execution_count": 39,
   "id": "cf7e1dfa-84ce-45ef-b8ab-779d0eb5b8f2",
   "metadata": {},
   "outputs": [
    {
     "ename": "NameError",
     "evalue": "name 'a' is not defined",
     "output_type": "error",
     "traceback": [
      "\u001b[0;31m---------------------------------------------------------------------------\u001b[0m",
      "\u001b[0;31mNameError\u001b[0m                                 Traceback (most recent call last)",
      "Cell \u001b[0;32mIn[39], line 6\u001b[0m\n\u001b[1;32m      3\u001b[0m \u001b[38;5;28;01mdef\u001b[39;00m\u001b[38;5;250m \u001b[39m\u001b[38;5;21mfunc\u001b[39m():\n\u001b[1;32m      4\u001b[0m     \u001b[38;5;28mprint\u001b[39m(\u001b[38;5;124m'\u001b[39m\u001b[38;5;124mInside func\u001b[39m\u001b[38;5;124m'\u001b[39m, a)\n\u001b[0;32m----> 6\u001b[0m \u001b[43mfunc\u001b[49m\u001b[43m(\u001b[49m\u001b[43m)\u001b[49m\n\u001b[1;32m      7\u001b[0m \u001b[38;5;28mprint\u001b[39m(\u001b[38;5;124m'\u001b[39m\u001b[38;5;124mOutside func\u001b[39m\u001b[38;5;124m'\u001b[39m, a)\n",
      "Cell \u001b[0;32mIn[39], line 4\u001b[0m, in \u001b[0;36mfunc\u001b[0;34m()\u001b[0m\n\u001b[1;32m      3\u001b[0m \u001b[38;5;28;01mdef\u001b[39;00m\u001b[38;5;250m \u001b[39m\u001b[38;5;21mfunc\u001b[39m():\n\u001b[0;32m----> 4\u001b[0m     \u001b[38;5;28mprint\u001b[39m(\u001b[38;5;124m'\u001b[39m\u001b[38;5;124mInside func\u001b[39m\u001b[38;5;124m'\u001b[39m, \u001b[43ma\u001b[49m)\n",
      "\u001b[0;31mNameError\u001b[0m: name 'a' is not defined"
     ]
    }
   ],
   "source": [
    "# LEGB\n",
    "\n",
    "def func():\n",
    "    print('Inside func', a)\n",
    "\n",
    "func()\n",
    "print('Outside func', a)"
   ]
  },
  {
   "cell_type": "code",
   "execution_count": null,
   "id": "68156610-629d-4307-a20f-0825d90864a3",
   "metadata": {},
   "outputs": [],
   "source": [
    "# Namespaces in Python\n",
    "# frame"
   ]
  },
  {
   "cell_type": "code",
   "execution_count": null,
   "id": "bca82ef0-e19c-4059-9c06-477ab48bd569",
   "metadata": {},
   "outputs": [],
   "source": [
    "# Properties and decorators\n",
    "# Magic methods\n",
    "# Abstract classes and interfaces"
   ]
  },
  {
   "cell_type": "code",
   "execution_count": 40,
   "id": "ea41ef0e-e2ad-47ac-8f90-7cc8635d4407",
   "metadata": {},
   "outputs": [],
   "source": [
    "# Properties and decorators\n",
    "\n",
    "class Student:\n",
    "    def __init__(self, name, marks):\n",
    "        self._name = name\n",
    "        self._marks = marks\n",
    "\n",
    "    @property\n",
    "    def marks(self):\n",
    "        return self._marks\n",
    "\n",
    "    @marks.setter\n",
    "    def marks(self, value):\n",
    "        if 0 <= value <= 100:\n",
    "            self._marks = value\n",
    "        else:\n",
    "            print('Invalid Marks!')    "
   ]
  },
  {
   "cell_type": "code",
   "execution_count": 41,
   "id": "479cb43c-61ea-45c0-a517-f7862c68e889",
   "metadata": {},
   "outputs": [
    {
     "name": "stdout",
     "output_type": "stream",
     "text": [
      "86\n"
     ]
    }
   ],
   "source": [
    "s = Student(\"Aman\", 86)\n",
    "\n",
    "print(s.marks)"
   ]
  },
  {
   "cell_type": "code",
   "execution_count": 42,
   "id": "826f5b17-6931-4bd3-a180-371e1170e135",
   "metadata": {},
   "outputs": [],
   "source": [
    "s.marks = 99"
   ]
  },
  {
   "cell_type": "code",
   "execution_count": 43,
   "id": "46cc8bad-44ac-409d-8335-15e621426350",
   "metadata": {},
   "outputs": [
    {
     "name": "stdout",
     "output_type": "stream",
     "text": [
      "99\n"
     ]
    }
   ],
   "source": [
    "print(s.marks)"
   ]
  },
  {
   "cell_type": "code",
   "execution_count": 44,
   "id": "35778a4c-fb61-47f1-84cd-f907b3a33620",
   "metadata": {},
   "outputs": [
    {
     "name": "stdout",
     "output_type": "stream",
     "text": [
      "Invalid Marks!\n"
     ]
    }
   ],
   "source": [
    "s.marks = 120"
   ]
  },
  {
   "cell_type": "code",
   "execution_count": 45,
   "id": "12ae860f-9513-451f-a8c3-3bec2abe1955",
   "metadata": {},
   "outputs": [],
   "source": [
    "# magic methods\n",
    "# dunder methods\n",
    "\n",
    "class Point:\n",
    "    def __init__(self, x, y):\n",
    "        self.x = x\n",
    "        self.y = y\n",
    "\n",
    "    def __add__(self, other):\n",
    "        return Point(self.x + other.x, self.y + other.y)\n",
    "\n",
    "    def __str__(self):\n",
    "        return f\"Point({self.x}, {self.y})\"\n"
   ]
  },
  {
   "cell_type": "code",
   "execution_count": 46,
   "id": "4b24eca8-1f65-400b-ad88-e4d5951cdf75",
   "metadata": {},
   "outputs": [],
   "source": [
    "p1 = Point(2, 3)\n",
    "\n",
    "p2 = Point(4, 5)"
   ]
  },
  {
   "cell_type": "code",
   "execution_count": 48,
   "id": "c6fdf059-b146-439c-b59d-a755a5e43745",
   "metadata": {},
   "outputs": [
    {
     "data": {
      "text/plain": [
       "<__main__.Point at 0x106a71e20>"
      ]
     },
     "execution_count": 48,
     "metadata": {},
     "output_type": "execute_result"
    }
   ],
   "source": [
    "p1"
   ]
  },
  {
   "cell_type": "code",
   "execution_count": 49,
   "id": "e7fd549d-f406-49b0-8a44-d497472736b0",
   "metadata": {},
   "outputs": [
    {
     "data": {
      "text/plain": [
       "<__main__.Point at 0x1068a64f0>"
      ]
     },
     "execution_count": 49,
     "metadata": {},
     "output_type": "execute_result"
    }
   ],
   "source": [
    "p2"
   ]
  },
  {
   "cell_type": "code",
   "execution_count": 50,
   "id": "d75cba14-bcc7-445f-9b4f-7301df83f383",
   "metadata": {},
   "outputs": [],
   "source": [
    "p3 = p1 + p2"
   ]
  },
  {
   "cell_type": "code",
   "execution_count": 51,
   "id": "47abc70e-1ac4-46a0-9346-60aaf089a8f7",
   "metadata": {},
   "outputs": [
    {
     "name": "stdout",
     "output_type": "stream",
     "text": [
      "Point(6, 8)\n"
     ]
    }
   ],
   "source": [
    "print(p3)"
   ]
  },
  {
   "cell_type": "code",
   "execution_count": 52,
   "id": "9f93198c-929b-4e71-8eda-d2fda045b122",
   "metadata": {},
   "outputs": [
    {
     "name": "stdout",
     "output_type": "stream",
     "text": [
      "Point(2, 3)\n"
     ]
    }
   ],
   "source": [
    "print(p1)"
   ]
  },
  {
   "cell_type": "code",
   "execution_count": 53,
   "id": "79e86a8c-9041-42c0-8496-bd99ff145f64",
   "metadata": {},
   "outputs": [
    {
     "name": "stdout",
     "output_type": "stream",
     "text": [
      "Point(4, 5)\n"
     ]
    }
   ],
   "source": [
    "print(p2)"
   ]
  },
  {
   "cell_type": "code",
   "execution_count": 57,
   "id": "07a45af1-0ec4-411c-a6b2-b3de1e131d28",
   "metadata": {},
   "outputs": [],
   "source": [
    "# Abstract classes and interfaces\n",
    "\n",
    "# No real code is written but a blue print of what diff function should def be there in the child class.\n",
    "\n",
    "from abc import ABC, abstractmethod\n",
    "\n",
    "class Shape(ABC):\n",
    "    @abstractmethod\n",
    "    def area(self):\n",
    "        pass"
   ]
  },
  {
   "cell_type": "code",
   "execution_count": 58,
   "id": "c4b1d2a4-e200-43da-a84e-71cacaed93d5",
   "metadata": {},
   "outputs": [],
   "source": [
    "class Circle(Shape):\n",
    "    def __init__(self, radius):\n",
    "        self.radius = radius\n",
    "\n",
    "    def area(self):\n",
    "        return 3.14 * self.radius * self.radius"
   ]
  },
  {
   "cell_type": "code",
   "execution_count": 60,
   "id": "880793c3-bf50-4461-9d16-09a9279336e4",
   "metadata": {},
   "outputs": [],
   "source": [
    "c = Circle(4)"
   ]
  },
  {
   "cell_type": "code",
   "execution_count": 61,
   "id": "a9154827-e518-45aa-b4fa-43650221f682",
   "metadata": {},
   "outputs": [
    {
     "data": {
      "text/plain": [
       "50.24"
      ]
     },
     "execution_count": 61,
     "metadata": {},
     "output_type": "execute_result"
    }
   ],
   "source": [
    "c.area()"
   ]
  },
  {
   "cell_type": "code",
   "execution_count": null,
   "id": "e8e817f1-9024-48eb-a647-c9dbd237c7c8",
   "metadata": {},
   "outputs": [],
   "source": [
    "# Pending things\n",
    "\n",
    "# json files\n",
    "# Exception handling\n",
    "# Creating custom exceptions\n",
    "# Context managers\n",
    "# Logging"
   ]
  },
  {
   "cell_type": "code",
   "execution_count": null,
   "id": "ded9976f-5fbc-4327-916b-fded3707e9f6",
   "metadata": {},
   "outputs": [],
   "source": [
    "# File reading and writing\n",
    "# Working with different file formats (CSV, JSON)"
   ]
  },
  {
   "cell_type": "code",
   "execution_count": 62,
   "id": "a8d044b9-6555-40e2-81cb-fc4828c0e8bf",
   "metadata": {},
   "outputs": [
    {
     "ename": "FileNotFoundError",
     "evalue": "[Errno 2] No such file or directory: 'example.txt'",
     "output_type": "error",
     "traceback": [
      "\u001b[0;31m---------------------------------------------------------------------------\u001b[0m",
      "\u001b[0;31mFileNotFoundError\u001b[0m                         Traceback (most recent call last)",
      "Cell \u001b[0;32mIn[62], line 1\u001b[0m\n\u001b[0;32m----> 1\u001b[0m \u001b[38;5;28;01mwith\u001b[39;00m \u001b[38;5;28;43mopen\u001b[39;49m\u001b[43m(\u001b[49m\u001b[38;5;124;43m'\u001b[39;49m\u001b[38;5;124;43mexample.txt\u001b[39;49m\u001b[38;5;124;43m'\u001b[39;49m\u001b[43m,\u001b[49m\u001b[43m \u001b[49m\u001b[38;5;124;43m\"\u001b[39;49m\u001b[38;5;124;43mr\u001b[39;49m\u001b[38;5;124;43m\"\u001b[39;49m\u001b[43m)\u001b[49m \u001b[38;5;28;01mas\u001b[39;00m fp:\n\u001b[1;32m      2\u001b[0m     content \u001b[38;5;241m=\u001b[39m fp\u001b[38;5;241m.\u001b[39mread()\n\u001b[1;32m      3\u001b[0m     \u001b[38;5;28mprint\u001b[39m(\u001b[38;5;124m'\u001b[39m\u001b[38;5;124mFile content\u001b[39m\u001b[38;5;124m'\u001b[39m, content)\n",
      "File \u001b[0;32m~/.pyenv/versions/3.9.23/lib/python3.9/site-packages/IPython/core/interactiveshell.py:310\u001b[0m, in \u001b[0;36m_modified_open\u001b[0;34m(file, *args, **kwargs)\u001b[0m\n\u001b[1;32m    303\u001b[0m \u001b[38;5;28;01mif\u001b[39;00m file \u001b[38;5;129;01min\u001b[39;00m {\u001b[38;5;241m0\u001b[39m, \u001b[38;5;241m1\u001b[39m, \u001b[38;5;241m2\u001b[39m}:\n\u001b[1;32m    304\u001b[0m     \u001b[38;5;28;01mraise\u001b[39;00m \u001b[38;5;167;01mValueError\u001b[39;00m(\n\u001b[1;32m    305\u001b[0m         \u001b[38;5;124mf\u001b[39m\u001b[38;5;124m\"\u001b[39m\u001b[38;5;124mIPython won\u001b[39m\u001b[38;5;124m'\u001b[39m\u001b[38;5;124mt let you open fd=\u001b[39m\u001b[38;5;132;01m{\u001b[39;00mfile\u001b[38;5;132;01m}\u001b[39;00m\u001b[38;5;124m by default \u001b[39m\u001b[38;5;124m\"\u001b[39m\n\u001b[1;32m    306\u001b[0m         \u001b[38;5;124m\"\u001b[39m\u001b[38;5;124mas it is likely to crash IPython. If you know what you are doing, \u001b[39m\u001b[38;5;124m\"\u001b[39m\n\u001b[1;32m    307\u001b[0m         \u001b[38;5;124m\"\u001b[39m\u001b[38;5;124myou can use builtins\u001b[39m\u001b[38;5;124m'\u001b[39m\u001b[38;5;124m open.\u001b[39m\u001b[38;5;124m\"\u001b[39m\n\u001b[1;32m    308\u001b[0m     )\n\u001b[0;32m--> 310\u001b[0m \u001b[38;5;28;01mreturn\u001b[39;00m \u001b[43mio_open\u001b[49m\u001b[43m(\u001b[49m\u001b[43mfile\u001b[49m\u001b[43m,\u001b[49m\u001b[43m \u001b[49m\u001b[38;5;241;43m*\u001b[39;49m\u001b[43margs\u001b[49m\u001b[43m,\u001b[49m\u001b[43m \u001b[49m\u001b[38;5;241;43m*\u001b[39;49m\u001b[38;5;241;43m*\u001b[39;49m\u001b[43mkwargs\u001b[49m\u001b[43m)\u001b[49m\n",
      "\u001b[0;31mFileNotFoundError\u001b[0m: [Errno 2] No such file or directory: 'example.txt'"
     ]
    }
   ],
   "source": [
    "with open('example.txt', \"r\") as fp:\n",
    "    content = fp.read()\n",
    "    print('File content', content)"
   ]
  },
  {
   "cell_type": "code",
   "execution_count": 63,
   "id": "3b51ab18-ea0d-4080-a4e0-5dad19e2e27c",
   "metadata": {},
   "outputs": [
    {
     "name": "stdout",
     "output_type": "stream",
     "text": [
      "File content \n"
     ]
    }
   ],
   "source": [
    "with open('example.txt', \"r\") as fp:\n",
    "    content = fp.read()\n",
    "    print('File content', content)"
   ]
  },
  {
   "cell_type": "code",
   "execution_count": 64,
   "id": "953f5034-77fb-44bb-9fa6-d927a9776871",
   "metadata": {},
   "outputs": [
    {
     "name": "stdout",
     "output_type": "stream",
     "text": [
      "File content We are learning Python.\n",
      "We have patience and that is why we understand concept and apply them in practice.\n",
      "We use places like hackerrank, https://pythontutor.com/render.html#mode=display, www.realpython.org\n"
     ]
    }
   ],
   "source": [
    "with open('example.txt', \"r\") as fp:\n",
    "    content = fp.read()\n",
    "    print('File content', content)"
   ]
  },
  {
   "cell_type": "code",
   "execution_count": 66,
   "id": "66523413-1be2-4f95-97d9-e4caffc019e8",
   "metadata": {},
   "outputs": [],
   "source": [
    "with open('student_names.txt', \"w\") as fp:\n",
    "    fp.write('Shubham\\n')\n",
    "    fp.write('Srinivasan\\n')\n",
    "    fp.write('Disha\\n')\n",
    "    fp.write('Velavan\\n')"
   ]
  },
  {
   "cell_type": "code",
   "execution_count": null,
   "id": "ca60ff0e-41ee-4c8a-bf9d-3b407d1b480f",
   "metadata": {},
   "outputs": [],
   "source": [
    "# csv & json"
   ]
  },
  {
   "cell_type": "code",
   "execution_count": null,
   "id": "5453954a-d926-4a8b-a475-627652761af8",
   "metadata": {},
   "outputs": [],
   "source": [
    "CSV - comma separated values\n",
    "Name, Age\n",
    "Mohit, 38\n",
    "Rohit, 45\n",
    "Mohan, 49"
   ]
  },
  {
   "cell_type": "code",
   "execution_count": 67,
   "id": "ae1cbb0c-572e-46bd-809f-ffa8991c6eca",
   "metadata": {},
   "outputs": [],
   "source": [
    "import csv"
   ]
  },
  {
   "cell_type": "code",
   "execution_count": 68,
   "id": "ba63d2a0-4a73-4637-90b5-7b338632742d",
   "metadata": {},
   "outputs": [],
   "source": [
    "with open('students.csv', 'w') as fp:\n",
    "    writer = csv.writer(fp)\n",
    "    writer.writerow([\"Name\", \"Age\"])\n",
    "    writer.writerow([\"Mohit\", 38])\n",
    "    writer.writerow([\"Rohit\", 45])\n",
    "    writer.writerow([\"Mohan\", 49])"
   ]
  },
  {
   "cell_type": "code",
   "execution_count": 69,
   "id": "597eca7b-9ca5-4e55-94aa-608744fa6d5c",
   "metadata": {},
   "outputs": [
    {
     "name": "stdout",
     "output_type": "stream",
     "text": [
      "['Name', 'Age']\n",
      "['Mohit', '38']\n",
      "['Rohit', '45']\n",
      "['Mohan', '49']\n"
     ]
    }
   ],
   "source": [
    "with open('students.csv', 'r') as fp:\n",
    "    reader = csv.reader(fp)\n",
    "    for row in reader:\n",
    "        print(row)"
   ]
  },
  {
   "cell_type": "code",
   "execution_count": null,
   "id": "1c096362-de12-4e65-bc40-6a6fee6d9c95",
   "metadata": {},
   "outputs": [],
   "source": []
  }
 ],
 "metadata": {
  "kernelspec": {
   "display_name": "Python 3 (ipykernel)",
   "language": "python",
   "name": "python3"
  },
  "language_info": {
   "codemirror_mode": {
    "name": "ipython",
    "version": 3
   },
   "file_extension": ".py",
   "mimetype": "text/x-python",
   "name": "python",
   "nbconvert_exporter": "python",
   "pygments_lexer": "ipython3",
   "version": "3.9.23"
  }
 },
 "nbformat": 4,
 "nbformat_minor": 5
}
