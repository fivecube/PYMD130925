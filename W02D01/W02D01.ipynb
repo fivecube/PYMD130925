{
 "cells": [
  {
   "cell_type": "code",
   "execution_count": null,
   "id": "a6a36081-5fea-4325-9ed8-1a7b6da059d7",
   "metadata": {},
   "outputs": [],
   "source": [
    "# Lists and list comprehensions\n",
    "# Tuples\n",
    "# Dictionaries and sets\n",
    "# Advanced string operations\n",
    "# Slicing and indexing\n",
    "# Nested data structures\n",
    "# Break and continue statements\n",
    "# Function definition and calling\n",
    "# Parameters and return values\n",
    "# Lambda functions\n",
    "# Scope and namespaces"
   ]
  },
  {
   "cell_type": "code",
   "execution_count": null,
   "id": "150a85ef-dea7-4134-870d-3472da186083",
   "metadata": {},
   "outputs": [],
   "source": [
    "QUESTION:-\n",
    "x = \"The quick brown fox jumps over a lazy dog\" True\n",
    "\n",
    "y = \"Mango is Yellow\" False\n",
    "\n",
    "In a string, check if all english alphabets are present or not. (A-Z)"
   ]
  },
  {
   "cell_type": "code",
   "execution_count": 3,
   "id": "07b48382-26ea-448b-9a3c-4ee2750e2bcd",
   "metadata": {},
   "outputs": [
    {
     "name": "stdout",
     "output_type": "stream",
     "text": [
      "T\n",
      "h\n",
      "e\n",
      " \n",
      "q\n",
      "u\n",
      "i\n",
      "c\n",
      "k\n",
      " \n",
      "b\n",
      "r\n",
      "o\n",
      "w\n",
      "n\n",
      " \n",
      "f\n",
      "o\n",
      "x\n",
      " \n",
      "j\n",
      "u\n",
      "m\n",
      "p\n",
      "s\n",
      " \n",
      "o\n",
      "v\n",
      "e\n",
      "r\n",
      " \n",
      "a\n",
      "a is present\n",
      " \n",
      "l\n",
      "a\n",
      "a is present\n",
      "z\n",
      "y\n",
      " \n",
      "d\n",
      "o\n",
      "g\n"
     ]
    }
   ],
   "source": [
    "x = \"The quick brown fox jumps over a lazy dog\"\n",
    "\n",
    "attendance_paper = []\n",
    "\n",
    "for char in x:\n",
    "    print(char)\n",
    "    if char == 'a':\n",
    "        print('a is present')"
   ]
  },
  {
   "cell_type": "code",
   "execution_count": 29,
   "id": "1e67ffd7-3b68-4ff2-81b6-db1f45cdf394",
   "metadata": {},
   "outputs": [
    {
     "name": "stdout",
     "output_type": "stream",
     "text": [
      "a\n",
      "b\n",
      "x\n",
      "not a class student\n",
      "y\n",
      "not a class student\n",
      "z\n",
      "not a class student\n",
      "[True, True, False]\n"
     ]
    }
   ],
   "source": [
    "# False = not present\n",
    "attendance_paper = [False, False, False]\n",
    "\n",
    "x = \"abxyz\"\n",
    "\n",
    "for student in x:\n",
    "    print(student)\n",
    "    if student == 'a':\n",
    "        attendance_paper[0] = True\n",
    "    elif student == 'b':\n",
    "        attendance_paper[1] = True\n",
    "    elif student == 'c':\n",
    "        attendance_paper[2] = True\n",
    "    else:\n",
    "        print('not a class student')\n",
    "\n",
    "print(attendance_paper)"
   ]
  },
  {
   "cell_type": "code",
   "execution_count": 9,
   "id": "86a899ad-974a-44a2-ada2-23884c2a634d",
   "metadata": {},
   "outputs": [
    {
     "data": {
      "text/plain": [
       "[True, True, False]"
      ]
     },
     "execution_count": 9,
     "metadata": {},
     "output_type": "execute_result"
    }
   ],
   "source": [
    "attendance_paper"
   ]
  },
  {
   "cell_type": "code",
   "execution_count": 10,
   "id": "a1d96f7d-d75e-4551-a3e5-00228cb42e30",
   "metadata": {},
   "outputs": [
    {
     "data": {
      "text/plain": [
       "False"
      ]
     },
     "execution_count": 10,
     "metadata": {},
     "output_type": "execute_result"
    }
   ],
   "source": [
    "all(attendance_paper)"
   ]
  },
  {
   "cell_type": "code",
   "execution_count": 11,
   "id": "cf495eb6-dc58-466a-8abe-b8f4610b39fc",
   "metadata": {},
   "outputs": [
    {
     "data": {
      "text/plain": [
       "False"
      ]
     },
     "execution_count": 11,
     "metadata": {},
     "output_type": "execute_result"
    }
   ],
   "source": [
    "all([True, False, True])"
   ]
  },
  {
   "cell_type": "code",
   "execution_count": 12,
   "id": "3372fa17-7653-4473-8373-c567b88e8765",
   "metadata": {},
   "outputs": [
    {
     "data": {
      "text/plain": [
       "True"
      ]
     },
     "execution_count": 12,
     "metadata": {},
     "output_type": "execute_result"
    }
   ],
   "source": [
    "any([True, False, True])"
   ]
  },
  {
   "cell_type": "code",
   "execution_count": 18,
   "id": "c0aaf198-b6d9-4aeb-afe2-8e60e406419c",
   "metadata": {},
   "outputs": [
    {
     "data": {
      "text/plain": [
       "0"
      ]
     },
     "execution_count": 18,
     "metadata": {},
     "output_type": "execute_result"
    }
   ],
   "source": [
    "ord('a') - 97"
   ]
  },
  {
   "cell_type": "code",
   "execution_count": 19,
   "id": "7089ba87-4b11-4f55-b325-820ff6ffab91",
   "metadata": {},
   "outputs": [
    {
     "data": {
      "text/plain": [
       "1"
      ]
     },
     "execution_count": 19,
     "metadata": {},
     "output_type": "execute_result"
    }
   ],
   "source": [
    "ord('b') - 97"
   ]
  },
  {
   "cell_type": "code",
   "execution_count": 20,
   "id": "7c5c2443-131f-442a-99ac-4c547f897541",
   "metadata": {},
   "outputs": [
    {
     "data": {
      "text/plain": [
       "2"
      ]
     },
     "execution_count": 20,
     "metadata": {},
     "output_type": "execute_result"
    }
   ],
   "source": [
    "ord('c') - 97"
   ]
  },
  {
   "cell_type": "code",
   "execution_count": 21,
   "id": "fa7b2afd-10ce-4e53-83bd-a4c5ecaccc6f",
   "metadata": {},
   "outputs": [
    {
     "data": {
      "text/plain": [
       "3"
      ]
     },
     "execution_count": 21,
     "metadata": {},
     "output_type": "execute_result"
    }
   ],
   "source": [
    "ord('d') - 97"
   ]
  },
  {
   "cell_type": "code",
   "execution_count": 22,
   "id": "4ef36eeb-8c60-4bc2-b5b0-33939ccc2576",
   "metadata": {},
   "outputs": [
    {
     "data": {
      "text/plain": [
       "25"
      ]
     },
     "execution_count": 22,
     "metadata": {},
     "output_type": "execute_result"
    }
   ],
   "source": [
    "ord('z') - 97"
   ]
  },
  {
   "cell_type": "code",
   "execution_count": 27,
   "id": "32596734-4d75-4af7-96f7-0984e905482c",
   "metadata": {},
   "outputs": [
    {
     "data": {
      "text/plain": [
       "84"
      ]
     },
     "execution_count": 27,
     "metadata": {},
     "output_type": "execute_result"
    }
   ],
   "source": [
    "ord('T')"
   ]
  },
  {
   "cell_type": "code",
   "execution_count": 43,
   "id": "79729d32-8a0d-4a24-8688-e0728ae686ac",
   "metadata": {},
   "outputs": [
    {
     "name": "stdout",
     "output_type": "stream",
     "text": [
      "[False, False, False, False, False, False, False, False, False, False, False, False, False, False, False, False, False, False, False, False, False, False, False, False, False, False]\n",
      "26\n"
     ]
    }
   ],
   "source": [
    "attendance_paper = [False]*26\n",
    "print(attendance_paper)\n",
    "print(len(attendance_paper))"
   ]
  },
  {
   "cell_type": "code",
   "execution_count": 33,
   "id": "545452f5-03b0-4181-8770-149d4eae1399",
   "metadata": {},
   "outputs": [
    {
     "data": {
      "text/plain": [
       "25"
      ]
     },
     "execution_count": 33,
     "metadata": {},
     "output_type": "execute_result"
    }
   ],
   "source": [
    "ord('z') - 97"
   ]
  },
  {
   "cell_type": "code",
   "execution_count": 46,
   "id": "ff25f393-d3bc-464b-a17c-6bd2de35e2f2",
   "metadata": {},
   "outputs": [
    {
     "name": "stdout",
     "output_type": "stream",
     "text": [
      "full_house True\n"
     ]
    }
   ],
   "source": [
    "attendance_paper = [False]*26\n",
    "\n",
    "x = \"the quick brown fox jumps over a lazy dog\"\n",
    "\n",
    "for student in x:\n",
    "    roll_no = ord(student) - 97\n",
    "    # print(student, roll_no)\n",
    "    if roll_no >= 0 and roll_no <= 25:\n",
    "        attendance_paper[roll_no] = True\n",
    "\n",
    "full_house = all(attendance_paper)\n",
    "\n",
    "print('full_house', full_house)"
   ]
  },
  {
   "cell_type": "code",
   "execution_count": 48,
   "id": "1469499e-5924-4cc1-8488-2393f54e8929",
   "metadata": {},
   "outputs": [
    {
     "name": "stdout",
     "output_type": "stream",
     "text": [
      "full_house False\n"
     ]
    }
   ],
   "source": [
    "attendance_paper = [False]*26\n",
    "\n",
    "x = \"mango is yellow in color\"\n",
    "\n",
    "for student in x:\n",
    "    roll_no = ord(student) - 97\n",
    "    if roll_no >= 0 and roll_no <= 25:\n",
    "        attendance_paper[roll_no] = True\n",
    "full_house = all(attendance_paper)\n",
    "\n",
    "print('full_house', full_house)"
   ]
  },
  {
   "cell_type": "code",
   "execution_count": 50,
   "id": "b3281a05-37ed-4085-b621-9e076b8f8371",
   "metadata": {},
   "outputs": [],
   "source": [
    "# attendance_paper = [True, False, True]\n",
    "# x = True and False and True\n",
    "# x = False and True\n",
    "# print(x)"
   ]
  },
  {
   "cell_type": "code",
   "execution_count": 59,
   "id": "dfffccfb-f20b-4240-b318-1145c18339fb",
   "metadata": {},
   "outputs": [
    {
     "data": {
      "text/plain": [
       "0"
      ]
     },
     "execution_count": 59,
     "metadata": {},
     "output_type": "execute_result"
    }
   ],
   "source": [
    "ord('a') - 97"
   ]
  },
  {
   "cell_type": "code",
   "execution_count": 61,
   "id": "aff9a602-842a-4fcc-accb-de3535ce61cb",
   "metadata": {},
   "outputs": [
    {
     "data": {
      "text/plain": [
       "1"
      ]
     },
     "execution_count": 61,
     "metadata": {},
     "output_type": "execute_result"
    }
   ],
   "source": [
    "ord('b') - 97"
   ]
  },
  {
   "cell_type": "code",
   "execution_count": 62,
   "id": "e4ae5702-504a-46df-ba19-e05eff159d0e",
   "metadata": {},
   "outputs": [
    {
     "data": {
      "text/plain": [
       "25"
      ]
     },
     "execution_count": 62,
     "metadata": {},
     "output_type": "execute_result"
    }
   ],
   "source": [
    "ord('z') - 97"
   ]
  },
  {
   "cell_type": "code",
   "execution_count": null,
   "id": "570b430a-14d3-45a4-b236-b36db1324dee",
   "metadata": {},
   "outputs": [],
   "source": [
    "# Question:- (Homework)\n",
    "# Group anagrams together\n",
    "# ['rac', 'car', 'acr', 'bored', 'robed', 'dusty', 'study', 'night', 'thing']\n",
    "\n",
    "# answer:- {'acr': ['rac', 'car', 'acr'], 'bored': ['bored', 'robed'], 'dusty': ['dusty', 'study'],\n",
    "#           'night': ['night', 'thing']}"
   ]
  },
  {
   "cell_type": "code",
   "execution_count": null,
   "id": "add42a00-a46d-4e3c-a880-275d2fe3dc63",
   "metadata": {},
   "outputs": [],
   "source": [
    "# Lists and list comprehensions\n",
    "# Tuples\n",
    "# Dictionaries and sets\n",
    "# Advanced string operations\n",
    "# Slicing and indexing\n",
    "# Nested data structures\n",
    "# Break and continue statements\n",
    "# Function definition and calling\n",
    "# Parameters and return values\n",
    "# Lambda functions\n",
    "# Scope and namespaces"
   ]
  },
  {
   "cell_type": "code",
   "execution_count": 63,
   "id": "4bee9569-de40-4425-ac03-bf5edf281580",
   "metadata": {},
   "outputs": [
    {
     "name": "stdout",
     "output_type": "stream",
     "text": [
      "apple\n"
     ]
    }
   ],
   "source": [
    "# Lists and list comprehensions\n",
    "\n",
    "x = ['apple', 'mango', 'banana']\n",
    "print(x[0])"
   ]
  },
  {
   "cell_type": "code",
   "execution_count": 78,
   "id": "ae493f8f-d911-45c4-9543-0f74ede06968",
   "metadata": {},
   "outputs": [
    {
     "name": "stdout",
     "output_type": "stream",
     "text": [
      "banana\n"
     ]
    }
   ],
   "source": [
    "x = ['apple', 'mango', 'banana']\n",
    "print(x[-1])"
   ]
  },
  {
   "cell_type": "code",
   "execution_count": 64,
   "id": "52753c35-6b0b-45fd-a070-8afb6fe3daa6",
   "metadata": {},
   "outputs": [
    {
     "name": "stdout",
     "output_type": "stream",
     "text": [
      "mango\n"
     ]
    }
   ],
   "source": [
    "print(x[1])"
   ]
  },
  {
   "cell_type": "code",
   "execution_count": null,
   "id": "69fe4d16-3f8e-403f-8b96-113cbb1b0d18",
   "metadata": {},
   "outputs": [],
   "source": [
    "1, 2, 3, 4\n",
    "\n",
    "[1, 4, 9, 16]\n"
   ]
  },
  {
   "cell_type": "code",
   "execution_count": 67,
   "id": "24214787-dce4-4116-9194-89d40e458435",
   "metadata": {},
   "outputs": [
    {
     "name": "stdout",
     "output_type": "stream",
     "text": [
      "[1, 4, 9, 16]\n"
     ]
    }
   ],
   "source": [
    "# append -> adds at the end\n",
    "squares = []\n",
    "for num in [1,2,3,4]:\n",
    "    squares.append(num**2)\n",
    "print(squares)"
   ]
  },
  {
   "cell_type": "code",
   "execution_count": 77,
   "id": "d7856426-a527-4362-ad0f-e509c54a92bb",
   "metadata": {},
   "outputs": [
    {
     "name": "stdout",
     "output_type": "stream",
     "text": [
      "[990, 1990, 2990]\n"
     ]
    }
   ],
   "source": [
    "# list comprehension is a shortcut for doing this.\n",
    "appy = [num-10 for num in [1000, 2000, 3000]]\n",
    "\n",
    "print(appy)"
   ]
  },
  {
   "cell_type": "code",
   "execution_count": 74,
   "id": "7bff4a61-5d82-4b2f-83a5-ba32595b36dc",
   "metadata": {},
   "outputs": [
    {
     "name": "stdout",
     "output_type": "stream",
     "text": [
      "[11, 12, 13, 14]\n"
     ]
    }
   ],
   "source": [
    "# list comprehension is a shortcut for doing this.\n",
    "blah = [num+10 for num in [1,2,3,4]]\n",
    "\n",
    "print(blah)"
   ]
  },
  {
   "cell_type": "code",
   "execution_count": 72,
   "id": "f9442dcc-6c29-4e9a-82f4-dd848eb5d295",
   "metadata": {},
   "outputs": [
    {
     "name": "stdout",
     "output_type": "stream",
     "text": [
      "[1, 4, 9, 16]\n"
     ]
    }
   ],
   "source": [
    "# list comprehension is a shortcut for doing this.\n",
    "squares = [num**2 for num in [1,2,3,4]]\n",
    "\n",
    "print(squares)"
   ]
  },
  {
   "cell_type": "code",
   "execution_count": 75,
   "id": "fb621bc3-1abb-4e01-925d-51ffcd735f12",
   "metadata": {},
   "outputs": [
    {
     "name": "stdout",
     "output_type": "stream",
     "text": [
      "['Mohit singh', 'Mohit chouhan', 'Mohit kumar']\n"
     ]
    }
   ],
   "source": [
    "# list comprehension is a shortcut for doing this.\n",
    "diff_names = [\"Mohit \"+ sir_name for sir_name in [\"singh\", \"chouhan\", \"kumar\"]]\n",
    "\n",
    "print(diff_names)"
   ]
  },
  {
   "cell_type": "code",
   "execution_count": 82,
   "id": "e17c66c0-5002-4b42-bd25-900e2c2f5400",
   "metadata": {},
   "outputs": [
    {
     "name": "stdout",
     "output_type": "stream",
     "text": [
      "[12, 13, 14, 15, 16, 17, 18]\n"
     ]
    }
   ],
   "source": [
    "blah = [num+10 for num in [1,2,3,4,5,6,7,8] if num >= 2]\n",
    "print(blah)"
   ]
  },
  {
   "cell_type": "code",
   "execution_count": 83,
   "id": "9b7585e7-e0f4-40ec-857b-d485e3278efb",
   "metadata": {},
   "outputs": [
    {
     "name": "stdout",
     "output_type": "stream",
     "text": [
      "[12, 13, 14, 15, 16, 17, 18]\n"
     ]
    }
   ],
   "source": [
    "blah = []\n",
    "for num in [1,2,3,4,5,6,7,8]:\n",
    "    if num >= 2:\n",
    "        blah.append(num+10)\n",
    "\n",
    "print(blah)"
   ]
  },
  {
   "cell_type": "code",
   "execution_count": 84,
   "id": "18848b3d-989e-440d-aed8-2704b6cb921d",
   "metadata": {},
   "outputs": [
    {
     "name": "stdout",
     "output_type": "stream",
     "text": [
      "<class 'tuple'>\n"
     ]
    }
   ],
   "source": [
    "# Tuples\n",
    "\n",
    "# Immutable Sequence\n",
    "# You can not edit\n",
    "\n",
    "point = (10, 20)\n",
    "print(type(point))"
   ]
  },
  {
   "cell_type": "code",
   "execution_count": 91,
   "id": "6089ba49-160c-464a-b16c-cfba43f6019c",
   "metadata": {},
   "outputs": [],
   "source": [
    "from icecream import ic"
   ]
  },
  {
   "cell_type": "code",
   "execution_count": 92,
   "id": "6b28845d-b852-4e6c-a87c-2f6acaece58a",
   "metadata": {},
   "outputs": [
    {
     "name": "stderr",
     "output_type": "stream",
     "text": [
      "\u001b[38;5;247mic\u001b[39m\u001b[38;5;245m|\u001b[39m\u001b[38;5;245m \u001b[39m\u001b[38;5;247mx\u001b[39m\u001b[38;5;245m:\u001b[39m\u001b[38;5;245m \u001b[39m\u001b[38;5;36m10\u001b[39m\n",
      "\u001b[38;5;247mic\u001b[39m\u001b[38;5;245m|\u001b[39m\u001b[38;5;245m \u001b[39m\u001b[38;5;247my\u001b[39m\u001b[38;5;245m:\u001b[39m\u001b[38;5;245m \u001b[39m\u001b[38;5;36m20\u001b[39m\n"
     ]
    },
    {
     "data": {
      "text/plain": [
       "20"
      ]
     },
     "execution_count": 92,
     "metadata": {},
     "output_type": "execute_result"
    }
   ],
   "source": [
    "# tuple unpacking\n",
    "\n",
    "x, y = (10, 20)\n",
    "\n",
    "ic(x)\n",
    "ic(y)"
   ]
  },
  {
   "cell_type": "code",
   "execution_count": 97,
   "id": "ababb151-0bfe-4354-8fd7-5c649c8474e8",
   "metadata": {},
   "outputs": [
    {
     "name": "stdout",
     "output_type": "stream",
     "text": [
      "Found Uranium at (40, 20)\n",
      "Found Uranium at (100, 27)\n"
     ]
    }
   ],
   "source": [
    "# tuple unpacking\n",
    "# nested tuples inside list\n",
    "# Nested data structures\n",
    "# if x-y > 10 than uranium is presen there\n",
    "list_of_coordinates = [(20, 10), (40, 30), (40, 20), (100, 27)]\n",
    "for coordinate in list_of_coordinates:\n",
    "    x, y = coordinate  # tuple unpacking\n",
    "    if x - y > 10:\n",
    "        print('Found Uranium at', coordinate)"
   ]
  },
  {
   "cell_type": "code",
   "execution_count": 98,
   "id": "fdb9b4a8-96bf-496d-8b51-246ccf26894e",
   "metadata": {},
   "outputs": [],
   "source": [
    "first_name, middle_name, last_name = ('mohit', 'singh', 'chouhan')"
   ]
  },
  {
   "cell_type": "code",
   "execution_count": 99,
   "id": "401bc30e-5c0c-43e7-ab6a-fd227475e29e",
   "metadata": {},
   "outputs": [
    {
     "data": {
      "text/plain": [
       "'mohit'"
      ]
     },
     "execution_count": 99,
     "metadata": {},
     "output_type": "execute_result"
    }
   ],
   "source": [
    "first_name"
   ]
  },
  {
   "cell_type": "code",
   "execution_count": 100,
   "id": "4a781e69-554c-40ad-ad8c-8f783b2fdad2",
   "metadata": {},
   "outputs": [
    {
     "data": {
      "text/plain": [
       "'singh'"
      ]
     },
     "execution_count": 100,
     "metadata": {},
     "output_type": "execute_result"
    }
   ],
   "source": [
    "middle_name"
   ]
  },
  {
   "cell_type": "code",
   "execution_count": 101,
   "id": "6fe91aaf-bbfd-4471-a0d0-1ba1e3482366",
   "metadata": {},
   "outputs": [
    {
     "data": {
      "text/plain": [
       "'chouhan'"
      ]
     },
     "execution_count": 101,
     "metadata": {},
     "output_type": "execute_result"
    }
   ],
   "source": [
    "last_name"
   ]
  },
  {
   "cell_type": "code",
   "execution_count": 102,
   "id": "1c6ac0a9-113f-4619-ba35-f4cc98adf91b",
   "metadata": {},
   "outputs": [],
   "source": [
    "a, b, c = (True, False, True)"
   ]
  },
  {
   "cell_type": "code",
   "execution_count": 103,
   "id": "0ec6b80d-a606-4f5c-943e-51dbd028679e",
   "metadata": {},
   "outputs": [
    {
     "data": {
      "text/plain": [
       "True"
      ]
     },
     "execution_count": 103,
     "metadata": {},
     "output_type": "execute_result"
    }
   ],
   "source": [
    "a"
   ]
  },
  {
   "cell_type": "code",
   "execution_count": 104,
   "id": "b6993e9a-4cc2-486b-a01f-554cb2115886",
   "metadata": {},
   "outputs": [
    {
     "data": {
      "text/plain": [
       "False"
      ]
     },
     "execution_count": 104,
     "metadata": {},
     "output_type": "execute_result"
    }
   ],
   "source": [
    " b"
   ]
  },
  {
   "cell_type": "code",
   "execution_count": 105,
   "id": "235a3cb8-40d2-4d68-8673-6b35f177c1fa",
   "metadata": {},
   "outputs": [
    {
     "data": {
      "text/plain": [
       "True"
      ]
     },
     "execution_count": 105,
     "metadata": {},
     "output_type": "execute_result"
    }
   ],
   "source": [
    "c"
   ]
  },
  {
   "cell_type": "code",
   "execution_count": 106,
   "id": "bb7bc979-2662-41c2-a38f-384e339f3929",
   "metadata": {},
   "outputs": [],
   "source": [
    "a, b, c, d = (True, True, False, True)"
   ]
  },
  {
   "cell_type": "code",
   "execution_count": 107,
   "id": "59987133-c47a-425d-b156-f02ec67f07ea",
   "metadata": {},
   "outputs": [
    {
     "data": {
      "text/plain": [
       "True"
      ]
     },
     "execution_count": 107,
     "metadata": {},
     "output_type": "execute_result"
    }
   ],
   "source": [
    "a"
   ]
  },
  {
   "cell_type": "code",
   "execution_count": 108,
   "id": "ff8dd98c-04d5-4b3a-b4f8-68d8f4f84b0c",
   "metadata": {},
   "outputs": [
    {
     "data": {
      "text/plain": [
       "True"
      ]
     },
     "execution_count": 108,
     "metadata": {},
     "output_type": "execute_result"
    }
   ],
   "source": [
    "b"
   ]
  },
  {
   "cell_type": "code",
   "execution_count": 109,
   "id": "5a549f6a-9507-4045-bb02-511861f1222f",
   "metadata": {},
   "outputs": [
    {
     "data": {
      "text/plain": [
       "False"
      ]
     },
     "execution_count": 109,
     "metadata": {},
     "output_type": "execute_result"
    }
   ],
   "source": [
    "c"
   ]
  },
  {
   "cell_type": "code",
   "execution_count": 110,
   "id": "2dda8bd1-981f-417b-bf7e-88edaa96dd94",
   "metadata": {},
   "outputs": [
    {
     "data": {
      "text/plain": [
       "True"
      ]
     },
     "execution_count": 110,
     "metadata": {},
     "output_type": "execute_result"
    }
   ],
   "source": [
    "d"
   ]
  },
  {
   "cell_type": "markdown",
   "id": "bcf87026-a1a8-43de-920c-dd096a53286a",
   "metadata": {},
   "source": [
    "# Dictionaries and sets"
   ]
  },
  {
   "cell_type": "code",
   "execution_count": 119,
   "id": "fe29ba88-8f2b-4949-a55b-7079720583aa",
   "metadata": {},
   "outputs": [
    {
     "name": "stdout",
     "output_type": "stream",
     "text": [
      "{'mohit': True, 'shubham': True, 'srinivasan': True}\n"
     ]
    },
    {
     "name": "stderr",
     "output_type": "stream",
     "text": [
      "\u001b[38;5;247mic\u001b[39m\u001b[38;5;245m|\u001b[39m\u001b[38;5;245m \u001b[39m\u001b[38;5;247mname\u001b[39m\u001b[38;5;245m:\u001b[39m\u001b[38;5;245m \u001b[39m\u001b[38;5;36m'\u001b[39m\u001b[38;5;36mmohit\u001b[39m\u001b[38;5;36m'\u001b[39m\n",
      "\u001b[38;5;247mic\u001b[39m\u001b[38;5;245m|\u001b[39m\u001b[38;5;245m \u001b[39m\u001b[38;5;247mattendance_on_20_sep\u001b[39m\u001b[38;5;245m.\u001b[39m\u001b[38;5;247mget\u001b[39m\u001b[38;5;245m(\u001b[39m\u001b[38;5;247mname\u001b[39m\u001b[38;5;245m)\u001b[39m\u001b[38;5;245m:\u001b[39m\u001b[38;5;245m \u001b[39m\u001b[38;5;100mFalse\u001b[39m\n",
      "\u001b[38;5;247mic\u001b[39m\u001b[38;5;245m|\u001b[39m\u001b[38;5;245m \u001b[39m\u001b[38;5;247mname\u001b[39m\u001b[38;5;245m:\u001b[39m\u001b[38;5;245m \u001b[39m\u001b[38;5;36m'\u001b[39m\u001b[38;5;36mshubham\u001b[39m\u001b[38;5;36m'\u001b[39m\n",
      "\u001b[38;5;247mic\u001b[39m\u001b[38;5;245m|\u001b[39m\u001b[38;5;245m \u001b[39m\u001b[38;5;247mattendance_on_20_sep\u001b[39m\u001b[38;5;245m.\u001b[39m\u001b[38;5;247mget\u001b[39m\u001b[38;5;245m(\u001b[39m\u001b[38;5;247mname\u001b[39m\u001b[38;5;245m)\u001b[39m\u001b[38;5;245m:\u001b[39m\u001b[38;5;245m \u001b[39m\u001b[38;5;100mFalse\u001b[39m\n",
      "\u001b[38;5;247mic\u001b[39m\u001b[38;5;245m|\u001b[39m\u001b[38;5;245m \u001b[39m\u001b[38;5;247mname\u001b[39m\u001b[38;5;245m:\u001b[39m\u001b[38;5;245m \u001b[39m\u001b[38;5;36m'\u001b[39m\u001b[38;5;36msrinivasan\u001b[39m\u001b[38;5;36m'\u001b[39m\n",
      "\u001b[38;5;247mic\u001b[39m\u001b[38;5;245m|\u001b[39m\u001b[38;5;245m \u001b[39m\u001b[38;5;247mattendance_on_20_sep\u001b[39m\u001b[38;5;245m.\u001b[39m\u001b[38;5;247mget\u001b[39m\u001b[38;5;245m(\u001b[39m\u001b[38;5;247mname\u001b[39m\u001b[38;5;245m)\u001b[39m\u001b[38;5;245m:\u001b[39m\u001b[38;5;245m \u001b[39m\u001b[38;5;100mFalse\u001b[39m\n"
     ]
    }
   ],
   "source": [
    "# key, value pair\n",
    "\n",
    "attendance_on_20_sep = {'mohit': False, 'shubham': False, 'srinivasan': False}\n",
    "\n",
    "# write your name one by one on paper\n",
    "\n",
    "rough_paper = ['mohit', 'shubham', 'srinivasan']\n",
    "\n",
    "for name in rough_paper:\n",
    "    ic(name)\n",
    "    ic(attendance_on_20_sep.get(name))\n",
    "    if attendance_on_20_sep.get(name) != None:\n",
    "        attendance_on_20_sep[name] = True\n",
    "\n",
    "print(attendance_on_20_sep)"
   ]
  },
  {
   "cell_type": "code",
   "execution_count": 128,
   "id": "f57fddc7-4417-43e7-8165-e38d9bfa41b1",
   "metadata": {},
   "outputs": [
    {
     "name": "stdout",
     "output_type": "stream",
     "text": [
      "{'g', 'u', 'n', 'e', 'h', 'm', 'w', 'j', 'q', 's', 'p', 'y', 'l', 'b', 'a', 'i', 'r', 'o', 'd', 'k', 'f', 'c', 'z', 'v', 'x'} 25\n"
     ]
    },
    {
     "name": "stderr",
     "output_type": "stream",
     "text": [
      "\u001b[38;5;247mic\u001b[39m\u001b[38;5;245m|\u001b[39m\u001b[38;5;245m \u001b[39m\u001b[38;5;247mchar\u001b[39m\u001b[38;5;245m:\u001b[39m\u001b[38;5;245m \u001b[39m\u001b[38;5;36m'\u001b[39m\u001b[38;5;36mh\u001b[39m\u001b[38;5;36m'\u001b[39m\n",
      "\u001b[38;5;247mic\u001b[39m\u001b[38;5;245m|\u001b[39m\u001b[38;5;245m \u001b[39m\u001b[38;5;247mchar\u001b[39m\u001b[38;5;245m:\u001b[39m\u001b[38;5;245m \u001b[39m\u001b[38;5;36m'\u001b[39m\u001b[38;5;36me\u001b[39m\u001b[38;5;36m'\u001b[39m\n",
      "\u001b[38;5;247mic\u001b[39m\u001b[38;5;245m|\u001b[39m\u001b[38;5;245m \u001b[39m\u001b[38;5;247mchar\u001b[39m\u001b[38;5;245m:\u001b[39m\u001b[38;5;245m \u001b[39m\u001b[38;5;36m'\u001b[39m\u001b[38;5;36m \u001b[39m\u001b[38;5;36m'\u001b[39m\n",
      "\u001b[38;5;247mic\u001b[39m\u001b[38;5;245m|\u001b[39m\u001b[38;5;245m \u001b[39m\u001b[38;5;247mchar\u001b[39m\u001b[38;5;245m:\u001b[39m\u001b[38;5;245m \u001b[39m\u001b[38;5;36m'\u001b[39m\u001b[38;5;36mq\u001b[39m\u001b[38;5;36m'\u001b[39m\n",
      "\u001b[38;5;247mic\u001b[39m\u001b[38;5;245m|\u001b[39m\u001b[38;5;245m \u001b[39m\u001b[38;5;247mchar\u001b[39m\u001b[38;5;245m:\u001b[39m\u001b[38;5;245m \u001b[39m\u001b[38;5;36m'\u001b[39m\u001b[38;5;36mu\u001b[39m\u001b[38;5;36m'\u001b[39m\n",
      "\u001b[38;5;247mic\u001b[39m\u001b[38;5;245m|\u001b[39m\u001b[38;5;245m \u001b[39m\u001b[38;5;247mchar\u001b[39m\u001b[38;5;245m:\u001b[39m\u001b[38;5;245m \u001b[39m\u001b[38;5;36m'\u001b[39m\u001b[38;5;36mi\u001b[39m\u001b[38;5;36m'\u001b[39m\n",
      "\u001b[38;5;247mic\u001b[39m\u001b[38;5;245m|\u001b[39m\u001b[38;5;245m \u001b[39m\u001b[38;5;247mchar\u001b[39m\u001b[38;5;245m:\u001b[39m\u001b[38;5;245m \u001b[39m\u001b[38;5;36m'\u001b[39m\u001b[38;5;36mc\u001b[39m\u001b[38;5;36m'\u001b[39m\n",
      "\u001b[38;5;247mic\u001b[39m\u001b[38;5;245m|\u001b[39m\u001b[38;5;245m \u001b[39m\u001b[38;5;247mchar\u001b[39m\u001b[38;5;245m:\u001b[39m\u001b[38;5;245m \u001b[39m\u001b[38;5;36m'\u001b[39m\u001b[38;5;36mk\u001b[39m\u001b[38;5;36m'\u001b[39m\n",
      "\u001b[38;5;247mic\u001b[39m\u001b[38;5;245m|\u001b[39m\u001b[38;5;245m \u001b[39m\u001b[38;5;247mchar\u001b[39m\u001b[38;5;245m:\u001b[39m\u001b[38;5;245m \u001b[39m\u001b[38;5;36m'\u001b[39m\u001b[38;5;36m \u001b[39m\u001b[38;5;36m'\u001b[39m\n",
      "\u001b[38;5;247mic\u001b[39m\u001b[38;5;245m|\u001b[39m\u001b[38;5;245m \u001b[39m\u001b[38;5;247mchar\u001b[39m\u001b[38;5;245m:\u001b[39m\u001b[38;5;245m \u001b[39m\u001b[38;5;36m'\u001b[39m\u001b[38;5;36mb\u001b[39m\u001b[38;5;36m'\u001b[39m\n",
      "\u001b[38;5;247mic\u001b[39m\u001b[38;5;245m|\u001b[39m\u001b[38;5;245m \u001b[39m\u001b[38;5;247mchar\u001b[39m\u001b[38;5;245m:\u001b[39m\u001b[38;5;245m \u001b[39m\u001b[38;5;36m'\u001b[39m\u001b[38;5;36mr\u001b[39m\u001b[38;5;36m'\u001b[39m\n",
      "\u001b[38;5;247mic\u001b[39m\u001b[38;5;245m|\u001b[39m\u001b[38;5;245m \u001b[39m\u001b[38;5;247mchar\u001b[39m\u001b[38;5;245m:\u001b[39m\u001b[38;5;245m \u001b[39m\u001b[38;5;36m'\u001b[39m\u001b[38;5;36mo\u001b[39m\u001b[38;5;36m'\u001b[39m\n",
      "\u001b[38;5;247mic\u001b[39m\u001b[38;5;245m|\u001b[39m\u001b[38;5;245m \u001b[39m\u001b[38;5;247mchar\u001b[39m\u001b[38;5;245m:\u001b[39m\u001b[38;5;245m \u001b[39m\u001b[38;5;36m'\u001b[39m\u001b[38;5;36mw\u001b[39m\u001b[38;5;36m'\u001b[39m\n",
      "\u001b[38;5;247mic\u001b[39m\u001b[38;5;245m|\u001b[39m\u001b[38;5;245m \u001b[39m\u001b[38;5;247mchar\u001b[39m\u001b[38;5;245m:\u001b[39m\u001b[38;5;245m \u001b[39m\u001b[38;5;36m'\u001b[39m\u001b[38;5;36mn\u001b[39m\u001b[38;5;36m'\u001b[39m\n",
      "\u001b[38;5;247mic\u001b[39m\u001b[38;5;245m|\u001b[39m\u001b[38;5;245m \u001b[39m\u001b[38;5;247mchar\u001b[39m\u001b[38;5;245m:\u001b[39m\u001b[38;5;245m \u001b[39m\u001b[38;5;36m'\u001b[39m\u001b[38;5;36m \u001b[39m\u001b[38;5;36m'\u001b[39m\n",
      "\u001b[38;5;247mic\u001b[39m\u001b[38;5;245m|\u001b[39m\u001b[38;5;245m \u001b[39m\u001b[38;5;247mchar\u001b[39m\u001b[38;5;245m:\u001b[39m\u001b[38;5;245m \u001b[39m\u001b[38;5;36m'\u001b[39m\u001b[38;5;36mf\u001b[39m\u001b[38;5;36m'\u001b[39m\n",
      "\u001b[38;5;247mic\u001b[39m\u001b[38;5;245m|\u001b[39m\u001b[38;5;245m \u001b[39m\u001b[38;5;247mchar\u001b[39m\u001b[38;5;245m:\u001b[39m\u001b[38;5;245m \u001b[39m\u001b[38;5;36m'\u001b[39m\u001b[38;5;36mo\u001b[39m\u001b[38;5;36m'\u001b[39m\n",
      "\u001b[38;5;247mic\u001b[39m\u001b[38;5;245m|\u001b[39m\u001b[38;5;245m \u001b[39m\u001b[38;5;247mchar\u001b[39m\u001b[38;5;245m:\u001b[39m\u001b[38;5;245m \u001b[39m\u001b[38;5;36m'\u001b[39m\u001b[38;5;36mx\u001b[39m\u001b[38;5;36m'\u001b[39m\n",
      "\u001b[38;5;247mic\u001b[39m\u001b[38;5;245m|\u001b[39m\u001b[38;5;245m \u001b[39m\u001b[38;5;247mchar\u001b[39m\u001b[38;5;245m:\u001b[39m\u001b[38;5;245m \u001b[39m\u001b[38;5;36m'\u001b[39m\u001b[38;5;36m \u001b[39m\u001b[38;5;36m'\u001b[39m\n",
      "\u001b[38;5;247mic\u001b[39m\u001b[38;5;245m|\u001b[39m\u001b[38;5;245m \u001b[39m\u001b[38;5;247mchar\u001b[39m\u001b[38;5;245m:\u001b[39m\u001b[38;5;245m \u001b[39m\u001b[38;5;36m'\u001b[39m\u001b[38;5;36mj\u001b[39m\u001b[38;5;36m'\u001b[39m\n",
      "\u001b[38;5;247mic\u001b[39m\u001b[38;5;245m|\u001b[39m\u001b[38;5;245m \u001b[39m\u001b[38;5;247mchar\u001b[39m\u001b[38;5;245m:\u001b[39m\u001b[38;5;245m \u001b[39m\u001b[38;5;36m'\u001b[39m\u001b[38;5;36mu\u001b[39m\u001b[38;5;36m'\u001b[39m\n",
      "\u001b[38;5;247mic\u001b[39m\u001b[38;5;245m|\u001b[39m\u001b[38;5;245m \u001b[39m\u001b[38;5;247mchar\u001b[39m\u001b[38;5;245m:\u001b[39m\u001b[38;5;245m \u001b[39m\u001b[38;5;36m'\u001b[39m\u001b[38;5;36mm\u001b[39m\u001b[38;5;36m'\u001b[39m\n",
      "\u001b[38;5;247mic\u001b[39m\u001b[38;5;245m|\u001b[39m\u001b[38;5;245m \u001b[39m\u001b[38;5;247mchar\u001b[39m\u001b[38;5;245m:\u001b[39m\u001b[38;5;245m \u001b[39m\u001b[38;5;36m'\u001b[39m\u001b[38;5;36mp\u001b[39m\u001b[38;5;36m'\u001b[39m\n",
      "\u001b[38;5;247mic\u001b[39m\u001b[38;5;245m|\u001b[39m\u001b[38;5;245m \u001b[39m\u001b[38;5;247mchar\u001b[39m\u001b[38;5;245m:\u001b[39m\u001b[38;5;245m \u001b[39m\u001b[38;5;36m'\u001b[39m\u001b[38;5;36ms\u001b[39m\u001b[38;5;36m'\u001b[39m\n",
      "\u001b[38;5;247mic\u001b[39m\u001b[38;5;245m|\u001b[39m\u001b[38;5;245m \u001b[39m\u001b[38;5;247mchar\u001b[39m\u001b[38;5;245m:\u001b[39m\u001b[38;5;245m \u001b[39m\u001b[38;5;36m'\u001b[39m\u001b[38;5;36m \u001b[39m\u001b[38;5;36m'\u001b[39m\n",
      "\u001b[38;5;247mic\u001b[39m\u001b[38;5;245m|\u001b[39m\u001b[38;5;245m \u001b[39m\u001b[38;5;247mchar\u001b[39m\u001b[38;5;245m:\u001b[39m\u001b[38;5;245m \u001b[39m\u001b[38;5;36m'\u001b[39m\u001b[38;5;36mo\u001b[39m\u001b[38;5;36m'\u001b[39m\n",
      "\u001b[38;5;247mic\u001b[39m\u001b[38;5;245m|\u001b[39m\u001b[38;5;245m \u001b[39m\u001b[38;5;247mchar\u001b[39m\u001b[38;5;245m:\u001b[39m\u001b[38;5;245m \u001b[39m\u001b[38;5;36m'\u001b[39m\u001b[38;5;36mv\u001b[39m\u001b[38;5;36m'\u001b[39m\n",
      "\u001b[38;5;247mic\u001b[39m\u001b[38;5;245m|\u001b[39m\u001b[38;5;245m \u001b[39m\u001b[38;5;247mchar\u001b[39m\u001b[38;5;245m:\u001b[39m\u001b[38;5;245m \u001b[39m\u001b[38;5;36m'\u001b[39m\u001b[38;5;36me\u001b[39m\u001b[38;5;36m'\u001b[39m\n",
      "\u001b[38;5;247mic\u001b[39m\u001b[38;5;245m|\u001b[39m\u001b[38;5;245m \u001b[39m\u001b[38;5;247mchar\u001b[39m\u001b[38;5;245m:\u001b[39m\u001b[38;5;245m \u001b[39m\u001b[38;5;36m'\u001b[39m\u001b[38;5;36mr\u001b[39m\u001b[38;5;36m'\u001b[39m\n",
      "\u001b[38;5;247mic\u001b[39m\u001b[38;5;245m|\u001b[39m\u001b[38;5;245m \u001b[39m\u001b[38;5;247mchar\u001b[39m\u001b[38;5;245m:\u001b[39m\u001b[38;5;245m \u001b[39m\u001b[38;5;36m'\u001b[39m\u001b[38;5;36m \u001b[39m\u001b[38;5;36m'\u001b[39m\n",
      "\u001b[38;5;247mic\u001b[39m\u001b[38;5;245m|\u001b[39m\u001b[38;5;245m \u001b[39m\u001b[38;5;247mchar\u001b[39m\u001b[38;5;245m:\u001b[39m\u001b[38;5;245m \u001b[39m\u001b[38;5;36m'\u001b[39m\u001b[38;5;36ma\u001b[39m\u001b[38;5;36m'\u001b[39m\n",
      "\u001b[38;5;247mic\u001b[39m\u001b[38;5;245m|\u001b[39m\u001b[38;5;245m \u001b[39m\u001b[38;5;247mchar\u001b[39m\u001b[38;5;245m:\u001b[39m\u001b[38;5;245m \u001b[39m\u001b[38;5;36m'\u001b[39m\u001b[38;5;36m \u001b[39m\u001b[38;5;36m'\u001b[39m\n",
      "\u001b[38;5;247mic\u001b[39m\u001b[38;5;245m|\u001b[39m\u001b[38;5;245m \u001b[39m\u001b[38;5;247mchar\u001b[39m\u001b[38;5;245m:\u001b[39m\u001b[38;5;245m \u001b[39m\u001b[38;5;36m'\u001b[39m\u001b[38;5;36ml\u001b[39m\u001b[38;5;36m'\u001b[39m\n",
      "\u001b[38;5;247mic\u001b[39m\u001b[38;5;245m|\u001b[39m\u001b[38;5;245m \u001b[39m\u001b[38;5;247mchar\u001b[39m\u001b[38;5;245m:\u001b[39m\u001b[38;5;245m \u001b[39m\u001b[38;5;36m'\u001b[39m\u001b[38;5;36ma\u001b[39m\u001b[38;5;36m'\u001b[39m\n",
      "\u001b[38;5;247mic\u001b[39m\u001b[38;5;245m|\u001b[39m\u001b[38;5;245m \u001b[39m\u001b[38;5;247mchar\u001b[39m\u001b[38;5;245m:\u001b[39m\u001b[38;5;245m \u001b[39m\u001b[38;5;36m'\u001b[39m\u001b[38;5;36mz\u001b[39m\u001b[38;5;36m'\u001b[39m\n",
      "\u001b[38;5;247mic\u001b[39m\u001b[38;5;245m|\u001b[39m\u001b[38;5;245m \u001b[39m\u001b[38;5;247mchar\u001b[39m\u001b[38;5;245m:\u001b[39m\u001b[38;5;245m \u001b[39m\u001b[38;5;36m'\u001b[39m\u001b[38;5;36my\u001b[39m\u001b[38;5;36m'\u001b[39m\n",
      "\u001b[38;5;247mic\u001b[39m\u001b[38;5;245m|\u001b[39m\u001b[38;5;245m \u001b[39m\u001b[38;5;247mchar\u001b[39m\u001b[38;5;245m:\u001b[39m\u001b[38;5;245m \u001b[39m\u001b[38;5;36m'\u001b[39m\u001b[38;5;36m \u001b[39m\u001b[38;5;36m'\u001b[39m\n",
      "\u001b[38;5;247mic\u001b[39m\u001b[38;5;245m|\u001b[39m\u001b[38;5;245m \u001b[39m\u001b[38;5;247mchar\u001b[39m\u001b[38;5;245m:\u001b[39m\u001b[38;5;245m \u001b[39m\u001b[38;5;36m'\u001b[39m\u001b[38;5;36md\u001b[39m\u001b[38;5;36m'\u001b[39m\n",
      "\u001b[38;5;247mic\u001b[39m\u001b[38;5;245m|\u001b[39m\u001b[38;5;245m \u001b[39m\u001b[38;5;247mchar\u001b[39m\u001b[38;5;245m:\u001b[39m\u001b[38;5;245m \u001b[39m\u001b[38;5;36m'\u001b[39m\u001b[38;5;36mo\u001b[39m\u001b[38;5;36m'\u001b[39m\n",
      "\u001b[38;5;247mic\u001b[39m\u001b[38;5;245m|\u001b[39m\u001b[38;5;245m \u001b[39m\u001b[38;5;247mchar\u001b[39m\u001b[38;5;245m:\u001b[39m\u001b[38;5;245m \u001b[39m\u001b[38;5;36m'\u001b[39m\u001b[38;5;36mg\u001b[39m\u001b[38;5;36m'\u001b[39m\n"
     ]
    }
   ],
   "source": [
    "# sets \n",
    "\n",
    "# unique elements together\n",
    "\n",
    "unique_chars = set()\n",
    "\n",
    "x = 'he quick brown fox jumps over a lazy dog'\n",
    "\n",
    "for char in x:\n",
    "    ic(char)\n",
    "    if char >= 'a' and char <= 'z':\n",
    "        unique_chars.add(char)\n",
    "\n",
    "print(unique_chars, len(unique_chars))"
   ]
  },
  {
   "cell_type": "code",
   "execution_count": 120,
   "id": "2aa91195-394d-45a0-bbf8-67b691d8f037",
   "metadata": {},
   "outputs": [
    {
     "data": {
      "text/plain": [
       "True"
      ]
     },
     "execution_count": 120,
     "metadata": {},
     "output_type": "execute_result"
    }
   ],
   "source": [
    "'c' > 'a'"
   ]
  },
  {
   "cell_type": "code",
   "execution_count": 121,
   "id": "18dc7a19-7368-4454-8f92-2fe2cbb34efa",
   "metadata": {},
   "outputs": [
    {
     "data": {
      "text/plain": [
       "True"
      ]
     },
     "execution_count": 121,
     "metadata": {},
     "output_type": "execute_result"
    }
   ],
   "source": [
    "'c' < 'z'"
   ]
  },
  {
   "cell_type": "code",
   "execution_count": 122,
   "id": "14bec53d-c294-472d-8a44-d6d7f8077aa9",
   "metadata": {},
   "outputs": [
    {
     "data": {
      "text/plain": [
       "False"
      ]
     },
     "execution_count": 122,
     "metadata": {},
     "output_type": "execute_result"
    }
   ],
   "source": [
    "'a' > 'z'"
   ]
  },
  {
   "cell_type": "code",
   "execution_count": 123,
   "id": "b29198b0-4166-41b6-8b17-376fdbf087c7",
   "metadata": {},
   "outputs": [
    {
     "data": {
      "text/plain": [
       "True"
      ]
     },
     "execution_count": 123,
     "metadata": {},
     "output_type": "execute_result"
    }
   ],
   "source": [
    "'z' > 'a'"
   ]
  },
  {
   "cell_type": "code",
   "execution_count": 126,
   "id": "58919c6d-f6ab-4db8-b2bf-fa1c555fcb90",
   "metadata": {},
   "outputs": [
    {
     "name": "stdout",
     "output_type": "stream",
     "text": [
      "{'g', 'o', 'l', 'n', 'e', 'a', 'i', 's', 'r', 'w'} 10\n"
     ]
    }
   ],
   "source": [
    "# sets \n",
    "\n",
    "# unique elements together\n",
    "\n",
    "unique_chars = set()\n",
    "\n",
    "x = 'Mango is Yellow in Color'\n",
    "\n",
    "for char in x:\n",
    "    if char >= 'a' and char <= 'z':\n",
    "        unique_chars.add(char)\n",
    "\n",
    "print(unique_chars, len(unique_chars))"
   ]
  },
  {
   "cell_type": "code",
   "execution_count": 127,
   "id": "fd3f1bbd-7f4e-4433-845f-be683ad39067",
   "metadata": {},
   "outputs": [
    {
     "data": {
      "text/plain": [
       "24"
      ]
     },
     "execution_count": 127,
     "metadata": {},
     "output_type": "execute_result"
    }
   ],
   "source": [
    "len('Mango is Yellow in Color')"
   ]
  },
  {
   "cell_type": "code",
   "execution_count": null,
   "id": "81a2e1aa-b632-4938-bb00-d74fe1e62a63",
   "metadata": {},
   "outputs": [],
   "source": [
    "# The Dictionary and Set under the hood use hashing mechanism to store keys.\n",
    "\n",
    "# In dictionary , key: value\n",
    "# In sets, key1, key2, key3, key4, etc\n",
    "\n",
    "# Dictionary and Set are Unordered.\n",
    "\n",
    "# List, Tuple, are ordered in nature.\n",
    "\n",
    "# Searching an element/key in Dict & Sets is O(1) in nature\n",
    "\n",
    "# Searching an element/key in List & Tuple is O(n) in nature"
   ]
  },
  {
   "cell_type": "code",
   "execution_count": 129,
   "id": "385bc498-7c74-482b-94e7-468cdd67f5b7",
   "metadata": {},
   "outputs": [
    {
     "name": "stdout",
     "output_type": "stream",
     "text": [
      "1\n",
      "2\n",
      "3\n",
      "4\n",
      "5\n",
      "6\n",
      "7\n",
      "8\n",
      "9\n"
     ]
    }
   ],
   "source": [
    "# range(starting, endiing+1)\n",
    "for i in range(1, 10):\n",
    "    print(i)"
   ]
  },
  {
   "cell_type": "code",
   "execution_count": 137,
   "id": "d914e953-d395-4291-8490-424c2532d889",
   "metadata": {},
   "outputs": [
    {
     "name": "stderr",
     "output_type": "stream",
     "text": [
      "\u001b[38;5;247mic\u001b[39m\u001b[38;5;245m|\u001b[39m\u001b[38;5;245m \u001b[39m\u001b[38;5;247mtime_difference\u001b[39m\u001b[38;5;245m:\u001b[39m\u001b[38;5;245m \u001b[39m\u001b[38;5;36m3.001879930496216\u001b[39m\n"
     ]
    },
    {
     "data": {
      "text/plain": [
       "3.001879930496216"
      ]
     },
     "execution_count": 137,
     "metadata": {},
     "output_type": "execute_result"
    }
   ],
   "source": [
    "import time\n",
    "\n",
    "initial_time = time.time()\n",
    "time.sleep(3)\n",
    "ending_time = time.time()\n",
    "\n",
    "time_difference = ending_time - initial_time\n",
    "ic(time_difference)"
   ]
  },
  {
   "cell_type": "code",
   "execution_count": 143,
   "id": "0f89e8b0-3408-4406-82ec-fe37f4f5c5fa",
   "metadata": {},
   "outputs": [
    {
     "name": "stderr",
     "output_type": "stream",
     "text": [
      "\u001b[38;5;247mic\u001b[39m\u001b[38;5;245m|\u001b[39m\u001b[38;5;245m \u001b[39m\u001b[38;5;247mtime_difference\u001b[39m\u001b[38;5;245m:\u001b[39m\u001b[38;5;245m \u001b[39m\u001b[38;5;36m3.6671807765960693\u001b[39m\n"
     ]
    },
    {
     "data": {
      "text/plain": [
       "3.6671807765960693"
      ]
     },
     "execution_count": 143,
     "metadata": {},
     "output_type": "execute_result"
    }
   ],
   "source": [
    "import time\n",
    "large_list = []\n",
    "large_dict = {}\n",
    "initial_time = time.time()\n",
    "for i in range(1, 10000000):\n",
    "    large_list.append(\"mango\"+str(i))\n",
    "    large_dict[\"mango\"+str(i)] = i\n",
    "ending_time = time.time()\n",
    "time_difference = ending_time - initial_time\n",
    "ic(time_difference)"
   ]
  },
  {
   "cell_type": "code",
   "execution_count": 144,
   "id": "b19c2d65-f497-487e-9bb4-dc55247e4d34",
   "metadata": {},
   "outputs": [
    {
     "name": "stderr",
     "output_type": "stream",
     "text": [
      "\u001b[38;5;247mic\u001b[39m\u001b[38;5;245m|\u001b[39m\u001b[38;5;245m \u001b[39m\u001b[38;5;247mtime_difference\u001b[39m\u001b[38;5;245m:\u001b[39m\u001b[38;5;245m \u001b[39m\u001b[38;5;36m9.441375732421875e-05\u001b[39m\n"
     ]
    },
    {
     "data": {
      "text/plain": [
       "9.441375732421875e-05"
      ]
     },
     "execution_count": 144,
     "metadata": {},
     "output_type": "execute_result"
    }
   ],
   "source": [
    "initial_time = time.time()\n",
    "large_dict.get(\"mango100000\")\n",
    "ending_time = time.time()\n",
    "\n",
    "time_difference = ending_time - initial_time\n",
    "ic(time_difference)"
   ]
  },
  {
   "cell_type": "code",
   "execution_count": 145,
   "id": "53c7b10b-d53e-4d01-a041-468bc1a98ad8",
   "metadata": {},
   "outputs": [
    {
     "name": "stdout",
     "output_type": "stream",
     "text": [
      "found mango100000\n"
     ]
    },
    {
     "name": "stderr",
     "output_type": "stream",
     "text": [
      "\u001b[38;5;247mic\u001b[39m\u001b[38;5;245m|\u001b[39m\u001b[38;5;245m \u001b[39m\u001b[38;5;247mtime_difference\u001b[39m\u001b[38;5;245m:\u001b[39m\u001b[38;5;245m \u001b[39m\u001b[38;5;36m0.21183276176452637\u001b[39m\n"
     ]
    },
    {
     "data": {
      "text/plain": [
       "0.21183276176452637"
      ]
     },
     "execution_count": 145,
     "metadata": {},
     "output_type": "execute_result"
    }
   ],
   "source": [
    "initial_time = time.time()\n",
    "\n",
    "\n",
    "for num in large_list:\n",
    "    if num == \"mango100000\":\n",
    "        print('found', num)\n",
    "\n",
    "ending_time = time.time()\n",
    "\n",
    "time_difference = ending_time - initial_time\n",
    "ic(time_difference)"
   ]
  },
  {
   "cell_type": "code",
   "execution_count": 133,
   "id": "70789598-f649-4317-8604-c559daba6082",
   "metadata": {},
   "outputs": [
    {
     "data": {
      "text/plain": [
       "['mango1',\n",
       " 'mango2',\n",
       " 'mango3',\n",
       " 'mango4',\n",
       " 'mango5',\n",
       " 'mango6',\n",
       " 'mango7',\n",
       " 'mango8',\n",
       " 'mango9',\n",
       " 'mango10',\n",
       " 'mango11',\n",
       " 'mango12',\n",
       " 'mango13',\n",
       " 'mango14',\n",
       " 'mango15',\n",
       " 'mango16',\n",
       " 'mango17',\n",
       " 'mango18',\n",
       " 'mango19',\n",
       " 'mango20',\n",
       " 'mango21',\n",
       " 'mango22',\n",
       " 'mango23',\n",
       " 'mango24',\n",
       " 'mango25',\n",
       " 'mango26',\n",
       " 'mango27',\n",
       " 'mango28',\n",
       " 'mango29',\n",
       " 'mango30',\n",
       " 'mango31',\n",
       " 'mango32',\n",
       " 'mango33',\n",
       " 'mango34',\n",
       " 'mango35',\n",
       " 'mango36',\n",
       " 'mango37',\n",
       " 'mango38',\n",
       " 'mango39',\n",
       " 'mango40',\n",
       " 'mango41',\n",
       " 'mango42',\n",
       " 'mango43',\n",
       " 'mango44',\n",
       " 'mango45',\n",
       " 'mango46',\n",
       " 'mango47',\n",
       " 'mango48',\n",
       " 'mango49',\n",
       " 'mango50',\n",
       " 'mango51',\n",
       " 'mango52',\n",
       " 'mango53',\n",
       " 'mango54',\n",
       " 'mango55',\n",
       " 'mango56',\n",
       " 'mango57',\n",
       " 'mango58',\n",
       " 'mango59',\n",
       " 'mango60',\n",
       " 'mango61',\n",
       " 'mango62',\n",
       " 'mango63',\n",
       " 'mango64',\n",
       " 'mango65',\n",
       " 'mango66',\n",
       " 'mango67',\n",
       " 'mango68',\n",
       " 'mango69',\n",
       " 'mango70',\n",
       " 'mango71',\n",
       " 'mango72',\n",
       " 'mango73',\n",
       " 'mango74',\n",
       " 'mango75',\n",
       " 'mango76',\n",
       " 'mango77',\n",
       " 'mango78',\n",
       " 'mango79',\n",
       " 'mango80',\n",
       " 'mango81',\n",
       " 'mango82',\n",
       " 'mango83',\n",
       " 'mango84',\n",
       " 'mango85',\n",
       " 'mango86',\n",
       " 'mango87',\n",
       " 'mango88',\n",
       " 'mango89',\n",
       " 'mango90',\n",
       " 'mango91',\n",
       " 'mango92',\n",
       " 'mango93',\n",
       " 'mango94',\n",
       " 'mango95',\n",
       " 'mango96',\n",
       " 'mango97',\n",
       " 'mango98',\n",
       " 'mango99']"
      ]
     },
     "execution_count": 133,
     "metadata": {},
     "output_type": "execute_result"
    }
   ],
   "source": [
    "large_list"
   ]
  },
  {
   "cell_type": "code",
   "execution_count": null,
   "id": "7c1baa9b-5b63-4813-9a3d-870968d8ace6",
   "metadata": {},
   "outputs": [],
   "source": []
  }
 ],
 "metadata": {
  "kernelspec": {
   "display_name": "Python 3 (ipykernel)",
   "language": "python",
   "name": "python3"
  },
  "language_info": {
   "codemirror_mode": {
    "name": "ipython",
    "version": 3
   },
   "file_extension": ".py",
   "mimetype": "text/x-python",
   "name": "python",
   "nbconvert_exporter": "python",
   "pygments_lexer": "ipython3",
   "version": "3.9.23"
  }
 },
 "nbformat": 4,
 "nbformat_minor": 5
}
